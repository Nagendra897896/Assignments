{
 "cells": [
  {
   "cell_type": "code",
   "execution_count": null,
   "metadata": {},
   "outputs": [],
   "source": [
    "1.Write a Python Program to implement your own myreduce() function which works exactly like\n",
    "Python's built-in function reduce()"
   ]
  },
  {
   "cell_type": "code",
   "execution_count": 6,
   "metadata": {},
   "outputs": [
    {
     "data": {
      "text/plain": [
       "'sldfkjalskdjfalskdjf'"
      ]
     },
     "execution_count": 6,
     "metadata": {},
     "output_type": "execute_result"
    }
   ],
   "source": [
    "def myreduce(func, sequence):\n",
    "    result = sequence[0]\n",
    "    for item in sequence[1:]:\n",
    "        result = func(result, item)\n",
    "        \n",
    "    return result\n",
    "\n",
    "\n",
    "lst = ['sldfkj', 'alskdjf', 'alskdjf']\n",
    "myreduce(lambda a,b: a+b,lst)"
   ]
  },
  {
   "cell_type": "code",
   "execution_count": null,
   "metadata": {},
   "outputs": [],
   "source": [
    "2. Write a Python program to implement your own myfilter() function which works exactly like\n",
    "Python's built-in function filter()"
   ]
  },
  {
   "cell_type": "code",
   "execution_count": 10,
   "metadata": {},
   "outputs": [
    {
     "name": "stdout",
     "output_type": "stream",
     "text": [
      "The filtered letters are:\n",
      "e\n",
      "e\n"
     ]
    }
   ],
   "source": [
    "def myFilter(func, sequence):\n",
    "    result = []\n",
    "    for item in sequence:\n",
    "        if func(item):\n",
    "            result.append(item)\n",
    "\n",
    "    return result\n",
    "def func(variable): \n",
    "    letters = ['a', 'e', 'i', 'o', 'u'] \n",
    "    if (variable in letters): \n",
    "        return True\n",
    "    else: \n",
    "        return False\n",
    "\n",
    "sequence = ['g', 'e', 'e', 'j', 'k', 's', 'p', 'r'] \n",
    "  \n",
    "filtered = myFilter(func, sequence) \n",
    "  \n",
    "print('The filtered letters are:') \n",
    "for s in filtered: \n",
    "    print(s) "
   ]
  },
  {
   "cell_type": "code",
   "execution_count": null,
   "metadata": {},
   "outputs": [],
   "source": [
    "3. Implement List comprehensions to produce the following lists.\n",
    "Write List comprehensions to produce the following Lists\n",
    "['A', 'C', 'A', 'D', 'G', 'I', ’L’, ‘ D’]\n",
    "['x', 'xx', 'xxx', 'xxxx', 'y', 'yy', 'yyy', 'yyyy', 'z', 'zz', 'zzz', 'zzzz']\n",
    "['x', 'y', 'z', 'xx', 'yy', 'zz', 'xx', 'yy', 'zz', 'xxxx', 'yyyy', 'zzzz']\n",
    "[[2], [3], [4], [3], [4], [5], [4], [5], [6]]\n",
    "[[2, 3, 4, 5], [3, 4, 5, 6], [4, 5, 6, 7], [5, 6, 7, 8]]\n",
    "[(1, 1), (2, 1), (3, 1), (1, 2), (2, 2), (3, 2), (1, 3), (2, 3), (3, 3)]"
   ]
  },
  {
   "cell_type": "code",
   "execution_count": 42,
   "metadata": {},
   "outputs": [
    {
     "name": "stdout",
     "output_type": "stream",
     "text": [
      "['A', 'C', 'A', 'D', 'G', 'I', 'L', 'D']\n",
      "['x', 'xx', 'xxx', 'xxxx', 'y', 'yy', 'yyy', 'yyyy', 'z', 'zz', 'zzz', 'zzzz']\n",
      "['x', 'y', 'z', 'xx', 'yy', 'zz', 'xxx', 'yyy', 'zzz', 'xxxx', 'yyyy', 'zzzz']\n",
      "[[2], [3], [4], [3], [4], [5], [4], [5], [6]]\n",
      "[[2, 3, 4, 5], [3, 4, 5, 6], [4, 5, 6, 7], [5, 6, 7, 8]]\n",
      "[(1, 1), (2, 1), (3, 1), (1, 2), (2, 2), (3, 2), (1, 3), (2, 3), (3, 3)]\n"
     ]
    }
   ],
   "source": [
    "x = 'ACADGILD'\n",
    "y = [a for a in x]\n",
    "print(y)\n",
    "\n",
    "input_list = ['x','y','z']\n",
    "result = [item*num for item in input_list for num in range(1,5)]\n",
    "print(str(result))\n",
    "\n",
    "input_list = ['x','y', 'z']\n",
    "result = [item*num for num in range(1,5) for item in input_list]\n",
    "print(str(result))\n",
    "\n",
    "input_list = [2,3,4]\n",
    "result = [[item+num] for item in input_list for num in range(0,3)]\n",
    "print(str(result))\n",
    "\n",
    "input_list = [2,3,4,5]\n",
    "result = [[item+num for num in range(0,4)] for item in input_list]\n",
    "print(str(result))\n",
    "\n",
    "input_list = [1,2,3]\n",
    "result = [(item1, item) for item in input_list for item1 in input_list]\n",
    "print(str(result))"
   ]
  },
  {
   "cell_type": "code",
   "execution_count": null,
   "metadata": {},
   "outputs": [],
   "source": [
    "4. Implement a function longestWord() that takes a list of words and returns the longest one."
   ]
  },
  {
   "cell_type": "code",
   "execution_count": 5,
   "metadata": {},
   "outputs": [
    {
     "name": "stdout",
     "output_type": "stream",
     "text": [
      "Shyamu\n"
     ]
    }
   ],
   "source": [
    "def list_length(list):\n",
    "    length = 0\n",
    "    result =\"\"\n",
    "    for i in list:\n",
    "        if(len(i) > length):\n",
    "            result = i\n",
    "    return result\n",
    "list = ['hello', 'Ramu', 'I ', 'am', 'Shyamu']\n",
    "print(list_length(list))"
   ]
  },
  {
   "cell_type": "code",
   "execution_count": null,
   "metadata": {},
   "outputs": [],
   "source": [
    "5. Write a Python Program(with class concepts) to find the area of the triangle using the below\n",
    "formula.\n",
    "area = (s*(s-a)*(s-b)*(s-c)) ** 0.5\n",
    "Function to take the length of the sides of triangle from user should be defined in the parent\n",
    "class and function to calculate the area should be defined in subclass."
   ]
  },
  {
   "cell_type": "code",
   "execution_count": 6,
   "metadata": {},
   "outputs": [
    {
     "name": "stdout",
     "output_type": "stream",
     "text": [
      "Enter the 1st side of the triangle : 10\n",
      "Enter the 2nd side of the triangle : 5\n",
      "Enter the 3rd side of the triangle : 8\n",
      "19.81003533565753\n"
     ]
    }
   ],
   "source": [
    " \n",
    "class Area:\n",
    "    def a(a,b,c):\n",
    "        s=(a+b+c)/2\n",
    "        a = (s*(s-a)*(s-b)*(s-c))**0.5\n",
    "        return a\n",
    "class PrintAreaOfTriangle:\n",
    "    a = int(input(\"Enter the 1st side of the triangle : \"))\n",
    "    b = int(input(\"Enter the 2nd side of the triangle : \"))\n",
    "    c = int(input(\"Enter the 3rd side of the triangle : \"))\n",
    "    print(Area.a(a,b,c))\n",
    "    "
   ]
  },
  {
   "cell_type": "code",
   "execution_count": 25,
   "metadata": {},
   "outputs": [
    {
     "ename": "SyntaxError",
     "evalue": "invalid syntax (<ipython-input-25-09233a4dffe8>, line 1)",
     "output_type": "error",
     "traceback": [
      "\u001b[1;36m  File \u001b[1;32m\"<ipython-input-25-09233a4dffe8>\"\u001b[1;36m, line \u001b[1;32m1\u001b[0m\n\u001b[1;33m    6. Write a function filter_long_words() that takes a list of words and an integer n and returns the list\u001b[0m\n\u001b[1;37m           ^\u001b[0m\n\u001b[1;31mSyntaxError\u001b[0m\u001b[1;31m:\u001b[0m invalid syntax\n"
     ]
    }
   ],
   "source": [
    "6. Write a function filter_long_words() that takes a list of words and an integer n and returns the list\n",
    "of words that are longer than n."
   ]
  },
  {
   "cell_type": "code",
   "execution_count": 12,
   "metadata": {},
   "outputs": [
    {
     "name": "stdout",
     "output_type": "stream",
     "text": [
      "Enter the list of words : set function concept that maps map list of words into a \n",
      "Enter the number : 4\n",
      "The list of words greater than the given integer are :  ['function', 'concept', 'words']\n"
     ]
    }
   ],
   "source": [
    "def filter_long_words(words, number):\n",
    "    list1 = words.split(' ')\n",
    "    list = []\n",
    "    for i in list1:\n",
    "        if(len(i) > number):\n",
    "            list.append(i)\n",
    "    return list\n",
    "    \n",
    "def main():\n",
    "    list_words = input(\"Enter the list of words : \")\n",
    "    number = int(input(\"Enter the number : \"))\n",
    "    words1 = filter_long_words(list_words, number)\n",
    "    \n",
    "    print(\"The list of words greater than the given integer are : \", words1)\n",
    "main()\n",
    "    "
   ]
  },
  {
   "cell_type": "code",
   "execution_count": 13,
   "metadata": {},
   "outputs": [
    {
     "ename": "SyntaxError",
     "evalue": "invalid syntax (<ipython-input-13-1fceee314ce1>, line 1)",
     "output_type": "error",
     "traceback": [
      "\u001b[1;36m  File \u001b[1;32m\"<ipython-input-13-1fceee314ce1>\"\u001b[1;36m, line \u001b[1;32m1\u001b[0m\n\u001b[1;33m    7. Write a Python program using function concept that maps list of words into a list of integers\u001b[0m\n\u001b[1;37m           ^\u001b[0m\n\u001b[1;31mSyntaxError\u001b[0m\u001b[1;31m:\u001b[0m invalid syntax\n"
     ]
    }
   ],
   "source": [
    "7. Write a Python program using function concept that maps list of words into a list of integers\n",
    "representing the lengths of the corresponding words .\n",
    "Hint: If a list [ ab,cde,erty] is passed on to the python function output should come as [2,3,4]\n",
    "Here 2,3 and 4 are the lengths of the words in the list."
   ]
  },
  {
   "cell_type": "code",
   "execution_count": 14,
   "metadata": {},
   "outputs": [
    {
     "name": "stdout",
     "output_type": "stream",
     "text": [
      "Enter the count of words will be entered : 5\n",
      "Enter the words please : \n",
      "hello\n",
      "boy\n",
      "count\n",
      "of\n",
      "words\n",
      "The length of the corresponding words entered in the list :  [5, 3, 5, 2, 5]\n"
     ]
    }
   ],
   "source": [
    "def length_of_words(words):\n",
    "    list = []\n",
    "    for i in words:\n",
    "        list.append(len(i))\n",
    "    return list\n",
    "    \n",
    "def main():\n",
    "    count = int(input(\"Enter the count of words will be entered : \"))\n",
    "    words = []\n",
    "    print(\"Enter the words please : \")\n",
    "    for i in range(count):\n",
    "        words.append(input())\n",
    "    list = length_of_words(words)\n",
    "    print(\"The length of the corresponding words entered in the list : \", list)\n",
    "    \n",
    "main()\n",
    "    "
   ]
  },
  {
   "cell_type": "code",
   "execution_count": null,
   "metadata": {},
   "outputs": [],
   "source": [
    "8. Write a Python function which takes a character (i.e. a string of length 1) and returns True if it is\n",
    "a vowel, False otherwise.\n",
    "NOTE: The solution shared through Github should contain the source code used and\n",
    "the screenshot of the output."
   ]
  },
  {
   "cell_type": "code",
   "execution_count": 17,
   "metadata": {},
   "outputs": [
    {
     "name": "stdout",
     "output_type": "stream",
     "text": [
      "Enter a character to find out if it is an vowel or not : a\n"
     ]
    },
    {
     "data": {
      "text/plain": [
       "True"
      ]
     },
     "execution_count": 17,
     "metadata": {},
     "output_type": "execute_result"
    }
   ],
   "source": [
    "def isVowel():\n",
    "    c = input(\"Enter a character to find out if it is an vowel or not : \")\n",
    "    vowel = \"aeiou\"\n",
    "    if c in vowel:\n",
    "        return True\n",
    "    else : \n",
    "        return False\n",
    "    \n",
    "    \n",
    "isVowel()\n",
    "    "
   ]
  },
  {
   "cell_type": "code",
   "execution_count": null,
   "metadata": {},
   "outputs": [],
   "source": []
  }
 ],
 "metadata": {
  "kernelspec": {
   "display_name": "Python 3",
   "language": "python",
   "name": "python3"
  },
  "language_info": {
   "codemirror_mode": {
    "name": "ipython",
    "version": 3
   },
   "file_extension": ".py",
   "mimetype": "text/x-python",
   "name": "python",
   "nbconvert_exporter": "python",
   "pygments_lexer": "ipython3",
   "version": "3.7.4"
  }
 },
 "nbformat": 4,
 "nbformat_minor": 2
}
