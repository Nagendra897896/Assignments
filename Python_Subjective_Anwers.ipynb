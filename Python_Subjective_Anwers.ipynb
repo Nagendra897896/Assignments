{
 "cells": [
  {
   "cell_type": "code",
   "execution_count": null,
   "metadata": {},
   "outputs": [],
   "source": [
    "Q1. Write a Python program to get the string from the given string where all the occurrence of \n",
    "its first char has been changed to '$,' except first char itself? Sample String: 'prospect' Expected Result : 'pros$ect'"
   ]
  },
  {
   "cell_type": "code",
   "execution_count": null,
   "metadata": {},
   "outputs": [],
   "source": [
    "var = input(\"Enter a string : \")\n",
    "var1 = var[0]\n",
    "str = var.replace(input(), input())\n",
    "str = var1 + str[1:]\n",
    "print(str)"
   ]
  },
  {
   "cell_type": "code",
   "execution_count": null,
   "metadata": {},
   "outputs": [],
   "source": [
    "Q2. Write a Python program to get the single string from the two given strings, and separated by the space and \n",
    "swap the first two characters of each string? Sample String : 'abc', 'xyz'. Expected Result: 'xyc abz'"
   ]
  },
  {
   "cell_type": "code",
   "execution_count": null,
   "metadata": {},
   "outputs": [],
   "source": [
    "var = int(input(\"Enter the count of string : \"))\n",
    "list = []\n",
    "for i in range(var):\n",
    "    list.append(input())\n",
    "print(\"The list of string : \", list)\n",
    "for i in list:\n",
    "    str = str.concat(list)\n",
    "print(str)"
   ]
  },
  {
   "cell_type": "code",
   "execution_count": null,
   "metadata": {},
   "outputs": [],
   "source": [
    "Q3. Write the Python program to add 'ing' at the end of the given string (length of the string should be at least 3). \n",
    "If given string already ends with 'ing,' then add 'ly' instead. If string length of the given string is less than 3,\n",
    "leave it unchanged?\n",
    "\n",
    "Sample string: ' abc '\n",
    "Expected result: ' abcing ' \n",
    "Sample string: ' string ' \n",
    "Expected result: ' stringly '"
   ]
  },
  {
   "cell_type": "code",
   "execution_count": 19,
   "metadata": {},
   "outputs": [
    {
     "name": "stdout",
     "output_type": "stream",
     "text": [
      "Enter the count of string of three digits will be entered : 2\n",
      "Enter the three digit string\n",
      "abc\n",
      "String\n",
      "['abcing', 'Stringly']\n"
     ]
    }
   ],
   "source": [
    "n = int(input(\"Enter the count of string of three digits will be entered : \"))\n",
    "list = []\n",
    "print(\"Enter the three digit string\")\n",
    "for i in range(0,n):\n",
    "    list.append(input())\n",
    "    if(len(list[i]) < 3):\n",
    "        print(\"Please enter atleast a three digit string\")\n",
    "        list.pop(i)\n",
    "        break\n",
    "    else : \n",
    "        continue\n",
    "for i in range(0,n): \n",
    "    if list[i][-3:] != \"ing\":\n",
    "        list[i] += \"ing\"\n",
    "    elif list[i][-3:] == \"ing\":\n",
    "        list[i] += \"ly\"\n",
    "    else:\n",
    "        continue\n",
    "    \n",
    "print(list)"
   ]
  },
  {
   "cell_type": "code",
   "execution_count": null,
   "metadata": {},
   "outputs": [],
   "source": [
    "Q4. Write the Python program to find the first appearance of the substring 'not' and 'poor' from the given string, \n",
    "if 'not' follows the 'poor', replace the whole 'not'...' poor' substring with 'good'.Return the resulting string."
   ]
  },
  {
   "cell_type": "code",
   "execution_count": 35,
   "metadata": {},
   "outputs": [
    {
     "name": "stdout",
     "output_type": "stream",
     "text": [
      "Enter a string : This is not a poor thing\n",
      "This is good thing\n"
     ]
    }
   ],
   "source": [
    "string = input(\"Enter a string : \")\n",
    "string1 = string.find(\"not\")\n",
    "string2 = string.find(\"poor\")\n",
    "print(string.replace(string[string1:(string2+4)], \"good\" ))"
   ]
  },
  {
   "cell_type": "code",
   "execution_count": null,
   "metadata": {},
   "outputs": [],
   "source": [
    "Q5. Write the Python program to remove the characters which have odd index values of a given string."
   ]
  },
  {
   "cell_type": "code",
   "execution_count": 6,
   "metadata": {},
   "outputs": [
    {
     "name": "stdout",
     "output_type": "stream",
     "text": [
      "Enter a string : Hello\n",
      "Hlo\n"
     ]
    }
   ],
   "source": [
    "string = input(\"Enter a string : \")\n",
    "result = \"\"\n",
    "for i in range(len(string)):\n",
    "    if i%2 == 0:\n",
    "        result = result + string[i]\n",
    "print(result)\n"
   ]
  },
  {
   "cell_type": "code",
   "execution_count": null,
   "metadata": {},
   "outputs": [],
   "source": [
    "Q6. Write the Python function to get a string made of 4 copies of the last two characters of the specified string \n",
    "(length must be at least 2).\n",
    "Sample function and result : insert-end ('Python') -> abababab insert-end('Exercises') -> jkjkjkjk"
   ]
  },
  {
   "cell_type": "code",
   "execution_count": 8,
   "metadata": {},
   "outputs": [
    {
     "name": "stdout",
     "output_type": "stream",
     "text": [
      "Enter a string : jf\n",
      "Please enter some more characters into the string. \n"
     ]
    }
   ],
   "source": [
    "string = input(\"Enter a string : \")\n",
    "result  =  \"\"\n",
    "if len(string) > 2:\n",
    "    result = string[-2:]\n",
    "    print(result*4)\n",
    "else :\n",
    "    print(\"String length must be atleast 2 \")"
   ]
  },
  {
   "cell_type": "code",
   "execution_count": null,
   "metadata": {},
   "outputs": [],
   "source": [
    "Q7. Write the python function to get a string made of its first three characters of a specified string. \n",
    "If the length of the string is less than 3 then return the original string.\n",
    "Sample function and result : first-three('ipy') -> ipy first-three('python') -> pyt"
   ]
  },
  {
   "cell_type": "code",
   "execution_count": 12,
   "metadata": {},
   "outputs": [
    {
     "name": "stdout",
     "output_type": "stream",
     "text": [
      "Enter a string : ram\n",
      "ram\n"
     ]
    }
   ],
   "source": [
    "string = input(\"Enter a string : \")\n",
    "if len(string) >= 3:\n",
    "    print(string[:3])\n",
    "else : \n",
    "    print(string)"
   ]
  },
  {
   "cell_type": "code",
   "execution_count": null,
   "metadata": {},
   "outputs": [],
   "source": [
    "Q8. Write the python program to print the following floating numbers up to 2 decimal places?"
   ]
  },
  {
   "cell_type": "code",
   "execution_count": 16,
   "metadata": {},
   "outputs": [
    {
     "name": "stdout",
     "output_type": "stream",
     "text": [
      "Enter a number with decimals : 3.222222\n",
      "3.22\n"
     ]
    }
   ],
   "source": [
    "i = float(input(\"Enter a number with decimals : \"))\n",
    "print(format(i,'.2f'))\n",
    "print(round(i, 2))"
   ]
  },
  {
   "cell_type": "code",
   "execution_count": null,
   "metadata": {},
   "outputs": [],
   "source": [
    "Q9. Write the Python program to format a number with a percentage?"
   ]
  },
  {
   "cell_type": "code",
   "execution_count": 24,
   "metadata": {},
   "outputs": [
    {
     "name": "stdout",
     "output_type": "stream",
     "text": [
      "Enter the number : 1\n",
      "100%\n"
     ]
    }
   ],
   "source": [
    "i = float(input(\"Enter the number : \"))\n",
    "percentage = \"{:.0%}\".format(i)\n",
    "print(percentage)"
   ]
  },
  {
   "cell_type": "code",
   "execution_count": null,
   "metadata": {},
   "outputs": [],
   "source": [
    "Q10. Write the Python program to count occurrences of a substring in a String?"
   ]
  },
  {
   "cell_type": "code",
   "execution_count": null,
   "metadata": {},
   "outputs": [],
   "source": [
    "string = input(\"Enter a string : \")\n",
    "substring = input(\"Substring to find: \")\n",
    "print(string.count(substring))"
   ]
  },
  {
   "cell_type": "code",
   "execution_count": null,
   "metadata": {},
   "outputs": [],
   "source": [
    "Q11. Write the Python program to count repeated characters in a string.\n",
    "Sample string: ' thequickbrownjumpsoverthelazydog ' Expected output: o 3 e 3 u 2 h 2 r 2 t 2 "
   ]
  },
  {
   "cell_type": "code",
   "execution_count": 6,
   "metadata": {},
   "outputs": [
    {
     "name": "stdout",
     "output_type": "stream",
     "text": [
      "e 3\n",
      "o 3\n",
      "t 2\n",
      "h 2\n",
      "u 2\n",
      "r 2\n"
     ]
    }
   ],
   "source": [
    "import collections\n",
    "string = \"thequickbrownjumpsoverthelazydog\"\n",
    "str = collections.defaultdict(int)\n",
    "for char in string:\n",
    "    str[char] += 1\n",
    "    \n",
    "for char in sorted(str, key=str.get, reverse=True):\n",
    "    if str[char] > 1:\n",
    "        print('%s %d' % (char, str[char]))\n"
   ]
  },
  {
   "cell_type": "code",
   "execution_count": null,
   "metadata": {},
   "outputs": [],
   "source": [
    "Q12. Write the Python program to print the square and cube symbol in the area of a rectangle and volume of a cylinder?\n",
    "Sample output- The area of the rectangle is 1256.66cm2 The volume of the cylinder is 1254.725cm3"
   ]
  },
  {
   "cell_type": "code",
   "execution_count": 12,
   "metadata": {},
   "outputs": [
    {
     "name": "stdout",
     "output_type": "stream",
     "text": [
      "The area of the rectangle is 1256.66cm²\n",
      "The area of the rectangle is 1254.725cm³\n"
     ]
    }
   ],
   "source": [
    "area = 1256.66\n",
    "volume = 1254.725\n",
    "decimal1=2\n",
    "decimal2=3\n",
    "print(\"The area of the rectangle is {0:.{1}f}cm\\u00b2\".format(area,decimal1))\n",
    "print(\"The area of the rectangle is {0:.{1}f}cm\\u00b3\".format(volume,decimal2))"
   ]
  },
  {
   "cell_type": "code",
   "execution_count": null,
   "metadata": {},
   "outputs": [],
   "source": [
    "Q13. Write the Python program to check if a string contains all letters of the alphabet"
   ]
  },
  {
   "cell_type": "code",
   "execution_count": 17,
   "metadata": {},
   "outputs": [
    {
     "name": "stdout",
     "output_type": "stream",
     "text": [
      "Enter a string to check if it contains all letters of the alphabet : abcd\n",
      "False\n"
     ]
    }
   ],
   "source": [
    "string = input(\"Enter a string to check if it contains all letters of the alphabet : \")\n",
    "alphabets = \"abcdefghijklmnopqrstuvwxyz\"\n",
    "if string.lower() >= alphabets:\n",
    "    print(True)\n",
    "else:\n",
    "    print(False)"
   ]
  },
  {
   "cell_type": "code",
   "execution_count": null,
   "metadata": {},
   "outputs": [],
   "source": [
    "Q14. Write the Python program to find the second most repeated word in a given string?"
   ]
  },
  {
   "cell_type": "code",
   "execution_count": 13,
   "metadata": {},
   "outputs": [
    {
     "name": "stdout",
     "output_type": "stream",
     "text": [
      "Enter a string : of the way of the may of the why of \n",
      "('the', 3)\n"
     ]
    }
   ],
   "source": [
    "string = input(\"Enter a string : \")\n",
    "list = string.split()\n",
    "counter = dict()\n",
    "for i in list:\n",
    "    if i in counter:\n",
    "        counter[i] +=1\n",
    "    else:\n",
    "        counter[i] = 1\n",
    "\n",
    "words = sorted(counter.items(), key=lambda k: k[1])\n",
    "print(words[-2])"
   ]
  },
  {
   "cell_type": "code",
   "execution_count": null,
   "metadata": {},
   "outputs": [],
   "source": [
    "Q15. Write the Python program to find the minimum window in the given string, which will contains all the characters of another \n",
    "given strings?\n",
    "Example 1 Input : string1 = \" PRWSOERIUSFK \" string2 = \" OSU \" Output: Minimum window is \"OERIUS\""
   ]
  },
  {
   "cell_type": "code",
   "execution_count": 11,
   "metadata": {},
   "outputs": [
    {
     "name": "stdout",
     "output_type": "stream",
     "text": [
      "Enter a string : PRWSOERIUSFK\n",
      "Enter a substring OSU\n",
      "original given string is \n",
      " str1 =  PRWSOERIUSFK \n",
      " str2 =  OSU\n",
      "Minimum window :  OERIUS\n"
     ]
    }
   ],
   "source": [
    "import collections\n",
    "string1 = input(\"Enter a string : \")\n",
    "string2 = input(\"Enter a substring \")\n",
    "print(\"original given strings are \\n\", \"str1 = \" ,string1, \"\\n\", \"str2 = \", string2)\n",
    "a = collections.Counter(string2)\n",
    "b = len(string2)\n",
    "i = j = k = 0\n",
    "for p,q in enumerate(string1, 1):\n",
    "    b -= a[q] > 0\n",
    "    a[q] -= 1\n",
    "    if not b:\n",
    "        while i < k and a[string1[i]] < 0:\n",
    "            a[string1[i]] += 1\n",
    "            i += 1\n",
    "        if not k or p - i <= k-j:\n",
    "            j, k = i, p\n",
    "print(\"Minimum window : \", string1[j: k])"
   ]
  },
  {
   "cell_type": "code",
   "execution_count": null,
   "metadata": {},
   "outputs": [],
   "source": [
    "Q16. Write the Python program to find smallest window that contains all characters of the given string?\n",
    "Original Strings: asdaewsqgtwwsa Smallest window that contains all characters of the said string:Daewsqgt"
   ]
  },
  {
   "cell_type": "code",
   "execution_count": 17,
   "metadata": {},
   "outputs": [
    {
     "name": "stdout",
     "output_type": "stream",
     "text": [
      "Enter the string abcdefghijklmnopqrstuvwxyzabcdefghijklmnopqrstuvwxyz\n",
      "original string :  abcdefghijklmnopqrstuvwxyzabcdefghijklmnopqrstuvwxyz\n",
      "Smallest window is : \n",
      "abcdefghijklmnopqrstuvwxyz\n"
     ]
    }
   ],
   "source": [
    "from collections import defaultdict\n",
    "def sub(str):\n",
    "    string_len = len(str)\n",
    "    count = len(set([x for x in str]))\n",
    "    ctr, start, start_index, min_len = 0,0,-1,999999999\n",
    "    curr_count = defaultdict(lambda:0)\n",
    "    for i in range(string_len):\n",
    "        curr_count[str[i]] +=1\n",
    "        if curr_count[str[i]] == 1:\n",
    "            ctr +=1\n",
    "        if ctr == count:\n",
    "            while curr_count[str[start]] > 1:\n",
    "                if curr_count[str[start]] > 1:\n",
    "                    curr_count[str[start]] -= 1\n",
    "                start += 1\n",
    "            len_window = i - start + 1\n",
    "            if min_len > len_window:\n",
    "                min_len = len_window\n",
    "                start_index = start\n",
    "    return str[start_index: start_index + min_len]\n",
    "string1 = input(\"Enter the string \")\n",
    "print(\"original string : \", string1)\n",
    "print(\"Smallest window is : \")\n",
    "print(sub(string1))"
   ]
  },
  {
   "cell_type": "code",
   "execution_count": null,
   "metadata": {},
   "outputs": [],
   "source": [
    "Q17. Write the Python program to count number of substrings from a given string of lowercase alphabets with exactly k distinct \n",
    "(given) characters?\n",
    "Input a string (lowercase alphabets): wolf Input k: 4 Number of substrings with exactly 4 distinct characters: 1"
   ]
  },
  {
   "cell_type": "code",
   "execution_count": 2,
   "metadata": {},
   "outputs": [
    {
     "name": "stdout",
     "output_type": "stream",
     "text": [
      "Enter the string : Wolf\n",
      "input the distinct count : 4\n",
      "Number of sub strings with  4  distinct from the input string are 1\n"
     ]
    }
   ],
   "source": [
    "def countSubString(str, k):\n",
    "    str_len = len(str)\n",
    "    result = 0\n",
    "    ctr = [0]*27\n",
    "    for i in range(0, str_len):\n",
    "        sub_ctr = 0\n",
    "        for j in range(i, str_len):\n",
    "            if(ctr[ord(str[j]) - 97] == 0):\n",
    "                sub_ctr += 1\n",
    "            ctr[ord(str[j]) - 97] += 1\n",
    "            if(sub_ctr == k ):\n",
    "                result +=1\n",
    "            if(sub_ctr > k ):\n",
    "                break\n",
    "    return result\n",
    "str = input(\"Enter the string : \")\n",
    "k = int(input(\"input the distinct count : \"))\n",
    "print(\"Number of sub strings with \" , k  , \" distinct from the input string are \", end = \"\")\n",
    "print(countSubString(str1.lower(), k))"
   ]
  },
  {
   "cell_type": "code",
   "execution_count": null,
   "metadata": {},
   "outputs": [],
   "source": [
    "Q18. Write the Python program to count number of non-empty substrings of the given string? \n",
    "Input a string: w3resource Number of substrings: 55"
   ]
  },
  {
   "cell_type": "code",
   "execution_count": 3,
   "metadata": {},
   "outputs": [
    {
     "name": "stdout",
     "output_type": "stream",
     "text": [
      "Enter a stringwolf\n",
      "Number of sub string =  10\n"
     ]
    }
   ],
   "source": [
    "string = input(\"Enter a string :\")\n",
    "str_len = len(string)\n",
    "count = int(str_len * (str_len + 1)/2)\n",
    "print(\"Number of sub string = \" , count)"
   ]
  },
  {
   "cell_type": "code",
   "execution_count": null,
   "metadata": {},
   "outputs": [],
   "source": [
    "Q19. Write the Python program to count number of substrings with same first and last characters of the given string?\n",
    "Input a string: abcd 4"
   ]
  },
  {
   "cell_type": "code",
   "execution_count": 15,
   "metadata": {},
   "outputs": [
    {
     "name": "stdout",
     "output_type": "stream",
     "text": [
      "Enter a string : wolf\n",
      "Number of substrings with same first and last characters of the given string :  4\n"
     ]
    }
   ],
   "source": [
    "string = input(\"Enter a string : \")\n",
    "str_len = len(string)\n",
    "count = 0\n",
    "for i in range(str_len):\n",
    "    for j in range(i, str_len):\n",
    "        if(string[i] == string[j]):\n",
    "            count = count + 1\n",
    "print(\"Number of substrings with same first and last characters of the given string : \", count)"
   ]
  },
  {
   "cell_type": "code",
   "execution_count": null,
   "metadata": {},
   "outputs": [],
   "source": [
    "Q20. Write the Python program to count the number of strings where the string length is 2 or more, and first and last character\n",
    "are same from a given list of strings.\n",
    "Sample List : ['abc', 'xyz', 'wxw', '1331'] Expected Result: 2"
   ]
  },
  {
   "cell_type": "code",
   "execution_count": 5,
   "metadata": {},
   "outputs": [
    {
     "name": "stdout",
     "output_type": "stream",
     "text": [
      "Enter the count of elements in the list : 3\n",
      "Enter the strings into the list :\n",
      "abc\n",
      "wow\n",
      "131\n",
      "The number of strings where the string length is 2 or more, and first and last character :  2\n"
     ]
    }
   ],
   "source": [
    "n = int(input(\"Enter the count of elements in the list : \"))\n",
    "list = []\n",
    "count = 0\n",
    "print(\"Enter the strings into the list :\")\n",
    "for i in range(0,n):\n",
    "    a = input()\n",
    "    list.append(a)\n",
    "for word in list:\n",
    "    if(len(word) > 1 and word[0] == word[-1]):\n",
    "        count += 1\n",
    "print(\"The number of strings where the string length is 2 or more, and first and last character : \", count)"
   ]
  },
  {
   "cell_type": "code",
   "execution_count": null,
   "metadata": {},
   "outputs": [],
   "source": [
    "Q21. Write the Python program to get a list, sorted in increasing order by the last element in each tuple from the given list \n",
    "of non-empty tuples?\n",
    "Sample List - [ (2, 5), (1, 2), (4, 4), (2, 3), (2, 1) ] Expected Result - [ (2, 1), (1, 2), (2, 3), (4, 4), (2, 5) ]"
   ]
  },
  {
   "cell_type": "code",
   "execution_count": 16,
   "metadata": {},
   "outputs": [
    {
     "ename": "TypeError",
     "evalue": "'int' object is not subscriptable",
     "output_type": "error",
     "traceback": [
      "\u001b[1;31m---------------------------------------------------------------------------\u001b[0m",
      "\u001b[1;31mTypeError\u001b[0m                                 Traceback (most recent call last)",
      "\u001b[1;32m<ipython-input-16-035983c767b1>\u001b[0m in \u001b[0;36m<module>\u001b[1;34m\u001b[0m\n\u001b[0;32m      1\u001b[0m \u001b[0mlist\u001b[0m \u001b[1;33m=\u001b[0m \u001b[1;33m[\u001b[0m \u001b[1;33m(\u001b[0m\u001b[1;36m2\u001b[0m\u001b[1;33m,\u001b[0m \u001b[1;36m5\u001b[0m\u001b[1;33m)\u001b[0m\u001b[1;33m,\u001b[0m \u001b[1;33m(\u001b[0m\u001b[1;36m1\u001b[0m\u001b[1;33m,\u001b[0m \u001b[1;36m2\u001b[0m\u001b[1;33m)\u001b[0m\u001b[1;33m,\u001b[0m \u001b[1;33m(\u001b[0m\u001b[1;36m4\u001b[0m\u001b[1;33m,\u001b[0m \u001b[1;36m4\u001b[0m\u001b[1;33m)\u001b[0m\u001b[1;33m,\u001b[0m \u001b[1;33m(\u001b[0m\u001b[1;36m2\u001b[0m\u001b[1;33m,\u001b[0m \u001b[1;36m3\u001b[0m\u001b[1;33m)\u001b[0m\u001b[1;33m,\u001b[0m \u001b[1;33m(\u001b[0m\u001b[1;36m2\u001b[0m\u001b[1;33m,\u001b[0m \u001b[1;36m1\u001b[0m\u001b[1;33m)\u001b[0m \u001b[1;33m]\u001b[0m\u001b[1;33m\u001b[0m\u001b[1;33m\u001b[0m\u001b[0m\n\u001b[0;32m      2\u001b[0m \u001b[1;33m\u001b[0m\u001b[0m\n\u001b[1;32m----> 3\u001b[1;33m \u001b[0mprint\u001b[0m\u001b[1;33m(\u001b[0m\u001b[0msorted\u001b[0m\u001b[1;33m(\u001b[0m\u001b[0mlist\u001b[0m\u001b[1;33m,\u001b[0m \u001b[0mkey\u001b[0m \u001b[1;33m=\u001b[0m \u001b[0mn\u001b[0m\u001b[1;33m[\u001b[0m\u001b[1;33m-\u001b[0m\u001b[1;36m1\u001b[0m\u001b[1;33m]\u001b[0m\u001b[1;33m)\u001b[0m\u001b[1;33m)\u001b[0m\u001b[1;33m\u001b[0m\u001b[1;33m\u001b[0m\u001b[0m\n\u001b[0m",
      "\u001b[1;31mTypeError\u001b[0m: 'int' object is not subscriptable"
     ]
    }
   ],
   "source": [
    "list = [ (2, 5), (1, 2), (4, 4), (2, 3), (2, 1) ]\n",
    "def sorting_increasing_order(n):\n",
    "    return n[-1]\n",
    "print(sorted(list, key = sorting_increasing_order))"
   ]
  },
  {
   "cell_type": "code",
   "execution_count": null,
   "metadata": {},
   "outputs": [],
   "source": [
    "Q22. Write the Python program to remove duplicates from a list?"
   ]
  },
  {
   "cell_type": "code",
   "execution_count": 23,
   "metadata": {},
   "outputs": [
    {
     "name": "stdout",
     "output_type": "stream",
     "text": [
      "Enter the count of number to be entered into the list : 5\n",
      "1\n",
      "4\n",
      "1\n",
      "2\n",
      "4\n",
      "['1', '4', '2']\n"
     ]
    }
   ],
   "source": [
    "n = int(input(\"Enter the count of number to be entered into the list : \"))\n",
    "list = []\n",
    "for i in range(0,n):\n",
    "    a = input()\n",
    "    list.append(a)\n",
    "duplicates = set()\n",
    "uniques = []\n",
    "for x in list:\n",
    "    if x not in duplicates:\n",
    "        uniques.append(x)\n",
    "        duplicates.add(x)\n",
    "print(uniques)"
   ]
  },
  {
   "cell_type": "code",
   "execution_count": null,
   "metadata": {},
   "outputs": [],
   "source": [
    "Q23. Write the Python program to find the list of words that are longer than n from a given list of words?"
   ]
  },
  {
   "cell_type": "code",
   "execution_count": 28,
   "metadata": {},
   "outputs": [
    {
     "name": "stdout",
     "output_type": "stream",
     "text": [
      "Enter the scentence The python program to print a specified list after \n",
      "Enter the n value 5\n",
      "['python', 'program', 'specified']\n"
     ]
    }
   ],
   "source": [
    "string = input(\"Enter the scentence \")\n",
    "num = int(input(\"Enter the n value \"))\n",
    "list = []\n",
    "text = string.split()\n",
    "for a in text:\n",
    "    if(len(a) > num ):\n",
    "        list.append(a)\n",
    "print(list)"
   ]
  },
  {
   "cell_type": "code",
   "execution_count": 27,
   "metadata": {},
   "outputs": [
    {
     "ename": "SyntaxError",
     "evalue": "invalid syntax (<ipython-input-27-9e275931db3e>, line 2)",
     "output_type": "error",
     "traceback": [
      "\u001b[1;36m  File \u001b[1;32m\"<ipython-input-27-9e275931db3e>\"\u001b[1;36m, line \u001b[1;32m2\u001b[0m\n\u001b[1;33m    Sample List - ['Red', 'Green', 'White', 'Black', 'Pink', 'Yellow'] Expected Output - ['Green', 'White', 'Black']\u001b[0m\n\u001b[1;37m              ^\u001b[0m\n\u001b[1;31mSyntaxError\u001b[0m\u001b[1;31m:\u001b[0m invalid syntax\n"
     ]
    }
   ],
   "source": [
    "Q24. Write the Python program to print a specified list after removing the 0th, 4th, and 5th elements?\n",
    "Sample List - ['Red', 'Green', 'White', 'Black', 'Pink', 'Yellow'] Expected Output - ['Green', 'White', 'Black']"
   ]
  },
  {
   "cell_type": "code",
   "execution_count": 43,
   "metadata": {},
   "outputs": [
    {
     "name": "stdout",
     "output_type": "stream",
     "text": [
      "['Red', 'Green', 'White', 'Black', 'Yellow']\n"
     ]
    }
   ],
   "source": [
    "list = ['Red', 'Green', 'White', 'Black', 'Pink', 'Yellow']\n",
    "list = [x for (i, x) in enumerate(list) if i not in (0,4,5)]\n",
    "print(list)"
   ]
  },
  {
   "cell_type": "code",
   "execution_count": null,
   "metadata": {},
   "outputs": [],
   "source": [
    "Q25. Write the Python program to generate all permutations of a list in Python?"
   ]
  },
  {
   "cell_type": "code",
   "execution_count": 61,
   "metadata": {},
   "outputs": [
    {
     "name": "stdout",
     "output_type": "stream",
     "text": [
      "Enter the numbers : 3\n",
      "1\n",
      "2\n",
      "3\n",
      "(1, 2, 3)\n",
      "(1, 3, 2)\n",
      "(2, 1, 3)\n",
      "(2, 3, 1)\n",
      "(3, 1, 2)\n",
      "(3, 2, 1)\n"
     ]
    }
   ],
   "source": [
    "import itertools\n",
    "list = []\n",
    "l = []\n",
    "n = int(input(\"Enter the numbers : \"))\n",
    "for i in range(n):\n",
    "    a = int(input())\n",
    "    l.append(a)\n",
    "list = itertools.permutations(l)\n",
    "for i in list:\n",
    "    print(i)"
   ]
  },
  {
   "cell_type": "code",
   "execution_count": null,
   "metadata": {},
   "outputs": [],
   "source": [
    "Q26. Write the Python program to convert a pair of values into a sorted unique array? \n",
    "Original List- [ (1, 2), (3, 4), (1, 2), (5, 6), (7, 8), (1, 2), (3, 4), (3, 4), (7, 8), (9, 10) ]\n",
    "Sorted Unique Data- [ 1, 2, 3, 4, 5, 6, 7, 8, 9, 10 ]"
   ]
  },
  {
   "cell_type": "code",
   "execution_count": 62,
   "metadata": {},
   "outputs": [
    {
     "name": "stdout",
     "output_type": "stream",
     "text": [
      "[(1, 2), (3, 4), (1, 2), (5, 6), (7, 8), (1, 2), (3, 4), (3, 4), (7, 8), (9, 10)]\n",
      "sorted unique array :  [1, 2, 3, 4, 5, 6, 7, 8, 9, 10]\n"
     ]
    }
   ],
   "source": [
    "List= [ (1, 2), (3, 4), (1, 2), (5, 6), (7, 8), (1, 2), (3, 4), (3, 4), (7, 8), (9, 10) ]\n",
    "print(List)\n",
    "print(\"sorted unique array : \", sorted(set().union(*List)))"
   ]
  },
  {
   "cell_type": "code",
   "execution_count": null,
   "metadata": {},
   "outputs": [],
   "source": [
    "Q27. Write the Python class to convert an integer to a roman numeral?"
   ]
  },
  {
   "cell_type": "code",
   "execution_count": 11,
   "metadata": {},
   "outputs": [
    {
     "name": "stdout",
     "output_type": "stream",
     "text": [
      "Enter the number : 4000\n",
      "MMMM\n"
     ]
    }
   ],
   "source": [
    "class Roman_numeral:\n",
    "    def integers(num):\n",
    "        value = [1000, 900, 500, 400, 100, 90, 50, 40, 10, 9, 5, 4, 1]\n",
    "        symbol = [\"M\", \"CM\", \"D\", \"CD\",\"C\", \"XC\", \"L\", \"XL\",\"X\", \"IX\", \"V\", \"IV\",\"I\"]\n",
    "        number = ''\n",
    "        j = 0\n",
    "        while num > 0:\n",
    "            for i in range(num // value[j]):\n",
    "                number += symbol[j]\n",
    "                num -= value[j]\n",
    "            j += 1\n",
    "        return number\n",
    "a = int(input(\"Enter the number : \"))\n",
    "print(\"The roman number of \", a \" is : \" , Roman_numeral.integers(a))"
   ]
  },
  {
   "cell_type": "code",
   "execution_count": null,
   "metadata": {},
   "outputs": [],
   "source": [
    "Q28 Write the Python class to convert a Roman numeral to an integer?"
   ]
  },
  {
   "cell_type": "code",
   "execution_count": 34,
   "metadata": {},
   "outputs": [
    {
     "name": "stdout",
     "output_type": "stream",
     "text": [
      "Enter the number : CC\n",
      "The roman number of CC is :  200\n"
     ]
    }
   ],
   "source": [
    "class Roman_numeral:\n",
    "    def romans(a):\n",
    "        values = {'I': 1, 'V': 5, 'X': 10, 'L': 50, 'C': 100, 'D': 500, 'M': 1000}\n",
    "        i = 0\n",
    "        for j in range(len(a)):\n",
    "            if j > 0 and values[a[j]] > values[a[j-1]]:\n",
    "                i += values[a[j]] - 2 * values[a[j-1]]\n",
    "            else:\n",
    "                i = i +  values[a[j]]\n",
    "        return i\n",
    "     \n",
    "a = input(\"Enter the number : \")\n",
    "print(\"The roman number of \"+ a  +\" is : \" , Roman_numeral.romans(a))"
   ]
  },
  {
   "cell_type": "code",
   "execution_count": null,
   "metadata": {},
   "outputs": [],
   "source": [
    "Q29. Write the Python class to find the validity of the string of the parentheses, '(', ')', '{', '}', '[' and ']\n",
    "and the brackets must be closed in the correct order, example - \"()\" and \"()[]{}\" are valid but \"[)\", \"({[)]\" and \n",
    "\"{{{\" are invalid."
   ]
  },
  {
   "cell_type": "code",
   "execution_count": 14,
   "metadata": {},
   "outputs": [
    {
     "name": "stdout",
     "output_type": "stream",
     "text": [
      "Enter the pair of parentheses ( in '{, }, (, ), [, ] ') to find the validity : {}\n",
      "True\n"
     ]
    }
   ],
   "source": [
    "class parentheses:\n",
    "    def validPairs(self, string):\n",
    "        char = {\"(\" : \")\", \"[\":\"]\", \"{\":\"}\"}\n",
    "        a = []\n",
    "        for i in string:\n",
    "            if i in char:\n",
    "                a.append(i)\n",
    "            elif len(a) == 0 or char[a.pop()] != i:\n",
    "                return False\n",
    "        return len(a) == 0\n",
    "\n",
    "\n",
    "string = input(\"Enter the pair of parentheses ( in '{, }, (, ), [, ] ') to find the validity : \") \n",
    "print(parentheses().validPairs(string))"
   ]
  },
  {
   "cell_type": "code",
   "execution_count": null,
   "metadata": {},
   "outputs": [],
   "source": [
    "Q30. Write the Python class to get all possible unique subsets from a set of distinct integers?\n",
    "Input - [4, 5, 6] Output - [[], [6], [5], [5, 6], [4], [4, 6], [4, 5], [4, 5, 6]]"
   ]
  },
  {
   "cell_type": "code",
   "execution_count": 23,
   "metadata": {},
   "outputs": [
    {
     "name": "stdout",
     "output_type": "stream",
     "text": [
      "The subsets are : \n",
      " [[], [6], [5], [5, 6], [4], [4, 6], [4, 5], [4, 5, 6]]\n"
     ]
    }
   ],
   "source": [
    "class subSet:\n",
    "    def inputkeys(self, integers):\n",
    "        return self.subSetIntegers([], sorted(integers))\n",
    "    def subSetIntegers(self, current, integers):\n",
    "        if integers:\n",
    "                return self.subSetIntegers(current, integers[1:]) + self.subSetIntegers(current + [integers[0]], integers[1:])\n",
    "        return [current]\n",
    "\n",
    "print(\"The subsets are : \\n\", subSet().inputkeys([4,5,6]))"
   ]
  },
  {
   "cell_type": "code",
   "execution_count": null,
   "metadata": {},
   "outputs": [],
   "source": [
    "Q31. Write the Python class to find a pair of elements (indices of the two numbers) from a given array whose sum equals the \n",
    "specific target number?\n",
    "Input: numbers- [10,20,10,40,50,60,70], target=50 "
   ]
  },
  {
   "cell_type": "code",
   "execution_count": 34,
   "metadata": {},
   "outputs": [
    {
     "name": "stdout",
     "output_type": "stream",
     "text": [
      "(2, 3)\n"
     ]
    }
   ],
   "source": [
    "class solution:\n",
    "    def twoSum(self, nums, target):\n",
    "        l = {}\n",
    "        for i, num in enumerate(nums):\n",
    "            \n",
    "            if target - num in l: \n",
    "                return (l[target - num ], i)\n",
    "            l[num] = i\n",
    "\n",
    "print( solution().twoSum((10,20,10,40,50,60,70), 50))"
   ]
  },
  {
   "cell_type": "code",
   "execution_count": null,
   "metadata": {},
   "outputs": [],
   "source": [
    "Q32. Write the Python class to find the three elements that sum to zero from the set of n real numbers?\n",
    "Input array- [-25, -10, -7, -3, 2, 4, 8, 10] Output - [[-10, 2, 8], [-7, -3, 10]]"
   ]
  },
  {
   "cell_type": "code",
   "execution_count": 47,
   "metadata": {},
   "outputs": [
    {
     "name": "stdout",
     "output_type": "stream",
     "text": [
      "Three elements sum to zero from the set of n real numbers in the [-25, -10, -7, -3, 2, 4, 8, 10] set : \n",
      "[-25, -7, -3, 2, 4, 8, 10, 10]\n",
      "[[-7, -3, 10]]\n"
     ]
    }
   ],
   "source": [
    "class real:\n",
    "    def real_numbers(self, nums):\n",
    "        result, a = [], 0\n",
    "        nums = sorted(nums)\n",
    "        while a < len(nums) - 2:\n",
    "            b, c = a+1, len(nums)-1\n",
    "            \n",
    "            while b < c:\n",
    "                \n",
    "                if nums[a] + nums[b] + nums[c] < 0:\n",
    "                    b +=1\n",
    "                    \n",
    "                elif nums[a] + nums[b] + nums[c] > 0:\n",
    "                    c -= 1\n",
    "                    \n",
    "                else:\n",
    "                    result.append([nums[a], nums[b], nums[c]])\n",
    "                    b, c = b + 1, c - 1\n",
    "                    \n",
    "                    while b < c and nums[b] == nums[b - 1]:\n",
    "                        b += 1\n",
    "                        print(b)\n",
    "                    while b < c and nums[c] == nums[c + 1]:\n",
    "                        c -= 1\n",
    "                        \n",
    "            a += 1\n",
    "            while a < len(nums) - 2 and nums[a] == nums[a - 1]:\n",
    "                a += 1\n",
    "        return result\n",
    "print(\"Three elements sum to zero from the set of n real numbers in the [-25, -10, -7, -3, 2, 4, 8, 10] set : \")\n",
    "print( real().real_numbers([-25, -10, -7, -3, 2, 4, 8, 10]))"
   ]
  },
  {
   "cell_type": "code",
   "execution_count": null,
   "metadata": {},
   "outputs": [],
   "source": [
    "Q33. Write the Python class to implement pow(x, n)?"
   ]
  },
  {
   "cell_type": "code",
   "execution_count": 54,
   "metadata": {},
   "outputs": [
    {
     "name": "stdout",
     "output_type": "stream",
     "text": [
      "Enter the base element : 2\n",
      "Enter the power element : -3\n",
      "The power of  2  and  -3  is :  0.125\n"
     ]
    }
   ],
   "source": [
    "class power:\n",
    "    def imp_power(self, a, b):\n",
    "        if a == 0 or a == 1 or b == 1:\n",
    "            return a\n",
    "        if a == -1:\n",
    "            if b%2 == 0:\n",
    "                return 1\n",
    "            else:\n",
    "                return -1\n",
    "        if b==0:\n",
    "            return 1\n",
    "        if b<0:\n",
    "            return 1/self.imp_power(a,-b)\n",
    "        val = self.imp_power(a,b//2)\n",
    "        if b%2 ==0:\n",
    "            return val*val\n",
    "        return val*val*a\n",
    "a = int(input(\"Enter the base element : \"))\n",
    "b = int(input(\"Enter the power element : \"))\n",
    "print(\"The power of \", a, \" and \", b, \" is : \" , power().imp_power(a, b))"
   ]
  },
  {
   "cell_type": "code",
   "execution_count": null,
   "metadata": {},
   "outputs": [],
   "source": [
    "Q34. Write the Python class which has two methods get_String and print_String. get_String accept the string from the user and\n",
    "print_String print the string in upper case."
   ]
  },
  {
   "cell_type": "code",
   "execution_count": 70,
   "metadata": {},
   "outputs": [
    {
     "name": "stdout",
     "output_type": "stream",
     "text": [
      "Hello\n",
      "HELLO\n"
     ]
    }
   ],
   "source": [
    "class String():\n",
    "    def __init__(self):\n",
    "        self.value = \"\"\n",
    "    def get_String(self):\n",
    "        self.value = input()\n",
    "    def print_String(self):\n",
    "        print(self.value.upper())\n",
    "value = String()\n",
    "value.get_String()\n",
    "value.print_String()"
   ]
  },
  {
   "cell_type": "code",
   "execution_count": null,
   "metadata": {},
   "outputs": [],
   "source": [
    "Q35. Write the Python class named Rectangle constructed by a length and width and the method which will compute the area \n",
    "of the rectangle?"
   ]
  },
  {
   "cell_type": "code",
   "execution_count": 76,
   "metadata": {},
   "outputs": [
    {
     "name": "stdout",
     "output_type": "stream",
     "text": [
      "Enter the length value: 5\n",
      "Enter the breadth value: 5\n",
      "The area of the rectangle is :  25\n"
     ]
    }
   ],
   "source": [
    "class Rectangle():\n",
    "    def __init__(self, length, breadth):\n",
    "        self.l = length\n",
    "        self.b = breadth\n",
    "    def area(self):\n",
    "        return self.l * self.b   \n",
    "    \n",
    "length = int(input(\"Enter the length value: \"))\n",
    "breadth  = int(input(\"Enter the breadth value: \"))\n",
    "rect = Rectangle(length, breadth)\n",
    "print(\"The area of the rectangle is : \", rect.area())"
   ]
  },
  {
   "cell_type": "code",
   "execution_count": null,
   "metadata": {},
   "outputs": [],
   "source": [
    "Q36. Write the Python class named Circle constructed by the radius and two methods which will compute the area and \n",
    "perimeter of the circle?"
   ]
  },
  {
   "cell_type": "code",
   "execution_count": 80,
   "metadata": {},
   "outputs": [
    {
     "name": "stdout",
     "output_type": "stream",
     "text": [
      "Enter the radius of the circle : 8\n",
      "The area of the circle is :  200.96\n",
      "The perimeter of the circle is :  50.24\n"
     ]
    }
   ],
   "source": [
    "class Circle():\n",
    "    def __init__(self, radius):\n",
    "        self.r = radius\n",
    "    def area(self):\n",
    "        return self.r**2*3.14\n",
    "    def perimeter(self):\n",
    "        return self.r*2*3.14\n",
    "\n",
    "radius = int(input(\"Enter the radius of the circle : \"))\n",
    "circle = Circle(radius)\n",
    "print(\"The area of the circle is : \", circle.area())\n",
    "print(\"The perimeter of the circle is : \", circle.perimeter())"
   ]
  },
  {
   "cell_type": "code",
   "execution_count": null,
   "metadata": {},
   "outputs": [],
   "source": [
    "Q37. Write the Python program to get the class name of an instance in Python"
   ]
  },
  {
   "cell_type": "code",
   "execution_count": 86,
   "metadata": {},
   "outputs": [
    {
     "name": "stdout",
     "output_type": "stream",
     "text": [
      "Enter a string : cycle\n",
      "cycle\n"
     ]
    }
   ],
   "source": [
    "import itertools\n",
    "b = input(\"Enter a string : \")\n",
    "a = itertools.cycle(b)\n",
    "print(type(a).__name__)"
   ]
  },
  {
   "cell_type": "code",
   "execution_count": null,
   "metadata": {},
   "outputs": [],
   "source": [
    "Q38. Write the Python program to count the number of students of individual class?\n",
    "Sample data- classes = ( ('V', 1), ('VI', 1), ('V', 2), ('VI', 2), ('VI', 3), ('VII', 1), ) \n",
    "Expected Output- Counter({'VI': 3, 'V': 2, 'VII': 1})"
   ]
  },
  {
   "cell_type": "code",
   "execution_count": 89,
   "metadata": {},
   "outputs": [
    {
     "name": "stdout",
     "output_type": "stream",
     "text": [
      "Counter({'VI': 3, 'V': 2, 'VII': 1})\n"
     ]
    }
   ],
   "source": [
    "from collections import Counter\n",
    "classes = ( ('V', 1), ('VI', 1), ('V', 2), ('VI', 2), ('VI', 3), ('VII', 1), )\n",
    "students = Counter(class_name for class_name, number_students in classes)\n",
    "print(students)"
   ]
  },
  {
   "cell_type": "code",
   "execution_count": null,
   "metadata": {},
   "outputs": [],
   "source": [
    "Q39. Write the Python program to create an instance of an OrderedDict using the given dictionary and sort dictionary during the \n",
    "creation and print members of the dictionary in reverse order?\n",
    "Expected Output- \n",
    "Angola 244. Andorra 376. Algeria 213. Afghanistan 93. Albania 355. In reverse order- Albania 355. Afghanistan 93. Algeria 213.\n",
    "Andorra 376. Angola 244."
   ]
  },
  {
   "cell_type": "code",
   "execution_count": 95,
   "metadata": {},
   "outputs": [
    {
     "name": "stdout",
     "output_type": "stream",
     "text": [
      "Original order : \n",
      "\n",
      "Angola 244\n",
      "Andorra 376\n",
      "Algeria 213\n",
      "Afghanistan 93\n",
      "Albania 355\n",
      "\n",
      "Printing in reverse order : \n",
      "\n",
      "Albania 355\n",
      "Afghanistan 93\n",
      "Algeria 213\n",
      "Andorra 376\n",
      "Angola 244\n"
     ]
    }
   ],
   "source": [
    "from collections import OrderedDict\n",
    "dict = {'Angola' : 244, 'Andorra': 376, 'Algeria': 213, 'Afghanistan': 93, 'Albania': 355}\n",
    "newdic = OrderedDict(dict.items())\n",
    "print(\"Original order : \\n\")\n",
    "for key in newdic:\n",
    "    print(key, newdic[key])\n",
    "print(\"\\nPrinting in reverse order : \\n\")\n",
    "for key in reversed(newdic):\n",
    "    print(key, newdic[key])"
   ]
  },
  {
   "cell_type": "code",
   "execution_count": null,
   "metadata": {},
   "outputs": [],
   "source": [
    "Q40. Write the Python program to compare two unordered lists (not sets)?\n",
    "Expected Output: False:"
   ]
  },
  {
   "cell_type": "code",
   "execution_count": 98,
   "metadata": {},
   "outputs": [
    {
     "name": "stdout",
     "output_type": "stream",
     "text": [
      "Enter the number of elements : 3\n",
      "Enter set1 values \n",
      "10\n",
      "20\n",
      "40\n",
      "Enter set2 values\n",
      "50\n",
      "4\n",
      "50\n",
      "Are the two sets same :  False\n"
     ]
    }
   ],
   "source": [
    "from collections import Counter\n",
    "def compare_lists(x, y):\n",
    "    return Counter(x) == Counter(y)\n",
    "n = int(input(\"Enter the number of elements : \"))\n",
    "x , y = [], []\n",
    "print(\"Enter set1 values \")\n",
    "for i in range(n) :\n",
    "    x.append(input())\n",
    "print(\"Enter set2 values\")\n",
    "for i in range(n):\n",
    "    y.append(input())\n",
    "print(\"Are the two sets same : \", compare_lists(x,y))"
   ]
  },
  {
   "cell_type": "code",
   "execution_count": null,
   "metadata": {},
   "outputs": [],
   "source": [
    "Q41. Write the Python program to get an array buffer information? \n",
    "Expected Output- Array buffer start address in memory and number of elements. (25855056, 2)"
   ]
  },
  {
   "cell_type": "code",
   "execution_count": 100,
   "metadata": {},
   "outputs": [
    {
     "name": "stdout",
     "output_type": "stream",
     "text": [
      "Array buffer start address in memory and number of elements :  (1833385047472, 2)\n"
     ]
    }
   ],
   "source": [
    "from array import array\n",
    "a = array(\"b\", (15,45))\n",
    "print(\"Array buffer start address in memory and number of elements : \", a.buffer_info())"
   ]
  },
  {
   "cell_type": "code",
   "execution_count": null,
   "metadata": {},
   "outputs": [],
   "source": [
    "Q42. Write the Python program to convert an array to an array of machine values and return the bytes representation?\n",
    "Expected Output- Original array- A1: array('i', [1, 2, 3, 4, 5, 6])\n",
    "    Array of bytes: b'010000000200000003000000040000000500000006000000'"
   ]
  },
  {
   "cell_type": "code",
   "execution_count": 102,
   "metadata": {},
   "outputs": [
    {
     "name": "stdout",
     "output_type": "stream",
     "text": [
      "Array of bytes :  b'010000000200000003000000040000000500000006000000'\n"
     ]
    }
   ],
   "source": [
    "import array\n",
    "import binascii\n",
    "a = array.array('i', [1,2,3,4,5,6])\n",
    "bytes_array = a.tobytes()\n",
    "print(\"Array of bytes : \", binascii.hexlify(bytes_array))"
   ]
  },
  {
   "cell_type": "code",
   "execution_count": null,
   "metadata": {},
   "outputs": [],
   "source": [
    ".Q43. Write the Python program to read a string and interpreting the string as an array of machine values?\n",
    "Expected Output- array1- array('i', [7, 8, 9, 10]) Bytes- b'0700000008000000090000000a000000' \n",
    "array2- array('i', [7, 8, 9, 10])"
   ]
  },
  {
   "cell_type": "code",
   "execution_count": 105,
   "metadata": {},
   "outputs": [
    {
     "name": "stdout",
     "output_type": "stream",
     "text": [
      "array1 :  array('i', [7, 8, 9, 10])\n",
      "bytes :  b'0700000008000000090000000a000000'\n",
      "array2 :  array('i', [7, 8, 9, 10])\n"
     ]
    }
   ],
   "source": [
    "from array import array\n",
    "import binascii\n",
    "array1 = array('i', [7,8,9,10])\n",
    "print('array1 : ', array1)\n",
    "bytesarray = array1.tobytes()\n",
    "print('bytes : ' , binascii.hexlify(bytesarray))\n",
    "array2 = array('i')\n",
    "array2.frombytes(bytesarray)\n",
    "print('array2 : ', array2)"
   ]
  },
  {
   "cell_type": "code",
   "execution_count": null,
   "metadata": {},
   "outputs": [],
   "source": [
    "Q44. Write the Python program to push three items into the heap and return the smallest item from the heap. Also, return and \n",
    "pop the smallest item from the heap?\n",
    "\n",
    "Expected Output- Items in the heap- \n",
    "('VI', 1). \n",
    "('VII', 3).\n",
    "('VIII', 2). \n",
    "---------------------- \n",
    "The smallest item in the \n",
    "heap: ('VI', 1).\n",
    "----------------------  \n",
    "Pop the smallest item in the heap: \n",
    "('VII', 2). \n",
    "('VIII', 3)."
   ]
  },
  {
   "cell_type": "code",
   "execution_count": 108,
   "metadata": {},
   "outputs": [
    {
     "name": "stdout",
     "output_type": "stream",
     "text": [
      "The items in the heap are : \n",
      "('VI', 1)\n",
      "('VII', 3)\n",
      "('VIII', 2)\n",
      "------------------\n",
      "The smallest item in the : \n",
      "heap:  ('VI', 1)\n",
      "---------------------\n",
      "pop the smallest item in the heap: \n",
      "('VII', 3)\n",
      "('VIII', 2)\n"
     ]
    }
   ],
   "source": [
    "import heapq\n",
    "heap = []\n",
    "heapq.heappush(heap, ('VI', 1))\n",
    "heapq.heappush(heap, ('VII', 3))\n",
    "heapq.heappush(heap, ('VIII', 2))\n",
    "print(\"The items in the heap are : \")\n",
    "for i in heap:\n",
    "    print(i)\n",
    "print(\"------------------\")\n",
    "print(\"The smallest item in the : \")\n",
    "print(\"heap: \", heap[0])\n",
    "print(\"---------------------\")\n",
    "print(\"pop the smallest item in the heap: \" )\n",
    "heapq.heappop(heap)\n",
    "for i in heap:\n",
    "    print(i)"
   ]
  },
  {
   "cell_type": "code",
   "execution_count": null,
   "metadata": {},
   "outputs": [],
   "source": [
    "Q45. Write the Python program to locate the left insertion point for a specified value in sorted order? Expected Output: 4 2"
   ]
  },
  {
   "cell_type": "code",
   "execution_count": 110,
   "metadata": {},
   "outputs": [
    {
     "name": "stdout",
     "output_type": "stream",
     "text": [
      "1\n"
     ]
    }
   ],
   "source": [
    "import bisect\n",
    "def leftinsertionpoint(a, b):\n",
    "    i = bisect.bisect_left(a,b)\n",
    "    return i\n",
    "a = [1,2,3,4,5]\n",
    "print(leftinsertionpoint(a, 2))"
   ]
  },
  {
   "cell_type": "code",
   "execution_count": null,
   "metadata": {},
   "outputs": [],
   "source": [
    "Q46. Write the Python program to create the FIFO queue? Expected Output: 0 1 2 3"
   ]
  },
  {
   "cell_type": "code",
   "execution_count": 115,
   "metadata": {},
   "outputs": [
    {
     "name": "stdout",
     "output_type": "stream",
     "text": [
      "0 1 2 3 "
     ]
    }
   ],
   "source": [
    "import queue\n",
    "q = queue.Queue()\n",
    "for x in range(4):\n",
    "    q.put(str(x))\n",
    "while not q.empty():\n",
    "    print(q.get(), end = \" \")"
   ]
  },
  {
   "cell_type": "code",
   "execution_count": null,
   "metadata": {},
   "outputs": [],
   "source": [
    "Q47. Write the Python program to calculate the harmonic sum of n-1. \n",
    "Note: The harmonic sum is the sum of reciprocals of the positive Integers?\n",
    "    \n",
    "    "
   ]
  },
  {
   "cell_type": "code",
   "execution_count": 116,
   "metadata": {},
   "outputs": [
    {
     "name": "stdout",
     "output_type": "stream",
     "text": [
      "Enter the number to find the harmonic sum : 4\n",
      "The harmonic sum of  4  is :  2.083333333333333\n"
     ]
    }
   ],
   "source": [
    "def harmonic_sum(a):\n",
    "    if a < 2:\n",
    "        return 1\n",
    "    else:\n",
    "        return 1/a + (harmonic_sum(a-1))\n",
    "a = int(input(\"Enter the number to find the harmonic sum : \"))\n",
    "print(\"The harmonic sum of \" , a, \" is : \", harmonic_sum(a))"
   ]
  },
  {
   "cell_type": "code",
   "execution_count": 123,
   "metadata": {},
   "outputs": [
    {
     "ename": "SyntaxError",
     "evalue": "invalid syntax (<ipython-input-123-995962b527de>, line 2)",
     "output_type": "error",
     "traceback": [
      "\u001b[1;36m  File \u001b[1;32m\"<ipython-input-123-995962b527de>\"\u001b[1;36m, line \u001b[1;32m2\u001b[0m\n\u001b[1;33m    Expected Output- Original array- [ [6 6 6 6 6] [ 6 6 6 6 6] [ 6 6 6 6 6 ] [ 6 6 6 6 6 ] [ 6 6 6 6 ] ].\u001b[0m\n\u001b[1;37m                  ^\u001b[0m\n\u001b[1;31mSyntaxError\u001b[0m\u001b[1;31m:\u001b[0m invalid syntax\n"
     ]
    }
   ],
   "source": [
    "Q48. Write the NumPy program to create a 2d array with 6 on the border and 0 inside?\n",
    "Expected Output- Original array- [ [6 6 6 6 6] [ 6 6 6 6 6] [ 6 6 6 6 6 ] [ 6 6 6 6 6 ] [ 6 6 6 6 ] ].\n",
    "6 on the border and 0 inside in the array- [[ 6 6 6 6 6] [ 6 0 0 0 6] [ 6 0 0 0 6] [ 6 0 0 0 6] [ 6 6 6 6 6]]."
   ]
  },
  {
   "cell_type": "code",
   "execution_count": 130,
   "metadata": {},
   "outputs": [
    {
     "name": "stdout",
     "output_type": "stream",
     "text": [
      "original array: \n",
      " [[6 6 6 6 6]\n",
      " [6 6 6 6 6]\n",
      " [6 6 6 6 6]\n",
      " [6 6 6 6 6]\n",
      " [6 6 6 6 6]]\n",
      "6 on the border and 0 inside in the array : \n",
      "[[6 6 6 6 6]\n",
      " [6 0 0 0 6]\n",
      " [6 0 0 0 6]\n",
      " [6 0 0 0 6]\n",
      " [6 6 6 6 6]]\n"
     ]
    }
   ],
   "source": [
    "import numpy as np\n",
    "a = np.full((5,5), 6)\n",
    "print(\"original array: \\n\" , a)\n",
    "print(\"6 on the border and 0 inside in the array : \")\n",
    "a[1:-1, 1:-1] = 0\n",
    "print(a)"
   ]
  },
  {
   "cell_type": "code",
   "execution_count": null,
   "metadata": {},
   "outputs": [],
   "source": [
    "Q49. Write the NumPy program to create a 8x8 matrix and fill it with the checkerboard pattern?\n",
    "Checkerboard pattern- [[3 9 3 9 3 9 3 9] \n",
    "                       [9 3 9 3 9 3 9 3] \n",
    "                       [3 9 3 9 3 9 3 9] \n",
    "                       [9 3 9 3 9 3 9 3] \n",
    "                       [3 9 3 9 3 9 3 9] \n",
    "                       [9 3 9 3 9 3 9 3] \n",
    "                       [3 9 3 9 3 9 3 9] \n",
    "                       [9 3 9 3 9 3 9 3]]."
   ]
  },
  {
   "cell_type": "code",
   "execution_count": 137,
   "metadata": {},
   "outputs": [
    {
     "name": "stdout",
     "output_type": "stream",
     "text": [
      "[[3 9 3 9 3 9 3 9]\n",
      " [9 3 9 3 9 3 9 3]\n",
      " [3 9 3 9 3 9 3 9]\n",
      " [9 3 9 3 9 3 9 3]\n",
      " [3 9 3 9 3 9 3 9]\n",
      " [9 3 9 3 9 3 9 3]\n",
      " [3 9 3 9 3 9 3 9]\n",
      " [9 3 9 3 9 3 9 3]]\n"
     ]
    }
   ],
   "source": [
    "import numpy as np \n",
    "a = np.full((3,3), 9)\n",
    "a = np.full((8,8),3, dtype = int)\n",
    "a[1::2, ::2] = 9\n",
    "a[::2, 1::2] = 9\n",
    "print(a)"
   ]
  },
  {
   "cell_type": "code",
   "execution_count": null,
   "metadata": {},
   "outputs": [],
   "source": [
    "Q50. Write the NumPy program to create an empty and a full array. \n",
    "Expected Output- [[4.45057637e-308 1.78021527e-306 8.45549797e-307 1.37962049e-306] \n",
    "                  [1.11260619e-306 1.78010255e-306 9.79054228e-307 4.45057637e-308] \n",
    "                  [8.45596650e-307 9.34602321e-307 4.94065646e-322 0.00000000e+000]]\n",
    "                 [[6 6 6] [6 6 6] [6 6 6]]"
   ]
  },
  {
   "cell_type": "code",
   "execution_count": 145,
   "metadata": {},
   "outputs": [
    {
     "name": "stdout",
     "output_type": "stream",
     "text": [
      "[[ 9.05791296e-312  3.16202013e-322  0.00000000e+000  0.00000000e+000]\n",
      " [ 0.00000000e+000  1.08498968e-042  5.68329534e-062  1.69055280e-052]\n",
      " [ 2.59070824e+184 -1.43344411e-310  1.43732374e-071  5.78364794e+174]]\n",
      "[[6 6 6]\n",
      " [6 6 6]\n",
      " [6 6 6]]\n"
     ]
    }
   ],
   "source": [
    "import numpy as np\n",
    "a = np.empty((3,4))\n",
    "print(a)\n",
    "b = np.full((3,3), 6)\n",
    "print(b)"
   ]
  },
  {
   "cell_type": "code",
   "execution_count": null,
   "metadata": {},
   "outputs": [],
   "source": [
    "Q51. Write the NumPy program to convert the values of Centigrade degrees into the Fahrenheit degrees and the centigrade values\n",
    "are stored in the NumPy array.\n",
    "Sample Array -[0, 12, 45.21 ,34, 99.91] \n",
    "Expected Output- Values in Fahrenheit degrees- [ 0. 12. 45.21 34. 99.91] \n",
    "Values in Centigrade degrees- [-17.77777778 -11.11111111 7.33888889 1.11111111 37.72777778]"
   ]
  },
  {
   "cell_type": "code",
   "execution_count": 146,
   "metadata": {},
   "outputs": [
    {
     "name": "stdout",
     "output_type": "stream",
     "text": [
      "Values in Fahrenheit degrees are :  [ 0.   12.   45.   21.   34.   99.91]\n",
      "Values in Centigrade degrees are :  [-17.77777778 -11.11111111   7.22222222  -6.11111111   1.11111111\n",
      "  37.72777778]\n"
     ]
    }
   ],
   "source": [
    "import numpy as np\n",
    "fvalues = [0,12,45,21,34,99.91]\n",
    "F = np.array(fvalues)\n",
    "print(\"Values in Fahrenheit degrees are : \", F)\n",
    "C = 5*F/9 - 5*32/9\n",
    "print(\"Values in Centigrade degrees are : \", C)"
   ]
  },
  {
   "cell_type": "code",
   "execution_count": null,
   "metadata": {},
   "outputs": [],
   "source": [
    "Q52. Write the NumPy program to find the real and imaginary parts of an array of complex numbers?\n",
    "Expected Output- Original array [ 1.00000000+0.j 0.70710678+0.70710678j] \n",
    "Real part of the array- [ 1. 0.70710678] Imaginary part of the array- [ 0. 0.70710678]"
   ]
  },
  {
   "cell_type": "code",
   "execution_count": 147,
   "metadata": {},
   "outputs": [
    {
     "name": "stdout",
     "output_type": "stream",
     "text": [
      "original values : \n",
      "a=  [1.+0.j] \n",
      "b= [0.92387953+0.38268343j]\n",
      "Real part of the array : \n",
      "aR= [1.] \n",
      "bR= [0.92387953]\n",
      "Imaginary part of the array : \n",
      "aI= [0.] \n",
      "bI= [0.38268343]\n"
     ]
    }
   ],
   "source": [
    "import numpy as np \n",
    "a = np.sqrt([1.00000000+0.j])\n",
    "b = np.sqrt([0.70710678+0.70710678j])\n",
    "print(\"original values : \\na= \", a, \"\\nb=\",b)\n",
    "print(\"Real part of the array : \\naR=\", a.real, \"\\nbR=\", b.real)\n",
    "print(\"Imaginary part of the array : \\naI=\", a.imag, \"\\nbI=\", b.imag)"
   ]
  },
  {
   "cell_type": "code",
   "execution_count": null,
   "metadata": {},
   "outputs": [],
   "source": [
    "Q53. Write the NumPy program to test whether each element of a 1-D array is also present in the second array?\n",
    "Expected Output- Array1: [ 0 10 20 40 60] Array2: [0, 40] \n",
    "Compare each element of array1 and array2 [ True False False True False]"
   ]
  },
  {
   "cell_type": "code",
   "execution_count": 149,
   "metadata": {},
   "outputs": [
    {
     "name": "stdout",
     "output_type": "stream",
     "text": [
      "array1 :  [ 0 10 20 40 60] \n",
      "array2 :  [ 0 40]\n",
      "Compare each element of array1 and array2 : \n",
      " [ True False False  True False]\n"
     ]
    }
   ],
   "source": [
    "import numpy as np\n",
    "array1 = np.array([0,10,20,40,60])\n",
    "array2 = np.array([0,40])\n",
    "print(\"array1 : \", array1, \"\\narray2 : \", array2)\n",
    "print(\"Compare each element of array1 and array2 : \\n\", np.in1d(array1, array2))"
   ]
  },
  {
   "cell_type": "code",
   "execution_count": null,
   "metadata": {},
   "outputs": [],
   "source": [
    "Q54. Write the NumPy program to find common values between two arrays? \n",
    "Expected Output- Array1: [ 0 10 20 40 60] Array2: [10, 30, 40] Common values between two arrays- [10 40]"
   ]
  },
  {
   "cell_type": "code",
   "execution_count": 150,
   "metadata": {},
   "outputs": [
    {
     "name": "stdout",
     "output_type": "stream",
     "text": [
      "array1 :  [ 0 10 20 40 60] \n",
      "array2 :  [10 30 40]\n",
      "Common values between two arrays :  [10 40]\n"
     ]
    }
   ],
   "source": [
    "import numpy as np\n",
    "array1 = np.array([0,10,20,40,60])\n",
    "array2 = np.array([10,30,40])\n",
    "print(\"array1 : \", array1, \"\\narray2 : \", array2)\n",
    "print(\"Common values between two arrays : \", np.intersect1d(array1, array2))"
   ]
  },
  {
   "cell_type": "code",
   "execution_count": null,
   "metadata": {},
   "outputs": [],
   "source": [
    "Q55. Write the NumPy program to get the unique elements of an array?\n",
    "Expected Output- Original array- [10 10 20 20 30 30] Unique elements of the above array- [10 20 30]\n",
    "Original array- [[1 1] [2 3]] Unique elements of the above array- [1 2 3]"
   ]
  },
  {
   "cell_type": "code",
   "execution_count": 154,
   "metadata": {},
   "outputs": [
    {
     "name": "stdout",
     "output_type": "stream",
     "text": [
      "array1 :  [10 10 20 20 30 30] \n",
      "array2 :  [[1 1]\n",
      " [2 3]]\n",
      "Unique elements of the array1 is :  [10 20 30]\n",
      "Unique elements of the array2 is :  [1 2 3]\n"
     ]
    }
   ],
   "source": [
    "import numpy as np\n",
    "array1 = np.array([10,10,20,20,30,30])\n",
    "array2 = np.array([[1,1], [2,3]])\n",
    "print(\"array1 : \", array1, \"\\narray2 : \", array2)\n",
    "print(\"Unique elements of the array1 is : \", np.unique(array1))\n",
    "print(\"Unique elements of the array2 is : \", np.unique(array2))"
   ]
  },
  {
   "cell_type": "code",
   "execution_count": null,
   "metadata": {},
   "outputs": [],
   "source": [
    "Q56. Write the NumPy program to find the set exclusive-or of two arrays. Set exclusive-or will return the sorted, unique values \n",
    "that are in onlyone (not both) of the input arrays?\n",
    "Array1- [ 0 10 20 40 60 80] Array2- [10, 30, 40, 50, 70]\n",
    "Unique values that are in only one (not both) of the input arrays- [ 0 20 30 50 60 70 80]"
   ]
  },
  {
   "cell_type": "code",
   "execution_count": 155,
   "metadata": {},
   "outputs": [
    {
     "name": "stdout",
     "output_type": "stream",
     "text": [
      "array1 :  [ 0 10 20 40 60 80] \n",
      "array2 :  [10 30 40 50 70]\n",
      "Unique values that are in only one (not both) of the input arrays :  [ 0 20 30 50 60 70 80]\n"
     ]
    }
   ],
   "source": [
    "import numpy as np \n",
    "array1 = np.array([0,10,20,40,60,80])\n",
    "array2 = np.array([10,30,40,50,70])\n",
    "print(\"array1 : \", array1, \"\\narray2 : \", array2)\n",
    "print(\"Unique values that are in only one (not both) of the input arrays : \", np.setxor1d(array1, array2))"
   ]
  },
  {
   "cell_type": "code",
   "execution_count": null,
   "metadata": {},
   "outputs": [],
   "source": [
    "Q57. Write the NumPy program to test if all elements in an array evaluate to True ? Note: 0 evaluates to False in NumPy."
   ]
  },
  {
   "cell_type": "code",
   "execution_count": 160,
   "metadata": {},
   "outputs": [
    {
     "name": "stdout",
     "output_type": "stream",
     "text": [
      "False\n",
      "True\n",
      "False\n",
      "False\n",
      "False\n",
      "True\n",
      "True\n"
     ]
    }
   ],
   "source": [
    "import numpy as np\n",
    "print(np.all([[True, True], [True, False], [False, False], [False, True]]))\n",
    "print(np.all([True, True]))\n",
    "print(np.all([True, False]))\n",
    "print(np.all([False, True]))\n",
    "print(np.all([False, False]))\n",
    "print(np.all([10,1,5,0,3,6,54,2,55,52,5]))\n",
    "print(np.all([-5,-9,-85,-56]))"
   ]
  },
  {
   "cell_type": "code",
   "execution_count": null,
   "metadata": {},
   "outputs": [],
   "source": [
    "Q58 Write the NumPy program to test whether any array element along the given axis evaluates to True? \n",
    "Note: 0 evaluates to False in NumPy."
   ]
  },
  {
   "cell_type": "code",
   "execution_count": 161,
   "metadata": {},
   "outputs": [
    {
     "name": "stdout",
     "output_type": "stream",
     "text": [
      "False\n",
      "True\n",
      "False\n",
      "False\n",
      "False\n",
      "True\n",
      "True\n"
     ]
    }
   ],
   "source": [
    "import numpy as np\n",
    "print(np.all([[True, True], [True, False], [False, False], [False, True]]))\n",
    "print(np.all([True, True]))\n",
    "print(np.all([10,1,5,3,6,54,2,55,52,5]))\n",
    "print(np.all([-5,-9,-85,-56]))\n"
   ]
  },
  {
   "cell_type": "code",
   "execution_count": null,
   "metadata": {},
   "outputs": [],
   "source": [
    "Q59. Write the NumPy program to construct an array by repeating? \n",
    "Sample array- [1, 2, 3, 4] Expected Output- Original array [1, 2, 3, 4] Repeating 2 times [1 2 3 4 1 2 3 4]\n",
    "Repeating 3 times [1 2 3 4 1 2 3 4 1 2 3 4]"
   ]
  },
  {
   "cell_type": "code",
   "execution_count": 164,
   "metadata": {},
   "outputs": [
    {
     "name": "stdout",
     "output_type": "stream",
     "text": [
      "array :  [1 2 3 4]\n",
      "Repeating 2 times :  [1 2 3 4 1 2 3 4]\n",
      "Reapting 3 times :  [1 2 3 4 1 2 3 4 1 2 3 4]\n"
     ]
    }
   ],
   "source": [
    "import numpy as np\n",
    "array = np.array([1,2,3,4])\n",
    "print(\"array : \", array)\n",
    "print(\"Repeating 2 times : \", np.tile(array, 2))\n",
    "print(\"Reapting 3 times : \", np.tile(array, 3))"
   ]
  },
  {
   "cell_type": "code",
   "execution_count": null,
   "metadata": {},
   "outputs": [],
   "source": [
    "Q60. Write the NumPy program to find the indices of the maximum and minimum values with the given axis of an array?\n",
    "Original array- [1 2 3 4 5 6] Maximum Values- 5 Minimum Values- 0"
   ]
  },
  {
   "cell_type": "code",
   "execution_count": 171,
   "metadata": {},
   "outputs": [
    {
     "name": "stdout",
     "output_type": "stream",
     "text": [
      "array :  [1 2 3 4 5 6]\n",
      "Maximum value :  5\n",
      "Minimum value :  0\n"
     ]
    }
   ],
   "source": [
    "import numpy as np\n",
    "array = np.array([1,2,3,4,5,6])\n",
    "print(\"array : \", array)\n",
    "print(\"Maximum value : \", np.argmax(array))\n",
    "print(\"Minimum value : \", np.argmin(array))"
   ]
  },
  {
   "cell_type": "code",
   "execution_count": null,
   "metadata": {},
   "outputs": [],
   "source": [
    "Q61. Write the NumPy program compare two arrays using numpy?\n",
    "Array a- [1 2] Array b- [4 5] a > b [False False] a >= b [False False] a < b [ True True] a <= b [ True True]"
   ]
  },
  {
   "cell_type": "code",
   "execution_count": 173,
   "metadata": {},
   "outputs": [
    {
     "name": "stdout",
     "output_type": "stream",
     "text": [
      "array a :  [1 2] \n",
      "array b :  [4 5]\n",
      "a > b \n",
      " [False False] \n",
      "a >= b\n",
      " [False False]\n",
      "a < b \n",
      " [ True  True] \n",
      "a <= b\n",
      " [ True  True]\n"
     ]
    }
   ],
   "source": [
    "import numpy as np\n",
    "a = np.array([1,2])\n",
    "b = np.array([4,5])\n",
    "print(\"array a : \" , a, \"\\narray b : \", b)\n",
    "print(\"a > b \\n\", np.greater(a,b), \"\\na >= b\\n\", np.greater_equal(a,b))\n",
    "print(\"a < b \\n\", np.less(a,b), \"\\na <= b\\n\", np.less_equal(a,b))"
   ]
  },
  {
   "cell_type": "code",
   "execution_count": null,
   "metadata": {},
   "outputs": [],
   "source": [
    "Q62. Write the NumPy program to sort an along the first, last axis of an array? \n",
    "Sample array- [[2,5],[4,4]] \n",
    "Expected Output- Original array: [[4 6] [2 1]]\n",
    "Sort along the first axis: [[2 1] [4 6]]\n",
    "Sort along the last axis- [[1 2] [4 6]]"
   ]
  },
  {
   "cell_type": "code",
   "execution_count": 180,
   "metadata": {},
   "outputs": [
    {
     "name": "stdout",
     "output_type": "stream",
     "text": [
      "array : \n",
      " [[2 1]\n",
      " [4 6]]\n",
      "Sort along the first axis : \n",
      " [[2 1]\n",
      " [4 6]]\n",
      "Sort along the last axis : \n",
      " [[1 2]\n",
      " [4 6]]\n"
     ]
    }
   ],
   "source": [
    "import numpy as np\n",
    "array = np.array([[2,1],[4,6]])\n",
    "print(\"array : \\n\", array)\n",
    "print(\"Sort along the first axis : \\n\", np.sort(array, axis = 0))\n",
    "print(\"Sort along the last axis : \\n\", np.sort(array, axis = 1))"
   ]
  },
  {
   "cell_type": "code",
   "execution_count": null,
   "metadata": {},
   "outputs": [],
   "source": [
    "Q63. Write the NumPy program to sort pairs of first name and last name return their indices \n",
    "(first by last name, then by first name).\n",
    "first_names - ( Betsey, Shelley, Lanell, Genesis, Margery ) last_names - ( Battle, Brien, Plotner, Stahl, Woolum ) \n",
    "Expected Output- [1 3 2 4 0]"
   ]
  },
  {
   "cell_type": "code",
   "execution_count": 183,
   "metadata": {},
   "outputs": [
    {
     "name": "stdout",
     "output_type": "stream",
     "text": [
      "[0 1 2 3 4]\n"
     ]
    }
   ],
   "source": [
    "import numpy as np \n",
    "first_names = ( 'Betsey', 'Shelley', 'Lanell', 'Genesis', 'Margery' )\n",
    "last_names = ( 'Battle', 'Brien', 'Plotner', 'Stahl', 'Woolum' ) \n",
    "print(np.lexsort((first_names, last_names)))"
   ]
  },
  {
   "cell_type": "code",
   "execution_count": null,
   "metadata": {},
   "outputs": [],
   "source": [
    "Q64. Write the NumPy program to get the values and indices of the elements that are bigger than 10 in the given array?\n",
    "Original array- [[ 0 10 20] [20 30 40]] Values bigger than 10 = [20 20 30 40] \n",
    "Their indices are (array([0, 1, 1, 1]), array([2, 0, 1, 2]))"
   ]
  },
  {
   "cell_type": "code",
   "execution_count": 187,
   "metadata": {},
   "outputs": [
    {
     "name": "stdout",
     "output_type": "stream",
     "text": [
      "array :  [[ 0 10 20]\n",
      " [20 30 40]]\n",
      "Bigger than 10 are :  [20 20 30 40]\n",
      "Indices are :  (array([0, 1, 1, 1], dtype=int64), array([2, 0, 1, 2], dtype=int64))\n"
     ]
    }
   ],
   "source": [
    "import numpy as np\n",
    "array = np.array([[0,10,20],[20,30,40]])\n",
    "print(\"array : \", array)\n",
    "print(\"Bigger than 10 are : \" , array[array>10])\n",
    "print(\"Indices are : \", np.nonzero(array>10))"
   ]
  },
  {
   "cell_type": "code",
   "execution_count": null,
   "metadata": {},
   "outputs": [],
   "source": [
    "Q65. Write the NumPy program to find the memory size of a NumPy array?\n",
    "Expected Output- 128 bytes"
   ]
  },
  {
   "cell_type": "code",
   "execution_count": 195,
   "metadata": {},
   "outputs": [
    {
     "name": "stdout",
     "output_type": "stream",
     "text": [
      "128 bytes \n"
     ]
    }
   ],
   "source": [
    "import numpy as np\n",
    "array = np.zeros((4,4))\n",
    "print(\"%d bytes \" % (array.size * array.itemsize))"
   ]
  },
  {
   "cell_type": "code",
   "execution_count": null,
   "metadata": {},
   "outputs": [],
   "source": [
    "Q66. Write the NumPy program to create an array of ones and an array of zeros?\n",
    "Expected Output- Create an array of zeros Default type is float\n",
    "[[ 0. 0.]] Type changes to int [[0 0]] Create an array of ones Default type is float [[ 1. 1.]] Type changes to int [[1 1]]"
   ]
  },
  {
   "cell_type": "code",
   "execution_count": 201,
   "metadata": {},
   "outputs": [
    {
     "name": "stdout",
     "output_type": "stream",
     "text": [
      "array1 of zeros float: \n",
      " [[0. 0.]]\n",
      "array1 type changes to int : \n",
      " [[0 0]]\n",
      "array1 of ones type is float  : \n",
      " [[1. 1.]]\n",
      "array1 type changes to int : \n",
      " [[1 1]]\n"
     ]
    }
   ],
   "source": [
    "import numpy as np \n",
    "array1 = np.zeros((1,2))\n",
    "print(\"array1 of zeros float: \\n\", array1)\n",
    "array1 = np.zeros((1,2), dtype = np.int)\n",
    "print(\"array1 type changes to int : \\n\", array1)\n",
    "array1 = np.ones((1,2))\n",
    "print(\"array1 of ones type is float  : \\n\", array1)\n",
    "array1 = np.ones((1,2), dtype = np.int)\n",
    "print(\"array1 type changes to int : \\n\", array1)"
   ]
  },
  {
   "cell_type": "code",
   "execution_count": null,
   "metadata": {},
   "outputs": [],
   "source": [
    "Q67. Write the NumPy program to change the dimension of an array? \n",
    "Expected Output- 6 rows and 0 columns (6,) (3, 3) -> 3 rows and 3 columns [[1 2 3] [4 5 6] [7 8 9]] \n",
    "Change array shape to (3, 3) -> 3 rows and 3 columns [[1 2 3] [4 5 6] [7 8 9]]"
   ]
  },
  {
   "cell_type": "code",
   "execution_count": 207,
   "metadata": {},
   "outputs": [
    {
     "name": "stdout",
     "output_type": "stream",
     "text": [
      "6 row and 0 columns : \n",
      " (6,)\n",
      "(3,3) -> 3 rows and columns :  (3, 3)\n",
      "(3,3) -> 3 rows and 3 columns : \n",
      " [[1 2 3]\n",
      " [4 5 6]\n",
      " [7 8 9]]\n"
     ]
    }
   ],
   "source": [
    "import numpy as np \n",
    "array1 = np.array([1,2,3,4,5,6])\n",
    "print(\"6 row and 0 columns : \\n\", np.shape(array1))\n",
    "array1 = np.array([[1,2,3],[4,5,6],[7,8,9]])\n",
    "print(\"(3,3) -> 3 rows and columns : \", np.shape(array1))\n",
    "array1 = np.array([1,2,3,4,5,6,7,8,9])\n",
    "array1.shape=(3,3)\n",
    "print(\"(3,3) -> 3 rows and 3 columns : \\n\", array1)"
   ]
  },
  {
   "cell_type": "code",
   "execution_count": null,
   "metadata": {},
   "outputs": [],
   "source": [
    "Q68. Write the NumPy program to create a new shape to an array without changing its data ? \n",
    "Reshape 3x2- [[1 2] [3 4] [5 6]] Reshape 2x3- [[1 2 3] [4 5 6]]"
   ]
  },
  {
   "cell_type": "code",
   "execution_count": 210,
   "metadata": {},
   "outputs": [
    {
     "name": "stdout",
     "output_type": "stream",
     "text": [
      "Reshape 3x2 : \n",
      " [[1 2]\n",
      " [3 4]\n",
      " [5 6]]\n",
      "Reshape 2x3 : \n",
      " [[1 2 3]\n",
      " [4 5 6]]\n"
     ]
    }
   ],
   "source": [
    "import numpy as np\n",
    "array1 = np.array([1,2,3,4,5,6])\n",
    "array1.shape = (3,2)\n",
    "print(\"Reshape 3x2 : \\n\", array1)\n",
    "array1.shape = (2,3)\n",
    "print(\"Reshape 2x3 : \\n\", array1)"
   ]
  },
  {
   "cell_type": "code",
   "execution_count": null,
   "metadata": {},
   "outputs": [],
   "source": [
    "Q69. Write the NumPy program to create a new array of 3*5, filled with 2?\n",
    "Expected Output- [[2 2 2 2 2] [2 2 2 2 2] [2 2 2 2 2]] [[2 2 2 2 2] [2 2 2 2 2] [2 2 2 2 2]]"
   ]
  },
  {
   "cell_type": "code",
   "execution_count": 221,
   "metadata": {},
   "outputs": [
    {
     "name": "stdout",
     "output_type": "stream",
     "text": [
      "[[2 2 2 2 2]\n",
      " [2 2 2 2 2]\n",
      " [2 2 2 2 2]]\n"
     ]
    }
   ],
   "source": [
    "import numpy as np\n",
    "array1 = np.full((3,5),2) \n",
    "print(array1)\n"
   ]
  },
  {
   "cell_type": "code",
   "execution_count": null,
   "metadata": {},
   "outputs": [],
   "source": [
    "Q70. Write the NumPy program to create a 3-D array with ones on a diagonal and zeros elsewhere? \n",
    "Expected Output- [[ 1. 0. 0.] [ 0. 1. 0.] [ 0. 0. 1.]]"
   ]
  },
  {
   "cell_type": "code",
   "execution_count": 222,
   "metadata": {},
   "outputs": [
    {
     "name": "stdout",
     "output_type": "stream",
     "text": [
      "[[1. 0. 0.]\n",
      " [0. 1. 0.]\n",
      " [0. 0. 1.]]\n"
     ]
    }
   ],
   "source": [
    "import numpy as np\n",
    "a = np.eye(3)\n",
    "print(a)"
   ]
  },
  {
   "cell_type": "code",
   "execution_count": null,
   "metadata": {},
   "outputs": [],
   "source": [
    "Q71. Write the NumPy program to split an array of 14 elements into the 3 arrays and each of which has 2, 4, and 8 elements \n",
    "in original order?\n",
    "Expected Output- Original array- [ 1 2 3 4 5 6 7 8 9 10 11 12 13 14] \n",
    "After splitting- [array([1, 2]), array([3, 4, 5, 6]), array([ 7, 8, 9, 10, 11, 12, 13, 14])]"
   ]
  },
  {
   "cell_type": "code",
   "execution_count": 225,
   "metadata": {},
   "outputs": [
    {
     "name": "stdout",
     "output_type": "stream",
     "text": [
      "Original array :  [ 1  2  3  4  5  6  7  8  9 10 11 12 13 14]\n",
      "After splitting :  [array([1, 2]), array([3, 4, 5, 6]), array([ 7,  8,  9, 10, 11, 12, 13, 14])]\n"
     ]
    }
   ],
   "source": [
    "import numpy as np\n",
    "array1 = np.arange(1,15)\n",
    "print(\"Original array : \", array1)\n",
    "print(\"After splitting : \", np.split(array1, [2,6]))"
   ]
  },
  {
   "cell_type": "code",
   "execution_count": null,
   "metadata": {},
   "outputs": [],
   "source": [
    "Q72. Write the NumPy program to split of an array of shape 4x4 it into two arrays along the second axis ?\n",
    "Sample array - [[ 0 1 2 3] [ 4 5 6 7] [ 8 9 10 11] [12 13 14 15]]\n",
    "Expected Output-\n",
    "[array([[ 0, 1], [ 4, 5], [ 8, 9], [12, 13]]), array([[ 2, 3], [ 6, 7], [10, 11], [14, 15]]), array([], shape=(4, 0), \n",
    "                                                                                                    dtype=int64)]"
   ]
  },
  {
   "cell_type": "code",
   "execution_count": 234,
   "metadata": {},
   "outputs": [
    {
     "name": "stdout",
     "output_type": "stream",
     "text": [
      "array1 : \n",
      " [[ 0  1  2  3]\n",
      " [ 4  5  6  7]\n",
      " [ 8  9 10 11]\n",
      " [12 13 14 15]]\n",
      "[array([[ 0,  1],\n",
      "       [ 4,  5],\n",
      "       [ 8,  9],\n",
      "       [12, 13]]), array([[ 2,  3],\n",
      "       [ 6,  7],\n",
      "       [10, 11],\n",
      "       [14, 15]]), array([], shape=(4, 0), dtype=int32)]\n"
     ]
    }
   ],
   "source": [
    "import numpy as np\n",
    "array1 = np.arange(16).reshape((4,4))\n",
    "print(\"array1 : \\n\", array1)\n",
    "print(np.hsplit(array1, [2,6]))"
   ]
  },
  {
   "cell_type": "code",
   "execution_count": null,
   "metadata": {},
   "outputs": [],
   "source": [
    "Q73. Write the NumPy program to create a 5x5 matrix with row values ranging from 0 to 4?\n",
    "Original array- [[ 0. 0. 0. 0. 0.] [ 0. 0. 0. 0. 0.] [ 0. 0. 0. 0. 0.] [ 0. 0. 0. 0. 0.] [ 0. 0. 0. 0. 0.]] \n",
    "Row values ranging from 0 to 4. [[ 0. 1. 2. 3. 4.] [ 0. 1. 2. 3. 4.] [ 0. 1. 2. 3. 4.] [ 0. 1. 2. 3. 4.] [ 0. 1. 2. 3. 4.]]"
   ]
  },
  {
   "cell_type": "code",
   "execution_count": 4,
   "metadata": {},
   "outputs": [
    {
     "name": "stdout",
     "output_type": "stream",
     "text": [
      "Original array : \n",
      " [[0. 0. 0. 0. 0.]\n",
      " [0. 0. 0. 0. 0.]\n",
      " [0. 0. 0. 0. 0.]\n",
      " [0. 0. 0. 0. 0.]\n",
      " [0. 0. 0. 0. 0.]]\n",
      "Row values ranging from 0 to 4 : \n",
      " [[0. 1. 2. 3. 4.]\n",
      " [0. 1. 2. 3. 4.]\n",
      " [0. 1. 2. 3. 4.]\n",
      " [0. 1. 2. 3. 4.]\n",
      " [0. 1. 2. 3. 4.]]\n"
     ]
    }
   ],
   "source": [
    "import numpy as np\n",
    "array = np.zeros((5,5))\n",
    "print(\"Original array : \\n\", array)\n",
    "array += np.arange(5)\n",
    "print(\"Row values ranging from 0 to 4 : \\n\", array )"
   ]
  },
  {
   "cell_type": "code",
   "execution_count": null,
   "metadata": {},
   "outputs": [],
   "source": [
    "Q74. Write the NumPy program to create an array of zeros and three column types (integer, float, character)?\n",
    "Expected Output- [(1, 2., b'Albert Einstein') (2, 2., b'Edmond Halley') (3, 3., b'Gertrude B. Elion')]"
   ]
  },
  {
   "cell_type": "code",
   "execution_count": 6,
   "metadata": {},
   "outputs": [
    {
     "name": "stdout",
     "output_type": "stream",
     "text": [
      "[(1, 2., b'Albert Einstein') (2, 2., b'Edmond Halley')\n",
      " (3, 3., b'Gertrude B. Elion')]\n"
     ]
    }
   ],
   "source": [
    "import numpy as np\n",
    "array = np.zeros((3, ), dtype = ('i4, f4, a40'))\n",
    "a = [(1, 2., \"Albert Einstein\"), (2, 2., \"Edmond Halley\"), (3, 3., \"Gertrude B. Elion\")]\n",
    "array[:]  = a\n",
    "print(array)"
   ]
  },
  {
   "cell_type": "code",
   "execution_count": null,
   "metadata": {},
   "outputs": [],
   "source": [
    "Q75. Write the NumPy program to remove the negative values in the numpy array with 0?\n",
    "Expected Output- Original array: [-1 -4 0 2 3 4 5 -6] Replace the negative values of the said array with 0- [0 0 0 2 3 4 5 0]"
   ]
  },
  {
   "cell_type": "code",
   "execution_count": 8,
   "metadata": {},
   "outputs": [
    {
     "name": "stdout",
     "output_type": "stream",
     "text": [
      "Orignial array :  [-1 -4  0  2  3  4  5 -6]\n",
      "Replace the negative values of the said array with 0 :  [0 0 0 2 3 4 5 0]\n"
     ]
    }
   ],
   "source": [
    "import numpy as np\n",
    "array = np.array([-1,-4,0,2,3,4,5,-6])\n",
    "print(\"Orignial array : \", array)\n",
    "array[array < 0]=0\n",
    "print(\"Replace the negative values of the said array with 0 : \", array)"
   ]
  },
  {
   "cell_type": "code",
   "execution_count": null,
   "metadata": {},
   "outputs": [],
   "source": [
    "Q76. Write the NumPy program to compute the histogram of a set of data?\n"
   ]
  },
  {
   "cell_type": "code",
   "execution_count": 15,
   "metadata": {},
   "outputs": [
    {
     "data": {
      "image/png": "[encoded data removed]",
      "text/plain": [
       "<Figure size 432x288 with 1 Axes>"
      ]
     },
     "metadata": {
      "needs_background": "light"
     },
     "output_type": "display_data"
    }
   ],
   "source": [
    "import numpy as np\n",
    "import matplotlib.pyplot as plot\n",
    "plot.hist([2,0, 1], bins = [0,1,2,3])\n",
    "plot.show()"
   ]
  },
  {
   "cell_type": "code",
   "execution_count": null,
   "metadata": {},
   "outputs": [],
   "source": [
    "Q77. Write the NumPy program to compute the line graph of a set of data?"
   ]
  },
  {
   "cell_type": "code",
   "execution_count": 18,
   "metadata": {},
   "outputs": [
    {
     "data": {
      "image/png": "[encoded data removed]",
      "text/plain": [
       "<Figure size 432x288 with 1 Axes>"
      ]
     },
     "metadata": {
      "needs_background": "light"
     },
     "output_type": "display_data"
    }
   ],
   "source": [
    "import numpy as np\n",
    "import matplotlib.pyplot as plot\n",
    "array = np.random.randint(1,50,30)\n",
    "y, x = np.histogram(array, bins = np.arange(41))\n",
    "fig, ax = plot.subplots()\n",
    "ax.plot(x[:-1], y)\n",
    "plot.show()"
   ]
  },
  {
   "cell_type": "code",
   "execution_count": null,
   "metadata": {},
   "outputs": [],
   "source": [
    "Q78. Write the NumPy program to extracts all the elements from second row from given (4x4) array?\n",
    "Sample Output- Original array- [[ 0 1 2 3] [ 4 5 6 7] [ 8 9 10 11] [12 13 14 15]] Extracted data- Second row [4 5 6 7]"
   ]
  },
  {
   "cell_type": "code",
   "execution_count": 19,
   "metadata": {},
   "outputs": [
    {
     "name": "stdout",
     "output_type": "stream",
     "text": [
      "Original array : \n",
      " [[ 0  1  2  3]\n",
      " [ 4  5  6  7]\n",
      " [ 8  9 10 11]\n",
      " [12 13 14 15]]\n",
      "Extracted data of second row :  [4 5 6 7]\n"
     ]
    }
   ],
   "source": [
    "import numpy as np\n",
    "array = np.arange(0,16).reshape((4, 4))\n",
    "print(\"Original array : \\n\", array)\n",
    "print(\"Extracted data of second row : \", array[1, :])"
   ]
  },
  {
   "cell_type": "code",
   "execution_count": null,
   "metadata": {},
   "outputs": [],
   "source": [
    "Q79. Write the NumPy program to extract first element of the second row and fourth element of fourth row from a given (4x4) array? \n",
    "Sample Output- Original array- [[ 0 1 2 3] [ 4 5 6 7] [ 8 9 10 11] [12 13 14 15]] \n",
    "Extracted data- First element of the second row and fourth element of fourth row [ 4 15]"
   ]
  },
  {
   "cell_type": "code",
   "execution_count": 23,
   "metadata": {},
   "outputs": [
    {
     "name": "stdout",
     "output_type": "stream",
     "text": [
      "Original array :  [[ 0  1  2  3]\n",
      " [ 4  5  6  7]\n",
      " [ 8  9 10 11]\n",
      " [12 13 14 15]]\n",
      "First element of the second row and fourth element of fourth row :  [ 4 15]\n"
     ]
    }
   ],
   "source": [
    "import numpy as np\n",
    "array = np.arange(0, 16).reshape((4,4))\n",
    "print(\"Original array : \", array)\n",
    "print(\"First element of the second row and fourth element of fourth row : \", array[[1,3], [0,3]])"
   ]
  },
  {
   "cell_type": "code",
   "execution_count": null,
   "metadata": {},
   "outputs": [],
   "source": [
    "Q80. Write the NumPy program to add two arrays A and B of sizes (3,3) and (,3)?\n",
    "Sample Output- Original array- Array-1 [[1 1 1] [1 1 1] [1 1 1]] Array-2 [0 1 2] A + B: [[1 2 3][1 2 3] [1 2 3]]"
   ]
  },
  {
   "cell_type": "code",
   "execution_count": 27,
   "metadata": {},
   "outputs": [
    {
     "name": "stdout",
     "output_type": "stream",
     "text": [
      "Original arrays \n",
      "array1 : \n",
      " [[1. 1. 1.]\n",
      " [1. 1. 1.]\n",
      " [1. 1. 1.]] \n",
      " array2 : \n",
      " [0 1 2]\n",
      "A + B : \n",
      " [[1. 2. 3.]\n",
      " [1. 2. 3.]\n",
      " [1. 2. 3.]]\n"
     ]
    }
   ],
   "source": [
    "import numpy as np\n",
    "A = np.ones((3,3))\n",
    "B = np.arange((3))\n",
    "print(\"Original arrays \\narray1 : \\n\", A, \"\\n array2 : \\n\", B)\n",
    "sum_array = A+B\n",
    "print(\"A + B : \\n\" , sum_array)"
   ]
  },
  {
   "cell_type": "code",
   "execution_count": null,
   "metadata": {},
   "outputs": [],
   "source": [
    "Q81. Write the NumPy program to copy data from a given array to another array?\n",
    "Sample Output- Original array- [24 27 30 29 18 14] Copy of the said array- [24 27 30 29 18 14]"
   ]
  },
  {
   "cell_type": "code",
   "execution_count": 30,
   "metadata": {},
   "outputs": [
    {
     "name": "stdout",
     "output_type": "stream",
     "text": [
      "Original array :  [24 27 30 29 18 14]\n",
      "Copy of the said array : \n",
      " [24 27 30 29 18 14]\n"
     ]
    }
   ],
   "source": [
    "import numpy as np\n",
    "array = np.array([24,27,30,29,18,14])\n",
    "print(\"Original array : \", array)\n",
    "array2 = np.empty_like(array)\n",
    "array2[:] = array\n",
    "print(\"Copy of the said array : \\n\", array2)"
   ]
  },
  {
   "cell_type": "code",
   "execution_count": null,
   "metadata": {},
   "outputs": [],
   "source": [
    "Q82. Write the NumPy program to calculate the sum of all columns of the 2D numpy array?\n",
    "Sample Output- Original array- \n",
    "[[ 0 1 2 3 4 5 6 7 8] [ 9 10 11 12 13 14 15 16 17] [18 19 20 21 22 23 24 25 26] [27 28 29 30 31 32 33 34 35]] \n",
    "Sum of all columns- [54 58 62 66 70 74 78 82 86]"
   ]
  },
  {
   "cell_type": "code",
   "execution_count": 39,
   "metadata": {},
   "outputs": [
    {
     "name": "stdout",
     "output_type": "stream",
     "text": [
      "Original array : \n",
      " [[ 0  1  2  3  4  5  6  7  8]\n",
      " [ 9 10 11 12 13 14 15 16 17]\n",
      " [18 19 20 21 22 23 24 25 26]\n",
      " [27 28 29 30 31 32 33 34 35]]\n",
      "sum of all columns :  [54 58 62 66 70 74 78 82 86]\n"
     ]
    }
   ],
   "source": [
    "import numpy as np\n",
    "array = np.arange(36)\n",
    "array1 = np.reshape(array, [4,9])\n",
    "print(\"Original array : \\n\", array1)\n",
    "sum_columns = array1.sum(axis = 0)\n",
    "print(\"sum of all columns : \", sum_columns)"
   ]
  },
  {
   "cell_type": "code",
   "execution_count": null,
   "metadata": {},
   "outputs": [],
   "source": [
    "Q83. Write the NumPy program to calculate averages without NaNs along the given array?\n",
    "Sample Output- Original array- [[10. 20. 30.] [40. 50. nan] [nan 6. nan] [nan nan nan]]\n",
    "Averages without NaNs along the said array- [20. 45. 6. nan]"
   ]
  },
  {
   "cell_type": "code",
   "execution_count": 45,
   "metadata": {},
   "outputs": [
    {
     "name": "stdout",
     "output_type": "stream",
     "text": [
      "original array : \n",
      " [[10. 20. 30.]\n",
      " [40. 50. nan]\n",
      " [nan  6. nan]\n",
      " [nan nan nan]]\n",
      "Averages witout NaNs along the said array :  [20. 45.  6. nan]\n"
     ]
    }
   ],
   "source": [
    "import numpy as np\n",
    "array = np.array([[10,20,30], [40,50,np.nan], [np.nan, 6, np.nan], [np.nan, np.nan, np.nan]])\n",
    "print(\"original array : \\n\", array)\n",
    "a = np.ma.masked_array(array,np.isnan(array))\n",
    "array1 = np.mean(a, axis = 1)\n",
    "print(\"Averages witout NaNs along the said array : \", array1.filled(np.nan))"
   ]
  },
  {
   "cell_type": "code",
   "execution_count": null,
   "metadata": {},
   "outputs": [],
   "source": [
    "Q84. Create two arrays of six elements. Write the NumPy program to count the number of instances of a value occurring in one array on the condition of another array.\n",
    "Sample Output- Original arrays- [ 10 -10 10 -10 -10 10] [0.85 0.45 0.9 0.8 0.12 0.6 ] \n",
    "Number of instances of a value occurring in one array on the condition of another array: 3"
   ]
  },
  {
   "cell_type": "code",
   "execution_count": 52,
   "metadata": {},
   "outputs": [
    {
     "name": "stdout",
     "output_type": "stream",
     "text": [
      "Original array : \n",
      "a : \n",
      " [ 10 -10  10 -10 -10  10] \n",
      "b : \n",
      " [0.85 0.45 0.9  0.8  0.12 0.6 ]\n",
      "Number of instances of a value occuring in one array on the condition of another array :  3\n"
     ]
    }
   ],
   "source": [
    "import numpy as np\n",
    "a = np.array([10,-10, 10,-10, -10 ,10])\n",
    "b = np.array([0.85, 0.45, 0.9, 0.8, 0.12, 0.6])\n",
    "print(\"Original array : \\na : \\n\", a , \"\\nb : \\n\", b)\n",
    "c = np.sum((x == 10) & (y > 0.5))\n",
    "print(\"Number of instances of a value occuring in one array on the condition of another array : \",c)"
   ]
  },
  {
   "cell_type": "code",
   "execution_count": null,
   "metadata": {},
   "outputs": [],
   "source": [
    "Q85. Write the NumPy program to convert a Python dictionary to a Numpy ndarray ?\n",
    "Original dictionary-\n",
    "{'column0': {'a': 1, 'b': 0.0, 'c': 0.0, 'd': 2.0}, 'column1': {'a': 3.0, 'b': 1, 'c': 0.0, 'd': -1.0}, \n",
    " 'column2': {'a': 4, 'b': 1, 'c': 5.0, 'd': -1.0}, 'column3': {'a': 3.0, 'b': -1.0, 'c': -1.0, 'd': -1.0}} \n",
    "Type: <class 'dict'> nparray- [[ 1. 0. 0. 2.] [ 3. 1. 0. -1.] [ 4. 1. 5. -1.] [ 3. -1. -1. -1.]] \n",
    "    Type: <class 'numpy.ndarray'>"
   ]
  },
  {
   "cell_type": "code",
   "execution_count": 56,
   "metadata": {},
   "outputs": [
    {
     "name": "stdout",
     "output_type": "stream",
     "text": [
      "Original dictionary :  {'column0': {'a': 1, 'b': 0.0, 'c': 0.0, 'd': 2.0}, 'column1': {'a': 3.0, 'b': 1, 'c': 0.0, 'd': -1.0}, 'column2': {'a': 4, 'b': 1, 'c': 5.0, 'd': -1.0}, 'column3': {'a': 3.0, 'b': -1.0, 'c': -1.0, 'd': -1.0}}\n",
      "Type :  <class 'dict'>\n",
      "nparray :  [[ 1.  0.  0.  2.]\n",
      " [ 3.  1.  0. -1.]\n",
      " [ 4.  1.  5. -1.]\n",
      " [ 3. -1. -1. -1.]] \n",
      "Type : \n",
      " <class 'numpy.ndarray'>\n"
     ]
    }
   ],
   "source": [
    "import numpy as np\n",
    "from ast import literal_eval\n",
    "dict = \"\"\"{\"column0\":{\"a\":1,\"b\":0.0,\"c\":0.0,\"d\":2.0},\n",
    "   \"column1\":{\"a\":3.0,\"b\":1,\"c\":0.0,\"d\":-1.0},\n",
    "   \"column2\":{\"a\":4,\"b\":1,\"c\":5.0,\"d\":-1.0},\n",
    "   \"column3\":{\"a\":3.0,\"b\":-1.0,\"c\":-1.0,\"d\":-1.0}}\"\"\"\n",
    "a = literal_eval(dict)\n",
    "print(\"Original dictionary : \", a)\n",
    "print(\"Type : \", type(a))\n",
    "nparray = np.array([[b[i] for i in ['a', 'b','c','d']] for j, b in a.items()])\n",
    "print(\"nparray : \", nparray, \"\\nType : \\n\", type(nparray))"
   ]
  },
  {
   "cell_type": "code",
   "execution_count": null,
   "metadata": {},
   "outputs": [],
   "source": [
    "Q86. Write the Numpy program to find and store the non-zero unique rows in an array after comparing each row \n",
    "with other row in the given matrix?\n",
    "Original array- [[ 1 1 0] [ 0 0 0] [ 0 2 3] [ 0 0 0] [ 0 -1 1] [ 0 0 0]] Non-zero unique rows- [[ 1 1 0] [ 0 2 3] [ 0 -1 1]]"
   ]
  },
  {
   "cell_type": "code",
   "execution_count": 59,
   "metadata": {},
   "outputs": [
    {
     "name": "stdout",
     "output_type": "stream",
     "text": [
      "Original array: \n",
      " [[ 1  1  0]\n",
      " [ 0  0  0]\n",
      " [ 0  2  3]\n",
      " [ 0  0  0]\n",
      " [ 0 -1  1]\n",
      " [ 0  0  0]]\n",
      "Non-zero unique rows : \n",
      " [[ 1  1  0]\n",
      " [ 0  2  3]\n",
      " [ 0 -1  1]]\n"
     ]
    }
   ],
   "source": [
    "import numpy as np \n",
    "array = np.array([[1,1, 0] ,[ 0, 0, 0], [ 0, 2, 3], [ 0, 0, 0], [ 0, -1, 1], [ 0, 0, 0]])\n",
    "print(\"Original array: \\n\", array)\n",
    "a = {(0,0,0)}\n",
    "result = []\n",
    "for index, row in enumerate(map(tuple, array)):\n",
    "    if row not in a:\n",
    "        result.append(index)\n",
    "print(\"Non-zero unique rows : \\n\", array[result])"
   ]
  },
  {
   "cell_type": "code",
   "execution_count": null,
   "metadata": {},
   "outputs": [],
   "source": [
    "Q87. Write the NumPy program to multiply the matrix by another matrix of complex numbers and create a new matrix of complex\n",
    "numbers? \n",
    "Sample output- First array- [ 1.+2.j 3.+4.j] Second array- [ 5.+6.j 7.+8.j] Product of above two arrays- (70-8j)"
   ]
  },
  {
   "cell_type": "code",
   "execution_count": 61,
   "metadata": {},
   "outputs": [
    {
     "name": "stdout",
     "output_type": "stream",
     "text": [
      "First array :  [1.+2.j 3.+4.j] \n",
      "second_array :  [5.+6.j 7.+8.j]\n",
      "Product of the two arrays is :  (70-8j)\n"
     ]
    }
   ],
   "source": [
    "import numpy as np\n",
    "first_array = np.array([1+2j, 3+4j])\n",
    "second_array = np.array([5+6j,7+8j])\n",
    "print(\"First array : \", first_array, \"\\nsecond_array : \", second_array)\n",
    "product = np.vdot(first_array, second_array)\n",
    "print(\"Product of the two arrays is : \", product)"
   ]
  },
  {
   "cell_type": "code",
   "execution_count": null,
   "metadata": {},
   "outputs": [],
   "source": [
    "Q88. Write a NumPy program to generate the matrix product of two Arrays?\n",
    "Sample Output- Matrices and vectors. x- [[1, 0], [1, 1]] y- [[3, 1], [2, 2]] Matrix product of above two arrays-[[3 1] [5 3]]"
   ]
  },
  {
   "cell_type": "code",
   "execution_count": 64,
   "metadata": {},
   "outputs": [
    {
     "name": "stdout",
     "output_type": "stream",
     "text": [
      "Matrices and vectors : \n",
      "x :  [[1, 0], [1, 1]] \n",
      "y :  [[3, 1], [2, 2]]\n",
      "Matrix product of above two arrays : \n",
      " [[3 1]\n",
      " [5 3]]\n"
     ]
    }
   ],
   "source": [
    "import numpy as np\n",
    "x = [[1,0],[1,1]]\n",
    "y = [[3,1],[2,2]]\n",
    "print(\"Matrices and vectors : \\nx : \", x , \"\\ny : \", y)\n",
    "print(\"Matrix product of above two arrays : \\n\", np.matmul(x, y))"
   ]
  },
  {
   "cell_type": "code",
   "execution_count": null,
   "metadata": {},
   "outputs": [],
   "source": [
    "Q89. Write the NumPy program to find roots of the following Polynomials? \n",
    "a) (x2 - 4x + 7) b) x4 - 11x3 + 9x2 + 11x ? 10 Sample output- Roots of the first polynomial- [ 1. 1.] \n",
    "Roots of the second polynomial- [ 11.04461946+0.j -0.87114210+0.j 0.91326132+0.4531004j 0.91326132-0.4531004j ]"
   ]
  },
  {
   "cell_type": "code",
   "execution_count": 69,
   "metadata": {},
   "outputs": [
    {
     "name": "stdout",
     "output_type": "stream",
     "text": [
      "The Roots of the first polynomial :  [1. 1.]\n",
      "The Roots of the second polynomial :  [11.04461946+0.j        -0.8711421 +0.j         0.91326132+0.4531004j\n",
      "  0.91326132-0.4531004j]\n"
     ]
    }
   ],
   "source": [
    "import numpy as np\n",
    "print(\"The Roots of the first polynomial : \", np.roots([1,-2,1]))\n",
    "print(\"The Roots of the second polynomial : \", np.roots([1,-12,10,7,-10]))"
   ]
  },
  {
   "cell_type": "code",
   "execution_count": null,
   "metadata": {},
   "outputs": [],
   "source": [
    "Q90. Write the NumPy program to calculate inverse of sine, cosine, and inverse tangent for all elements in a given array?\n",
    "Sample output- Inverse sine- [-1.57079633 0. 1.57079633] Inverse cosine- [3.14159265 1.57079633 0. ]\n",
    "Inverse tangent- [-0.78539816 0. 0.78539816]"
   ]
  },
  {
   "cell_type": "code",
   "execution_count": 70,
   "metadata": {},
   "outputs": [
    {
     "name": "stdout",
     "output_type": "stream",
     "text": [
      "The Inverse sine :  [-1.57079633 -1.57079633]\n",
      "The Inverse cosine :  [3.14159265 3.14159265]\n",
      "The Inverse tangent :  [-0.78539816 -0.78539816]\n"
     ]
    }
   ],
   "source": [
    "import numpy as np\n",
    "a = np.array([-1,0-1])\n",
    "print(\"The Inverse sine : \", np.arcsin(a))\n",
    "print(\"The Inverse cosine : \", np.arccos(a))\n",
    "print(\"The Inverse tangent : \", np.arctan(a))"
   ]
  },
  {
   "cell_type": "code",
   "execution_count": null,
   "metadata": {},
   "outputs": [],
   "source": [
    "Q91. Write the NumPy program to calculate the difference between in neighbouring elements, element-wise of a given array? \n",
    "Sample output- \n",
    "Original array- [1 3 5 7 0] Difference between neighbouring elements, element-wise of the said array- [ 2 2 2 -7]"
   ]
  },
  {
   "cell_type": "code",
   "execution_count": 71,
   "metadata": {},
   "outputs": [
    {
     "name": "stdout",
     "output_type": "stream",
     "text": [
      "Original array :  [1 3 5 7 0]\n",
      "Difference neighbouring elements, element wise of the said array  is  :  [ 2  2  2 -7]\n"
     ]
    }
   ],
   "source": [
    "import numpy as np\n",
    "a = np.array([1,3,5,7,0])\n",
    "print(\"Original array : \", a)\n",
    "print(\"Difference neighbouring elements, element wise of the said array  is  : \", np.diff(a))"
   ]
  },
  {
   "cell_type": "code",
   "execution_count": null,
   "metadata": {},
   "outputs": [],
   "source": [
    "Q92. Write the Python program to find the maximum and the minimum value of a given flattened array?\n",
    "Expected Output- Original flattened array- [[0 1] [2 3]] \n",
    "Maximum value of the above flattened array- 3 Minimum value of the above flattened array- 0"
   ]
  },
  {
   "cell_type": "code",
   "execution_count": 78,
   "metadata": {},
   "outputs": [
    {
     "name": "stdout",
     "output_type": "stream",
     "text": [
      "Original flattened array is :  [[0 1]\n",
      " [2 3]]\n",
      "Maximum value of the above flattened array :  3 \n",
      "Minimum value of the above flattened array :  0\n"
     ]
    }
   ],
   "source": [
    "import numpy as np\n",
    "array = np.arange(4).reshape((2,2))\n",
    "print(\"Original flattened array is : \\n\", array)\n",
    "print(\"Maximum value of the above flattened array : \", np.amax(array), \n",
    "     \"\\nMinimum value of the above flattened array : \", np.amin(array))"
   ]
  },
  {
   "cell_type": "code",
   "execution_count": null,
   "metadata": {},
   "outputs": [],
   "source": [
    "Q93. Write the NumPy program to calculate the difference between in the maximum and the minimum values of a given array along \n",
    "the second axis ?\n",
    "Expected Output- Original array- [[ 0 1 2 3 4 5] [ 6 7 8 9 10 11]] \n",
    "Difference between the maximum and the minimum values of the said array- [5 5]"
   ]
  },
  {
   "cell_type": "code",
   "execution_count": 90,
   "metadata": {},
   "outputs": [
    {
     "name": "stdout",
     "output_type": "stream",
     "text": [
      "Original array : \n",
      " [[ 0  1  2  3  4  5]\n",
      " [ 6  7  8  9 10 11]]\n",
      "Difference between the maximum and the minimum values of the said array :  [5 5]\n"
     ]
    }
   ],
   "source": [
    "import numpy as np\n",
    "array = np.arange(12).reshape((2,6))\n",
    "print(\"Original array : \\n\", array)\n",
    "a = np.amax(array, 1) - np.amin(array,1)\n",
    "print(\"Difference between the maximum and the minimum values of the said array : \", a)"
   ]
  },
  {
   "cell_type": "code",
   "execution_count": null,
   "metadata": {},
   "outputs": [],
   "source": [
    "Q94. Write the NumPy program to compute the weighted of the given array ?\n",
    "Sample Output- Original array- [0 1 2 3 4] Weighted average of the said array- 2.6666666666666665"
   ]
  },
  {
   "cell_type": "code",
   "execution_count": 97,
   "metadata": {},
   "outputs": [
    {
     "name": "stdout",
     "output_type": "stream",
     "text": [
      "Original array :  [0 1 2 3 4]\n",
      "Weighted average of the said array :  2.6666666666666665\n"
     ]
    }
   ],
   "source": [
    "import numpy as np\n",
    "array = np.arange(5)\n",
    "print(\"Original array : \", array)\n",
    "weights = np.arange(1,6)\n",
    "a = np.average(array, weights=weights )\n",
    "print(\"Weighted average of the said array : \", a)"
   ]
  },
  {
   "cell_type": "code",
   "execution_count": null,
   "metadata": {},
   "outputs": [],
   "source": [
    "Q95. Write the NumPy program to compute the mean, standard deviation, and the variance of a given array along the second axis?\n",
    "Sample output- Original array- [0 1 2 3 4 5] Mean- 2.5 std- 1 variance- 2.9166666666666665"
   ]
  },
  {
   "cell_type": "code",
   "execution_count": 92,
   "metadata": {},
   "outputs": [
    {
     "name": "stdout",
     "output_type": "stream",
     "text": [
      "Original array :  [0 1 2 3 4 5]\n",
      "Mean :  2.5 \n",
      "std :  1.707825127659933 \n",
      "variance :  2.9166666666666665\n"
     ]
    }
   ],
   "source": [
    "import numpy as np\n",
    "array = np.arange(6)\n",
    "print(\"Original array : \", array)\n",
    "print(\"Mean : \", np.mean(array), \"\\nstd : \", np.std(array), \"\\nvariance : \", np.var(array))"
   ]
  },
  {
   "cell_type": "code",
   "execution_count": null,
   "metadata": {},
   "outputs": [],
   "source": [
    "Q96. Write the Numpy program to compute the covariance matrix of the two given arrays?\n",
    "Sample Output- Original array1- [0 1 2] Original array1- [2 1 0] Covariance matrix of the said arrays- [[ 1. -1.] [-1. 1.]]"
   ]
  },
  {
   "cell_type": "code",
   "execution_count": 104,
   "metadata": {},
   "outputs": [
    {
     "name": "stdout",
     "output_type": "stream",
     "text": [
      "Original array :  [0 1 2] \n",
      "Original array :  [2 1 0]\n",
      "Covariance matrix of the said arrays : \n",
      " [[ 1. -1.]\n",
      " [-1.  1.]]\n"
     ]
    }
   ],
   "source": [
    "import numpy as np\n",
    "array1 = np.array([0,1,2])\n",
    "array2 = np.array([2,1,0])\n",
    "print(\"Original array1 : \", array1, \"\\nOriginal array1 : \", array2)\n",
    "print(\"Covariance matrix of the said arrays : \\n\", np.cov(array1, array2))"
   ]
  },
  {
   "cell_type": "code",
   "execution_count": null,
   "metadata": {},
   "outputs": [],
   "source": [
    "Q97. Write a NumPy program to compute the cross-correlation of two given arrays ?\n",
    "Sample Output- Original array1-\n",
    "[0 1 3] Original array1- [2 4 5] Cross-correlation of the said arrays- [ [ 2.33333333 2.16666667 ] [ 2.16666667 2.33333333 ] ]"
   ]
  },
  {
   "cell_type": "code",
   "execution_count": 105,
   "metadata": {},
   "outputs": [
    {
     "name": "stdout",
     "output_type": "stream",
     "text": [
      "Original array1 :  [0 1 3] Original array1 :  [2 4 5]\n",
      "Cross-correlation of the said arrays :  [[2.33333333 2.16666667]\n",
      " [2.16666667 2.33333333]]\n"
     ]
    }
   ],
   "source": [
    "import numpy as np\n",
    "array1 = np.array([0,1,3])\n",
    "array2 = np.array([2,4,5])\n",
    "print(\"Original array1 : \", array1, \"Original array1 : \", array2)\n",
    "print(\"Cross-correlation of the said arrays : \", np.cov(array1, array2))"
   ]
  },
  {
   "cell_type": "code",
   "execution_count": null,
   "metadata": {},
   "outputs": [],
   "source": [
    "Q98. Write the NumPy program to compute Pearson product-moment correlation coefficients of two given arrays?\n",
    "Sample Output- Original array1- [0 1 3] Original array1- [2 4 5] \n",
    "Pearson product-moment correlation coefficients of the said arrays- [[1. 0.92857143] [0.92857143 1. ]]"
   ]
  },
  {
   "cell_type": "code",
   "execution_count": 111,
   "metadata": {},
   "outputs": [
    {
     "name": "stdout",
     "output_type": "stream",
     "text": [
      "Original array1 :  [0 1 3] \n",
      "Original array1 :  [2 4 5]\n",
      "pearson product-moment correlation coefficients of the said arrays : \n",
      " [[1.         0.92857143]\n",
      " [0.92857143 1.        ]]\n"
     ]
    }
   ],
   "source": [
    "import numpy as np\n",
    "array1 = np.array([0,1,3])\n",
    "array2 = np.array([2,4,5])\n",
    "print(\"Original array1 : \", array1, \"\\nOriginal array1 : \", array2)\n",
    "print(\"pearson product-moment correlation coefficients of the said arrays : \\n\", np.corrcoef(array1, array2))"
   ]
  },
  {
   "cell_type": "code",
   "execution_count": null,
   "metadata": {},
   "outputs": [],
   "source": [
    "Q99. Write the python program to count the number of occurrences of each value in a given array of non-negative integers? \n",
    "Note: bincount() Function- It count the occurrence of each value in an array of the non- negative integers in the range of the \n",
    "    array between the minimum and maximum values including the values that did not occur.\n",
    "    Sample Output- Original array- [0, 1, 6, 1, 4, 1, 2, 2, 7] Number of occurrences of each value in array- [1 3 2 0 1 0 1 1]"
   ]
  },
  {
   "cell_type": "code",
   "execution_count": 114,
   "metadata": {},
   "outputs": [
    {
     "name": "stdout",
     "output_type": "stream",
     "text": [
      "Original array :  [0, 1, 6, 1, 4, 1, 2, 2, 7]\n",
      "Number of occurences of each value in array :  [1 3 2 0 1 0 1 1]\n"
     ]
    }
   ],
   "source": [
    "import numpy as np \n",
    "array = [0, 1, 6, 1, 4, 1, 2, 2, 7]\n",
    "print(\"Original array : \", array)\n",
    "print(\"Number of occurences of each value in array : \", np.bincount(array))"
   ]
  },
  {
   "cell_type": "code",
   "execution_count": null,
   "metadata": {},
   "outputs": [],
   "source": [
    "Q100. Write a Numpy program to compute the histogram of nums against the bins?\n",
    "Sample Output- nums- [0.5 0.7 1. 1.2 1.3 2.1] bins- [0 1 2 3] Result- (array([2, 3, 1], dtype=int64), array([0, 1, 2, 3]))"
   ]
  },
  {
   "cell_type": "code",
   "execution_count": 116,
   "metadata": {},
   "outputs": [
    {
     "name": "stdout",
     "output_type": "stream",
     "text": [
      "nums :  [0.5 0.7 1.  1.2 1.3 2.1] \n",
      "bins :  [0 1 2 3]\n",
      "Result :  (array([2, 3, 1], dtype=int64), array([0, 1, 2, 3]))\n"
     ]
    },
    {
     "data": {
      "image/png": "[encoded data removed]",
      "text/plain": [
       "<Figure size 432x288 with 1 Axes>"
      ]
     },
     "metadata": {
      "needs_background": "light"
     },
     "output_type": "display_data"
    }
   ],
   "source": [
    "import numpy as np\n",
    "import matplotlib.pyplot as plt\n",
    "nums = np.array([0.5,0.7,1,1.2,1.3,2.1])\n",
    "bins = np.arange(4)\n",
    "print(\"nums : \", nums, \"\\nbins : \", bins)\n",
    "print(\"Result : \", np.histogram(nums, bins))\n",
    "plt.hist(nums, bins)\n",
    "plt.show()"
   ]
  },
  {
   "cell_type": "code",
   "execution_count": null,
   "metadata": {},
   "outputs": [],
   "source": [
    "Q101. Write the Python program to add, subtract, multiply and divide two pandas series ?\n",
    "Sample Series- [2, 4, 6, 8, 10], [1, 3, 5, 7, 9]"
   ]
  },
  {
   "cell_type": "code",
   "execution_count": 118,
   "metadata": {},
   "outputs": [
    {
     "name": "stdout",
     "output_type": "stream",
     "text": [
      "Addition : \n",
      " 0     3\n",
      "1     7\n",
      "2    11\n",
      "3    15\n",
      "4    19\n",
      "dtype: int64\n",
      "Subtraction : \n",
      " 0    1\n",
      "1    1\n",
      "2    1\n",
      "3    1\n",
      "4    1\n",
      "dtype: int64\n",
      "Multiplication : \n",
      " 0     2\n",
      "1    12\n",
      "2    30\n",
      "3    56\n",
      "4    90\n",
      "dtype: int64\n",
      "Division : \n",
      " 0    2.000000\n",
      "1    1.333333\n",
      "2    1.200000\n",
      "3    1.142857\n",
      "4    1.111111\n",
      "dtype: float64\n"
     ]
    }
   ],
   "source": [
    "import pandas as pd\n",
    "a = pd.Series([2, 4, 6, 8, 10])\n",
    "b = pd.Series([1, 3, 5, 7, 9])\n",
    "print(\"Addition : \\n\", a + b )\n",
    "print(\"Subtraction : \\n\", a - b)\n",
    "print(\"Multiplication : \\n\", a * b)\n",
    "print(\"Division : \\n\", a / b)"
   ]
  },
  {
   "cell_type": "code",
   "execution_count": null,
   "metadata": {},
   "outputs": [],
   "source": [
    "Q102. Write a Python program to convert a dictionary to the Pandas Series?\n",
    "Sample Series- Original dictionary- {'a': 100, 'b': 200, 'c': 300, 'd': 400, 'e': 800} : \n",
    "Converted series - a 100 b 200 c 300 d 400 e 800 dtype- int64"
   ]
  },
  {
   "cell_type": "code",
   "execution_count": 120,
   "metadata": {},
   "outputs": [
    {
     "name": "stdout",
     "output_type": "stream",
     "text": [
      "Original dictionary :  {'a': 100, 'b': 200, 'c': 300, 'd': 400, 'e': 800}\n",
      "Converted series :  a    100\n",
      "b    200\n",
      "c    300\n",
      "d    400\n",
      "e    800\n",
      "dtype: int64\n"
     ]
    }
   ],
   "source": [
    "import pandas as pd\n",
    "dict = {\"a\":100, \"b\": 200, \"c\":300, \"d\": 400, \"e\":800}\n",
    "print(\"Original dictionary : \", dict)\n",
    "print(\"Converted series : \", pd.Series(dict))"
   ]
  },
  {
   "cell_type": "code",
   "execution_count": null,
   "metadata": {},
   "outputs": [],
   "source": [
    "Q103. Write a python program to change the data type of given a column or a Series?\n",
    "Sample Series- Original Data Series- 0 100 \n",
    "1 200 2 python 3 300.12 4 400 dtype- object \n",
    "Change the said data type to numeric- 0 100.00 1 200.00 2 NaN 3 300.12 4 400.00 dtype- float64"
   ]
  },
  {
   "cell_type": "code",
   "execution_count": 125,
   "metadata": {},
   "outputs": [
    {
     "name": "stdout",
     "output_type": "stream",
     "text": [
      "Original Data Sereies :  0       100\n",
      "1       200\n",
      "2    python\n",
      "3    300.12\n",
      "4       400\n",
      "dtype: object\n",
      "Change the said data type to numeric :  0    100.00\n",
      "1    200.00\n",
      "2       NaN\n",
      "3    300.12\n",
      "4    400.00\n",
      "dtype: float64\n"
     ]
    }
   ],
   "source": [
    "import pandas as pd\n",
    "a = pd.Series([\"100\",\"200\",\"python\", \"300.12\", \"400\"])\n",
    "print(\"Original Data Sereies : \", a)\n",
    "print(\"Change the said data type to numeric : \", pd.to_numeric(a, errors='coerce'))"
   ]
  },
  {
   "cell_type": "code",
   "execution_count": null,
   "metadata": {},
   "outputs": [],
   "source": [
    "Q104. Write the python pandas program to convert the first column of a DataFrame as a Series?\n",
    "Sample Output- Original DataFrame- col1 col2 col3 0 1 4 7 1 2 5 5 2 3 6 8 3 4 9 12 4 7 5 1 5 11 0 11 1st \n",
    "column as a Series- 0 1 1 2 2 3 3 4 4 7 5 11 Name- col1, dtype- int64 <class 'pandas.core.series.Series'>"
   ]
  },
  {
   "cell_type": "code",
   "execution_count": 128,
   "metadata": {},
   "outputs": [
    {
     "name": "stdout",
     "output_type": "stream",
     "text": [
      "Original data :  {'col1': [1, 2, 3, 4, 7, 11], 'col2': [4, 5, 6, 9, 5, 0], 'col3': [7, 5, 8, 12, 1, 11]}\n",
      "1st column as series :  0     1\n",
      "1     2\n",
      "2     3\n",
      "3     4\n",
      "4     7\n",
      "5    11\n",
      "Name: col1, dtype: int64\n",
      "<class 'pandas.core.series.Series'>\n"
     ]
    },
    {
     "name": "stderr",
     "output_type": "stream",
     "text": [
      "C:\\Users\\snj89\\Anaconda3\\lib\\site-packages\\ipykernel_launcher.py:5: FutureWarning: \n",
      ".ix is deprecated. Please use\n",
      ".loc for label based indexing or\n",
      ".iloc for positional indexing\n",
      "\n",
      "See the documentation here:\n",
      "http://pandas.pydata.org/pandas-docs/stable/user_guide/indexing.html#ix-indexer-is-deprecated\n",
      "  \"\"\"\n"
     ]
    }
   ],
   "source": [
    "import pandas as pd\n",
    "a = {'col1': [1, 2, 3, 4, 7, 11], 'col2': [4, 5, 6, 9, 5, 0], 'col3': [7, 5, 8, 12, 1,11]}\n",
    "df = pd.DataFrame(data = a)\n",
    "print(\"Original data : \", a)\n",
    "b = df.ix[:,0]\n",
    "print(\"1st column as series : \", b)\n",
    "print(type(b))"
   ]
  },
  {
   "cell_type": "code",
   "execution_count": null,
   "metadata": {},
   "outputs": [],
   "source": [
    "Q105. Write a pandas program to create the mean and standard deviation of the data of a given Series?\n",
    "Sample Output- Original Data Series- 0 1 1 2 2 3 3 4 4 5 5 6 6 7 7 8 8 9 9 5 10 3 dtype- int64 \n",
    "Mean of the said Data Series- 4.81818181818 Standard deviation of the said Data Series- 2.52262489555"
   ]
  },
  {
   "cell_type": "code",
   "execution_count": 131,
   "metadata": {},
   "outputs": [
    {
     "name": "stdout",
     "output_type": "stream",
     "text": [
      "Original data Series : \n",
      " 0     1\n",
      "1     2\n",
      "2     3\n",
      "3     4\n",
      "4     5\n",
      "5     6\n",
      "6     7\n",
      "7     8\n",
      "8     9\n",
      "9     5\n",
      "10    3\n",
      "dtype: int64\n",
      "Mean of the said Data series  ;  4.818181818181818\n",
      "Standard deviation of the said data series :  2.522624895547565\n"
     ]
    }
   ],
   "source": [
    "import pandas as pd\n",
    "a = pd.Series(data = [1,2,3,4,5,6,7,8,9,5,3])\n",
    "print(\"Original data Series : \\n\", a)\n",
    "print(\"Mean of the said Data series  ; \", a.mean())\n",
    "print(\"Standard deviation of the said data series : \", a.std())"
   ]
  },
  {
   "cell_type": "code",
   "execution_count": null,
   "metadata": {},
   "outputs": [],
   "source": [
    "Q106. Write a pandas program to get powers of an array values element-wise? \n",
    "Note First array elements raised the powers from the second array. \n",
    "Sample data: {'X ':[78,85,96,80,86], ' Y ':[84,94,89,83,86],'Z':[86,97,96,72,83]} \n",
    "    Expected Output: X Y Z 0 78 84 86 1 85 94 97 2 96 89 96 3 80 83 72 4 86 86 83"
   ]
  },
  {
   "cell_type": "code",
   "execution_count": 133,
   "metadata": {},
   "outputs": [
    {
     "name": "stdout",
     "output_type": "stream",
     "text": [
      "   X    Y    Z\n",
      "0  78   84  86\n",
      "1  85   94  97\n",
      "2  96   89  96\n",
      "3  80   83  72\n",
      "4  86   86  83\n"
     ]
    }
   ],
   "source": [
    "import pandas as pd\n",
    "data = pd.DataFrame({'X ':[78,85,96,80,86], ' Y ':[84,94,89,83,86],'Z':[86,97,96,72,83]})\n",
    "print(data)"
   ]
  },
  {
   "cell_type": "code",
   "execution_count": null,
   "metadata": {},
   "outputs": [],
   "source": [
    "Q107. Write the pandas program to get the first 3 rows of a given DataFrame?\n",
    "Sample Python dictionary data and list labels- \n",
    "exam_data = {'name': ['Anastasia', 'Dima', 'Katherine', 'James', 'Emily', 'Michael', 'Matthew', 'Laura', 'Kevin', 'Jonas'], \n",
    "             'score': [12.5, 9, 16.5, np.nan, 9, 20, 14.5, np.nan, 8, 19], 'attempts'- [1, 3, 2, 3, 2, 3, 1, 1, 2, 1], \n",
    "             'qualify'- [ 'yes', 'no', 'yes' , 'no', ' no ', ' yes ', 'yes', 'no', 'no', 'yes' ] } \n",
    "labels = ['a', 'b', 'c', 'd', 'e', 'f', 'g', 'h', 'i', 'j' ] \n",
    "Expected Output- First three rows of the data frame- attempts name qualify score a 1 Anastasia yes 12.5 b 3 Dima no 9.0 c 2 \n",
    "Katherine yes 16.5"
   ]
  },
  {
   "cell_type": "code",
   "execution_count": 137,
   "metadata": {},
   "outputs": [
    {
     "name": "stdout",
     "output_type": "stream",
     "text": [
      "First three rows of the data frame are : \n",
      "         name  score  attempts qualify\n",
      "a  Anastasia   12.5         1     yes\n",
      "b       Dima    9.0         3      no\n",
      "c  Katherine   16.5         2     yes\n"
     ]
    }
   ],
   "source": [
    "import pandas as pd\n",
    "import numpy as np\n",
    "exam_data = {'name': ['Anastasia', 'Dima', 'Katherine', 'James', 'Emily', 'Michael', 'Matthew', 'Laura', 'Kevin', 'Jonas'], \n",
    "             'score': [12.5, 9, 16.5, np.nan, 9, 20, 14.5, np.nan, 8, 19], \n",
    "             'attempts': [1, 3, 2, 3, 2, 3, 1, 1, 2, 1], \n",
    "             'qualify': [ 'yes', 'no', 'yes' , 'no', ' no ', ' yes ', 'yes', 'no', 'no', 'yes' ] }\n",
    "labels = ['a', 'b', 'c', 'd', 'e', 'f', 'g', 'h', 'i', 'j' ]\n",
    "df = pd.DataFrame(exam_data, index = labels)\n",
    "print(\"First three rows of the data frame are : \\n\", df.iloc[:3])"
   ]
  },
  {
   "cell_type": "code",
   "execution_count": null,
   "metadata": {},
   "outputs": [],
   "source": [
    "Q108: Write the pandas program to select the specified columns and the rows from a given data frame?\n",
    "Sample Python dictionary data and list labels- Select 'name' and 'score' columns in rows 1, 3, 5, 6 from the following data \n",
    "frame. exam_data = {'name ': [ 'Anastasia', 'Dima', 'Katherine', 'James', 'Emily', 'Michael', 'Matthew', 'Laura', 'Kevin', \n",
    "                              'Jonas'], 'score'- [12.5, 9, 16.5, np.nan, 9, 20, 14.5, np.nan, 8, 19], \n",
    "                    'attempts'- [1, 3, 2, 3, 2, 3, 1, 1, 2, 1], \n",
    "                    'qualify'- ['yes', 'no', 'yes', 'no', 'no', 'yes', 'yes', 'no', 'no', 'yes'] }\n",
    "labels = ['a ', ' b ', ' c ', ' d ', ' e ', ' f ', ' g ', 'h', 'i', 'j'] \n",
    "Expected Output- Select specific columns and rows- name score b Dima 9.0 d James NaN f Michael 20.0 g Matthew 14.5"
   ]
  },
  {
   "cell_type": "code",
   "execution_count": 142,
   "metadata": {},
   "outputs": [
    {
     "name": "stdout",
     "output_type": "stream",
     "text": [
      "Select specific columns and rows : \n",
      "    score qualify\n",
      "b    9.0      no\n",
      "d    NaN      no\n",
      "f   20.0     yes\n",
      "g   14.5     yes\n"
     ]
    }
   ],
   "source": [
    "import pandas as pd \n",
    "import numpy as np\n",
    "exam_data  = {'name': ['Anastasia', 'Dima', 'Katherine', 'James', 'Emily', 'Michael', 'Matthew', 'Laura', 'Kevin', 'Jonas'],\n",
    "        'score': [12.5, 9, 16.5, np.nan, 9, 20, 14.5, np.nan, 8, 19],\n",
    "        'attempts': [1, 3, 2, 3, 2, 3, 1, 1, 2, 1],\n",
    "        'qualify': ['yes', 'no', 'yes', 'no', 'no', 'yes', 'yes', 'no', 'no', 'yes']}\n",
    "labels = ['a', 'b', 'c', 'd', 'e', 'f', 'g', 'h', 'i', 'j']\n",
    "df = pd.DataFrame(exam_data, labels)\n",
    "print(\"Select specific columns and rows : \\n\", df.iloc[[1,3,5,6 ], [1,3]])"
   ]
  },
  {
   "cell_type": "code",
   "execution_count": null,
   "metadata": {},
   "outputs": [],
   "source": [
    "Q109. Write the pandas program to calculate mean score for each different student in DataFrame?\n",
    "Sample Python dictionary data and list labels-\n",
    "exam_data = {'name': ['Anastasia', 'Dima', 'Katherine', 'James', 'Emily', 'Michael', 'Matthew', 'Laura', 'Kevin', 'Jonas'],\n",
    "             'score': [12.5, 9, 16.5, np.nan, 9, 20, 14.5, np.nan, 8, 19], 'attempts'- [1, 3, 2, 3, 2, 3, 1, 1, 2, 1], \n",
    "             'qualify'- ['yes', 'no', ' yes ', ' no ', ' no ', ' yes ', ' yes ', ' no ', ' no ', ' yes '] } \n",
    "labels = ['a', 'b', 'c', 'd', 'e', 'f', 'g', 'h', 'i', 'j'] \n",
    "Expected Output- Mean score for each different student in data frame: 13.5625"
   ]
  },
  {
   "cell_type": "code",
   "execution_count": 146,
   "metadata": {},
   "outputs": [
    {
     "name": "stdout",
     "output_type": "stream",
     "text": [
      "The mean score for each different student in data frame :  13.5625\n"
     ]
    }
   ],
   "source": [
    "import pandas as pd\n",
    "import numpy as np\n",
    "exam_data  = {'name': ['Anastasia', 'Dima', 'Katherine', 'James', 'Emily', 'Michael', 'Matthew', 'Laura', 'Kevin', 'Jonas'],\n",
    "        'score': [12.5, 9, 16.5, np.nan, 9, 20, 14.5, np.nan, 8, 19],\n",
    "        'attempts': [1, 3, 2, 3, 2, 3, 1, 1, 2, 1],\n",
    "        'qualify': ['yes', 'no', 'yes', 'no', 'no', 'yes', 'yes', 'no', 'no', 'yes']}\n",
    "labels = ['a', 'b', 'c', 'd', 'e', 'f', 'g', 'h', 'i', 'j']\n",
    "df = pd.DataFrame(exam_data, labels)\n",
    "print(\"The mean score for each different student in data frame : \", df['score'].mean())"
   ]
  },
  {
   "cell_type": "code",
   "execution_count": null,
   "metadata": {},
   "outputs": [],
   "source": [
    "Q110. Write the Pandas program to rename columns of a given DataFrame ?\n",
    "Sample data- Original data frame col1 col2 col3 0 1 4 7 1 2 5 8 2 3 6 9 \n",
    "New data frame after renaming columns: Column1 Column2 Column3 0 1 4 7 1 2 5 8 2 3 6 9"
   ]
  },
  {
   "cell_type": "code",
   "execution_count": 149,
   "metadata": {},
   "outputs": [
    {
     "name": "stdout",
     "output_type": "stream",
     "text": [
      "Original data fram : \n",
      "    col1  col2  col3\n",
      "0     1     4     7\n",
      "1     2     5     8\n",
      "2     3     6     9\n",
      "The new data frame after renaming columns: \n",
      "    Column1  Column2  Columns3\n",
      "0        1        4         7\n",
      "1        2        5         8\n",
      "2        3        6         9\n"
     ]
    }
   ],
   "source": [
    "import pandas as pd\n",
    "data = {'col1':[1,2,3], 'col2': [4, 5, 6], 'col3': [7, 8, 9]}\n",
    "df = pd.DataFrame(data = data)\n",
    "print(\"Original data fram : \\n\", df)\n",
    "df.columns = ['Column1', 'Column2', 'Columns3']\n",
    "df = df.rename(columns = {'col1': 'Column1', 'col2': 'Column2', 'col3': 'Column3'})\n",
    "print(\"The new data frame after renaming columns: \\n\", df)"
   ]
  },
  {
   "cell_type": "code",
   "execution_count": null,
   "metadata": {},
   "outputs": [],
   "source": [
    "Q111. Write a pandas program to count city-wise number of people from a given of data set (city, name of the person)?\n",
    "Sample data-city Number of people 0 California 4 1 Georgia 2 2 Los Angeles 4"
   ]
  },
  {
   "cell_type": "code",
   "execution_count": 157,
   "metadata": {},
   "outputs": [
    {
     "name": "stdout",
     "output_type": "stream",
     "text": [
      "          city  Number of people\n",
      "0     Culcatta                 3\n",
      "1      Georgia                 1\n",
      "2       London                 2\n",
      "3  Los Angeles                 3\n",
      "4      Lucknow                 1\n"
     ]
    }
   ],
   "source": [
    "import pandas as pd\n",
    "df = pd.DataFrame({'name': ['Amitabh', 'Dolly', 'Katrina', 'Ram', 'Shyam', 'Michael', 'Manoharlal', 'Luna', 'Kevin', 'jagga'],\n",
    "'city': ['Lucknow', 'Los Angeles', 'Culcatta', 'Culcatta', 'Culcatta', 'London', 'Los Angeles', 'Georgia', 'London', 'Los Angeles']})\n",
    "print(df.groupby([\"city\"]).size().reset_index(name = 'Number of people'))"
   ]
  },
  {
   "cell_type": "code",
   "execution_count": null,
   "metadata": {},
   "outputs": [],
   "source": [
    "Q112. Write a pandas program to widen output display to see more columns?\n",
    "Sample data- Original data frame col1 col2 col3 0 1 4 7 1 4 5 8 2 3 6 9 3 4 7 0 4 5 8 1"
   ]
  },
  {
   "cell_type": "code",
   "execution_count": 166,
   "metadata": {},
   "outputs": [
    {
     "name": "stdout",
     "output_type": "stream",
     "text": [
      "Orignial data : \n",
      "     col1  col2  col3\n",
      "0      1     4     7\n",
      "1      4     5    80\n",
      "2      5     6     9\n",
      "3      8     7     6\n",
      "4      6     6     4\n",
      "5      9     4    56\n",
      "6      7     8     2\n",
      "7     56     1     9\n",
      "8      7     6     0\n",
      "9      1     7     1\n",
      "10    56     1     6\n",
      "11     3     5     9\n",
      "12     4     4     4\n",
      "13     5     5     9\n"
     ]
    }
   ],
   "source": [
    "import pandas as pd\n",
    "import numpy as np\n",
    "dict  = {'col1': [1, 4, 5, 8, 6, 9, 7, 56, 7, 1, 56, 3, 4, 5], \n",
    "         'col2': [4, 5, 6, 7, 6, 4, 8, 1, 6, 7, 1, 5, 4, 5], \n",
    "         'col3': [7, 80, 9, 6, 4, 56, 2, 9, 0, 1, 6, 9, 4, 9]}\n",
    "df = pd.DataFrame(data = dict)\n",
    "pd.set_option(\"display.width\", 100)\n",
    "pd.set_option(\"display.max_rows\", 20)\n",
    "pd.set_option(\"display.max_columns\", 20)\n",
    "print(\"Orignial data : \\n\", df)"
   ]
  },
  {
   "cell_type": "code",
   "execution_count": null,
   "metadata": {},
   "outputs": [],
   "source": [
    "Q113. Write a pandas program to convert the data frame column type from string to DateTime?\n",
    "Sample data- String Date- 0 3/11/2000 1 3/12/2000 2 3/13/2000 dtype- object\n",
    "Original DataFrame (string to datetime)- 0 0 2000-03-11 1 2000-03-12 2 2000-03-13"
   ]
  },
  {
   "cell_type": "code",
   "execution_count": 171,
   "metadata": {},
   "outputs": [
    {
     "name": "stdout",
     "output_type": "stream",
     "text": [
      "String date : \n",
      " 0    3/11/2000\n",
      "1    3/12/2000\n",
      "2    3/13/2000\n",
      "dtype: object\n",
      "String to datetime : \n",
      "            0\n",
      "0 2000-03-11\n",
      "1 2000-03-12\n",
      "2 2000-03-13\n",
      "0   2000-03-11\n",
      "1   2000-03-12\n",
      "2   2000-03-13\n",
      "dtype: datetime64[ns]\n"
     ]
    }
   ],
   "source": [
    "import pandas as pd\n",
    "import numpy as np\n",
    "a = pd.Series(['3/11/2000', '3/12/2000', '3/13/2000'])\n",
    "print(\"String date : \\n\", a)\n",
    "b = pd.to_datetime(pd.Series(a))\n",
    "df = pd.DataFrame(b)\n",
    "print(\"String to datetime : \\n\", df)"
   ]
  },
  {
   "cell_type": "code",
   "execution_count": null,
   "metadata": {},
   "outputs": [],
   "source": [
    "Q114. Write a pandas program to append the data to an empty DataFrame?\n",
    "Sample data- Original DataFrame- After appending some data: col1 col2 0 0 0 1 1 1 2 2 2"
   ]
  },
  {
   "cell_type": "code",
   "execution_count": 173,
   "metadata": {},
   "outputs": [
    {
     "name": "stdout",
     "output_type": "stream",
     "text": [
      "Original DataFrame : \n",
      " Empty DataFrame\n",
      "Columns: []\n",
      "Index: []\n",
      "After appending the data frame : \n",
      "    col1  col2\n",
      "0     0     0\n",
      "1     1     1\n",
      "2     2     2\n",
      "3     3     3\n",
      "4     4     4\n"
     ]
    }
   ],
   "source": [
    "import pandas as pd\n",
    "import numpy as np\n",
    "df = pd.DataFrame()\n",
    "data = pd.DataFrame({'col1':range(5), 'col2':range(5)})\n",
    "print(\"Original DataFrame : \\n\", df)\n",
    "print(\"\\nAfter appending the data frame : \\n\", df.append(data))"
   ]
  },
  {
   "cell_type": "code",
   "execution_count": null,
   "metadata": {
    "collapsed": true
   },
   "outputs": [],
   "source": [
    "Q115. Write a pandas program to count the number of columns of a DataFrame?\n",
    "Sample Output- Original DataFrame col1 col2 col3 0 1 4 7 1 2 5 8 2 3 6 12 3 4 9 1 4 7 5 11 Number of columns- 3"
   ]
  },
  {
   "cell_type": "code",
   "execution_count": 175,
   "metadata": {},
   "outputs": [
    {
     "name": "stdout",
     "output_type": "stream",
     "text": [
      "Original DataFrame : \n",
      "          name         city\n",
      "0     Amitabh      Lucknow\n",
      "1       Dolly  Los Angeles\n",
      "2     Katrina     Culcatta\n",
      "3         Ram     Culcatta\n",
      "4       Shyam     Culcatta\n",
      "5     Michael       London\n",
      "6  Manoharlal  Los Angeles\n",
      "7        Luna      Georgia\n",
      "8       Kevin       London\n",
      "9       jagga  Los Angeles\n",
      "Number of columns :  2\n"
     ]
    }
   ],
   "source": [
    "import pandas as pd\n",
    "df = pd.DataFrame({'name': ['Amitabh', 'Dolly', 'Katrina', 'Ram', 'Shyam', 'Michael', 'Manoharlal', 'Luna', 'Kevin', 'jagga'],\n",
    "'city': ['Lucknow', 'Los Angeles', 'Culcatta', 'Culcatta', 'Culcatta', 'London', 'Los Angeles', 'Georgia', 'London', 'Los Angeles']})\n",
    "print(\"Original DataFrame : \\n\", df)\n",
    "print(\"\\nNumber of columns : \", len(df.columns))"
   ]
  },
  {
   "cell_type": "code",
   "execution_count": null,
   "metadata": {},
   "outputs": [],
   "source": [
    "Q116. Write a Pandas program to remove the last n rows of a given DataFrame ?\n",
    "Sample Output: Original DataFrame col1 col2 col3 0 1 4 7 1 2 5 5 2 3 6 8 3 4 9 12 4 7 5 1 5 11 0 11\n",
    "    After removing last 3 rows of the said DataFrame- col1 col2 col3 0 1 4 7 1 2 5 5 2 3 6 8\n"
   ]
  },
  {
   "cell_type": "code",
   "execution_count": 176,
   "metadata": {},
   "outputs": [
    {
     "name": "stdout",
     "output_type": "stream",
     "text": [
      "Original DataFrame : \n",
      "          name         city\n",
      "0     Amitabh      Lucknow\n",
      "1       Dolly  Los Angeles\n",
      "2     Katrina     Culcatta\n",
      "3         Ram     Culcatta\n",
      "4       Shyam     Culcatta\n",
      "5     Michael       London\n",
      "6  Manoharlal  Los Angeles\n",
      "7        Luna      Georgia\n",
      "8       Kevin       London\n",
      "9       jagga  Los Angeles\n",
      "After removing last 3 rows of the said DataFrame : \n",
      "       name         city\n",
      "0  Amitabh      Lucknow\n",
      "1    Dolly  Los Angeles\n",
      "2  Katrina     Culcatta\n"
     ]
    }
   ],
   "source": [
    "import pandas as pd\n",
    "df = pd.DataFrame({'name': ['Amitabh', 'Dolly', 'Katrina', 'Ram', 'Shyam', 'Michael', 'Manoharlal', 'Luna', 'Kevin', 'jagga'],\n",
    "'city': ['Lucknow', 'Los Angeles', 'Culcatta', 'Culcatta', 'Culcatta', 'London', 'Los Angeles', 'Georgia', 'London', 'Los Angeles']})\n",
    "print(\"Original DataFrame : \\n\", df)\n",
    "print(\"After removing last 3 rows of the said DataFrame : \\n\", df.iloc[:3])"
   ]
  },
  {
   "cell_type": "code",
   "execution_count": null,
   "metadata": {},
   "outputs": [],
   "source": [
    "Q117. Write a Pandas program to import excel data (coalpublic2013.xlsx ) into a Pandas data frame."
   ]
  },
  {
   "cell_type": "code",
   "execution_count": 2,
   "metadata": {},
   "outputs": [
    {
     "data": {
      "text/html": [
       "<div>\n",
       "<style scoped>\n",
       "    .dataframe tbody tr th:only-of-type {\n",
       "        vertical-align: middle;\n",
       "    }\n",
       "\n",
       "    .dataframe tbody tr th {\n",
       "        vertical-align: top;\n",
       "    }\n",
       "\n",
       "    .dataframe thead th {\n",
       "        text-align: right;\n",
       "    }\n",
       "</style>\n",
       "<table border=\"1\" class=\"dataframe\">\n",
       "  <thead>\n",
       "    <tr style=\"text-align: right;\">\n",
       "      <th></th>\n",
       "      <th>Year</th>\n",
       "      <th>MSHA ID</th>\n",
       "      <th>Mine_Name</th>\n",
       "      <th>Production</th>\n",
       "      <th>Labor_Hours</th>\n",
       "    </tr>\n",
       "  </thead>\n",
       "  <tbody>\n",
       "    <tr>\n",
       "      <td>0</td>\n",
       "      <td>2013</td>\n",
       "      <td>103381</td>\n",
       "      <td>Tacoa Highwall Miner</td>\n",
       "      <td>56004</td>\n",
       "      <td>22392</td>\n",
       "    </tr>\n",
       "    <tr>\n",
       "      <td>1</td>\n",
       "      <td>2013</td>\n",
       "      <td>103404</td>\n",
       "      <td>Reid School Mine</td>\n",
       "      <td>28807</td>\n",
       "      <td>28447</td>\n",
       "    </tr>\n",
       "    <tr>\n",
       "      <td>2</td>\n",
       "      <td>2013</td>\n",
       "      <td>100759</td>\n",
       "      <td>North River #1 Underground Min</td>\n",
       "      <td>1440115</td>\n",
       "      <td>474784</td>\n",
       "    </tr>\n",
       "    <tr>\n",
       "      <td>3</td>\n",
       "      <td>2013</td>\n",
       "      <td>103246</td>\n",
       "      <td>Bear Creek</td>\n",
       "      <td>87587</td>\n",
       "      <td>29193</td>\n",
       "    </tr>\n",
       "    <tr>\n",
       "      <td>4</td>\n",
       "      <td>2013</td>\n",
       "      <td>103451</td>\n",
       "      <td>Knight Mine</td>\n",
       "      <td>147499</td>\n",
       "      <td>46393</td>\n",
       "    </tr>\n",
       "    <tr>\n",
       "      <td>5</td>\n",
       "      <td>2013</td>\n",
       "      <td>103433</td>\n",
       "      <td>Crane Central Mine</td>\n",
       "      <td>69339</td>\n",
       "      <td>47195</td>\n",
       "    </tr>\n",
       "    <tr>\n",
       "      <td>6</td>\n",
       "      <td>2013</td>\n",
       "      <td>100329</td>\n",
       "      <td>Concord Mine</td>\n",
       "      <td>0</td>\n",
       "      <td>144002</td>\n",
       "    </tr>\n",
       "    <tr>\n",
       "      <td>7</td>\n",
       "      <td>2013</td>\n",
       "      <td>100851</td>\n",
       "      <td>Oak Grove Mine</td>\n",
       "      <td>2269014</td>\n",
       "      <td>1001809</td>\n",
       "    </tr>\n",
       "    <tr>\n",
       "      <td>8</td>\n",
       "      <td>2013</td>\n",
       "      <td>102901</td>\n",
       "      <td>Shoal Creek Mine</td>\n",
       "      <td>0</td>\n",
       "      <td>12396</td>\n",
       "    </tr>\n",
       "    <tr>\n",
       "      <td>9</td>\n",
       "      <td>2013</td>\n",
       "      <td>102901</td>\n",
       "      <td>Shoal Creek Mine</td>\n",
       "      <td>1453024</td>\n",
       "      <td>1237415</td>\n",
       "    </tr>\n",
       "    <tr>\n",
       "      <td>10</td>\n",
       "      <td>2013</td>\n",
       "      <td>103180</td>\n",
       "      <td>Sloan Mountain Mine</td>\n",
       "      <td>327780</td>\n",
       "      <td>196963</td>\n",
       "    </tr>\n",
       "    <tr>\n",
       "      <td>11</td>\n",
       "      <td>2013</td>\n",
       "      <td>103182</td>\n",
       "      <td>Fishtrap</td>\n",
       "      <td>175058</td>\n",
       "      <td>87314</td>\n",
       "    </tr>\n",
       "    <tr>\n",
       "      <td>12</td>\n",
       "      <td>2013</td>\n",
       "      <td>103285</td>\n",
       "      <td>Narley Mine</td>\n",
       "      <td>154861</td>\n",
       "      <td>90584</td>\n",
       "    </tr>\n",
       "    <tr>\n",
       "      <td>13</td>\n",
       "      <td>2013</td>\n",
       "      <td>103332</td>\n",
       "      <td>Powhatan Mine</td>\n",
       "      <td>140521</td>\n",
       "      <td>61394</td>\n",
       "    </tr>\n",
       "    <tr>\n",
       "      <td>14</td>\n",
       "      <td>2013</td>\n",
       "      <td>103375</td>\n",
       "      <td>Johnson Mine</td>\n",
       "      <td>580</td>\n",
       "      <td>1900</td>\n",
       "    </tr>\n",
       "    <tr>\n",
       "      <td>15</td>\n",
       "      <td>2013</td>\n",
       "      <td>103419</td>\n",
       "      <td>Maxine-Pratt Mine</td>\n",
       "      <td>125824</td>\n",
       "      <td>107469</td>\n",
       "    </tr>\n",
       "    <tr>\n",
       "      <td>16</td>\n",
       "      <td>2013</td>\n",
       "      <td>103432</td>\n",
       "      <td>Skelton Creek</td>\n",
       "      <td>8252</td>\n",
       "      <td>220</td>\n",
       "    </tr>\n",
       "    <tr>\n",
       "      <td>17</td>\n",
       "      <td>2013</td>\n",
       "      <td>103437</td>\n",
       "      <td>Black Warrior Mine No 1</td>\n",
       "      <td>145924</td>\n",
       "      <td>70926</td>\n",
       "    </tr>\n",
       "    <tr>\n",
       "      <td>18</td>\n",
       "      <td>2013</td>\n",
       "      <td>102976</td>\n",
       "      <td>Piney Woods Preparation Plant</td>\n",
       "      <td>0</td>\n",
       "      <td>14828</td>\n",
       "    </tr>\n",
       "    <tr>\n",
       "      <td>19</td>\n",
       "      <td>2013</td>\n",
       "      <td>102976</td>\n",
       "      <td>Piney Woods Preparation Plant</td>\n",
       "      <td>0</td>\n",
       "      <td>23193</td>\n",
       "    </tr>\n",
       "    <tr>\n",
       "      <td>20</td>\n",
       "      <td>2013</td>\n",
       "      <td>103380</td>\n",
       "      <td>Calera</td>\n",
       "      <td>0</td>\n",
       "      <td>12621</td>\n",
       "    </tr>\n",
       "    <tr>\n",
       "      <td>21</td>\n",
       "      <td>2013</td>\n",
       "      <td>103380</td>\n",
       "      <td>Calera</td>\n",
       "      <td>0</td>\n",
       "      <td>1402</td>\n",
       "    </tr>\n",
       "    <tr>\n",
       "      <td>22</td>\n",
       "      <td>2013</td>\n",
       "      <td>103422</td>\n",
       "      <td>Clark No 1 Mine</td>\n",
       "      <td>122727</td>\n",
       "      <td>140250</td>\n",
       "    </tr>\n",
       "    <tr>\n",
       "      <td>23</td>\n",
       "      <td>2013</td>\n",
       "      <td>103467</td>\n",
       "      <td>Helena Surface Mine</td>\n",
       "      <td>59664</td>\n",
       "      <td>30539</td>\n",
       "    </tr>\n",
       "    <tr>\n",
       "      <td>24</td>\n",
       "      <td>2013</td>\n",
       "      <td>101247</td>\n",
       "      <td>No 4 Mine</td>\n",
       "      <td>2622528</td>\n",
       "      <td>1551141</td>\n",
       "    </tr>\n",
       "    <tr>\n",
       "      <td>25</td>\n",
       "      <td>2013</td>\n",
       "      <td>101401</td>\n",
       "      <td>No 7 Mine</td>\n",
       "      <td>5405412</td>\n",
       "      <td>2464719</td>\n",
       "    </tr>\n",
       "    <tr>\n",
       "      <td>26</td>\n",
       "      <td>2013</td>\n",
       "      <td>103172</td>\n",
       "      <td>Searles Mine No. 2, 3, 4, 5, 6</td>\n",
       "      <td>258078</td>\n",
       "      <td>119542</td>\n",
       "    </tr>\n",
       "    <tr>\n",
       "      <td>27</td>\n",
       "      <td>2013</td>\n",
       "      <td>103179</td>\n",
       "      <td>Fleetwood Mine No 1</td>\n",
       "      <td>75937</td>\n",
       "      <td>63745</td>\n",
       "    </tr>\n",
       "    <tr>\n",
       "      <td>28</td>\n",
       "      <td>2013</td>\n",
       "      <td>103303</td>\n",
       "      <td>Shannon Mine</td>\n",
       "      <td>317491</td>\n",
       "      <td>164388</td>\n",
       "    </tr>\n",
       "    <tr>\n",
       "      <td>29</td>\n",
       "      <td>2013</td>\n",
       "      <td>103323</td>\n",
       "      <td>Deerlick Mine</td>\n",
       "      <td>133452</td>\n",
       "      <td>46381</td>\n",
       "    </tr>\n",
       "    <tr>\n",
       "      <td>30</td>\n",
       "      <td>2013</td>\n",
       "      <td>103364</td>\n",
       "      <td>Brc Alabama No. 7 Llc</td>\n",
       "      <td>0</td>\n",
       "      <td>14324</td>\n",
       "    </tr>\n",
       "    <tr>\n",
       "      <td>31</td>\n",
       "      <td>2013</td>\n",
       "      <td>103436</td>\n",
       "      <td>Swann's Crossing</td>\n",
       "      <td>137511</td>\n",
       "      <td>77190</td>\n",
       "    </tr>\n",
       "    <tr>\n",
       "      <td>32</td>\n",
       "      <td>2013</td>\n",
       "      <td>100347</td>\n",
       "      <td>Choctaw Mine</td>\n",
       "      <td>537429</td>\n",
       "      <td>215295</td>\n",
       "    </tr>\n",
       "    <tr>\n",
       "      <td>33</td>\n",
       "      <td>2013</td>\n",
       "      <td>101362</td>\n",
       "      <td>Manchester Mine</td>\n",
       "      <td>219457</td>\n",
       "      <td>116914</td>\n",
       "    </tr>\n",
       "    <tr>\n",
       "      <td>34</td>\n",
       "      <td>2013</td>\n",
       "      <td>102996</td>\n",
       "      <td>Jap Creek Mine</td>\n",
       "      <td>375715</td>\n",
       "      <td>164093</td>\n",
       "    </tr>\n",
       "    <tr>\n",
       "      <td>35</td>\n",
       "      <td>2013</td>\n",
       "      <td>103155</td>\n",
       "      <td>Corinth Prep Plant</td>\n",
       "      <td>0</td>\n",
       "      <td>27996</td>\n",
       "    </tr>\n",
       "    <tr>\n",
       "      <td>36</td>\n",
       "      <td>2013</td>\n",
       "      <td>103155</td>\n",
       "      <td>Corinth Prep Plant</td>\n",
       "      <td>0</td>\n",
       "      <td>51994</td>\n",
       "    </tr>\n",
       "    <tr>\n",
       "      <td>37</td>\n",
       "      <td>2013</td>\n",
       "      <td>103195</td>\n",
       "      <td>Mccollum/Sparks Branch Mine</td>\n",
       "      <td>71910</td>\n",
       "      <td>17411</td>\n",
       "    </tr>\n",
       "    <tr>\n",
       "      <td>38</td>\n",
       "      <td>2013</td>\n",
       "      <td>103342</td>\n",
       "      <td>Reese's Branch Mine</td>\n",
       "      <td>263888</td>\n",
       "      <td>115123</td>\n",
       "    </tr>\n",
       "    <tr>\n",
       "      <td>39</td>\n",
       "      <td>2013</td>\n",
       "      <td>103370</td>\n",
       "      <td>Cresent Valley Mine</td>\n",
       "      <td>2860</td>\n",
       "      <td>621</td>\n",
       "    </tr>\n",
       "    <tr>\n",
       "      <td>40</td>\n",
       "      <td>2013</td>\n",
       "      <td>103372</td>\n",
       "      <td>Cane Creek Mine</td>\n",
       "      <td>66258</td>\n",
       "      <td>32401</td>\n",
       "    </tr>\n",
       "    <tr>\n",
       "      <td>41</td>\n",
       "      <td>2013</td>\n",
       "      <td>103376</td>\n",
       "      <td>Town Creek</td>\n",
       "      <td>299167</td>\n",
       "      <td>176499</td>\n",
       "    </tr>\n",
       "    <tr>\n",
       "      <td>42</td>\n",
       "      <td>2013</td>\n",
       "      <td>103389</td>\n",
       "      <td>Carbon Hill Mine</td>\n",
       "      <td>76241</td>\n",
       "      <td>84966</td>\n",
       "    </tr>\n",
       "    <tr>\n",
       "      <td>43</td>\n",
       "      <td>2013</td>\n",
       "      <td>103410</td>\n",
       "      <td>Coal Valley Mine</td>\n",
       "      <td>407841</td>\n",
       "      <td>158591</td>\n",
       "    </tr>\n",
       "    <tr>\n",
       "      <td>44</td>\n",
       "      <td>2013</td>\n",
       "      <td>103423</td>\n",
       "      <td>Dutton Hill Mine</td>\n",
       "      <td>37275</td>\n",
       "      <td>9162</td>\n",
       "    </tr>\n",
       "    <tr>\n",
       "      <td>45</td>\n",
       "      <td>2013</td>\n",
       "      <td>1519322</td>\n",
       "      <td>Ghm #25</td>\n",
       "      <td>25054</td>\n",
       "      <td>3108</td>\n",
       "    </tr>\n",
       "    <tr>\n",
       "      <td>46</td>\n",
       "      <td>2013</td>\n",
       "      <td>103321</td>\n",
       "      <td>Poplar Springs</td>\n",
       "      <td>189370</td>\n",
       "      <td>76366</td>\n",
       "    </tr>\n",
       "    <tr>\n",
       "      <td>47</td>\n",
       "      <td>2013</td>\n",
       "      <td>103358</td>\n",
       "      <td>Old Union</td>\n",
       "      <td>284563</td>\n",
       "      <td>161805</td>\n",
       "    </tr>\n",
       "    <tr>\n",
       "      <td>48</td>\n",
       "      <td>2013</td>\n",
       "      <td>5000030</td>\n",
       "      <td>Usibelli</td>\n",
       "      <td>1631584</td>\n",
       "      <td>286079</td>\n",
       "    </tr>\n",
       "    <tr>\n",
       "      <td>49</td>\n",
       "      <td>2013</td>\n",
       "      <td>201195</td>\n",
       "      <td>Kayenta Mine</td>\n",
       "      <td>7602722</td>\n",
       "      <td>1015333</td>\n",
       "    </tr>\n",
       "  </tbody>\n",
       "</table>\n",
       "</div>"
      ],
      "text/plain": [
       "    Year  MSHA ID                       Mine_Name  Production  Labor_Hours\n",
       "0   2013   103381            Tacoa Highwall Miner       56004        22392\n",
       "1   2013   103404                Reid School Mine       28807        28447\n",
       "2   2013   100759  North River #1 Underground Min     1440115       474784\n",
       "3   2013   103246                      Bear Creek       87587        29193\n",
       "4   2013   103451                     Knight Mine      147499        46393\n",
       "5   2013   103433              Crane Central Mine       69339        47195\n",
       "6   2013   100329                    Concord Mine           0       144002\n",
       "7   2013   100851                  Oak Grove Mine     2269014      1001809\n",
       "8   2013   102901                Shoal Creek Mine           0        12396\n",
       "9   2013   102901                Shoal Creek Mine     1453024      1237415\n",
       "10  2013   103180             Sloan Mountain Mine      327780       196963\n",
       "11  2013   103182                        Fishtrap      175058        87314\n",
       "12  2013   103285                     Narley Mine      154861        90584\n",
       "13  2013   103332                   Powhatan Mine      140521        61394\n",
       "14  2013   103375                    Johnson Mine         580         1900\n",
       "15  2013   103419               Maxine-Pratt Mine      125824       107469\n",
       "16  2013   103432                   Skelton Creek        8252          220\n",
       "17  2013   103437         Black Warrior Mine No 1      145924        70926\n",
       "18  2013   102976   Piney Woods Preparation Plant           0        14828\n",
       "19  2013   102976   Piney Woods Preparation Plant           0        23193\n",
       "20  2013   103380                          Calera           0        12621\n",
       "21  2013   103380                          Calera           0         1402\n",
       "22  2013   103422                 Clark No 1 Mine      122727       140250\n",
       "23  2013   103467             Helena Surface Mine       59664        30539\n",
       "24  2013   101247                       No 4 Mine     2622528      1551141\n",
       "25  2013   101401                       No 7 Mine     5405412      2464719\n",
       "26  2013   103172  Searles Mine No. 2, 3, 4, 5, 6      258078       119542\n",
       "27  2013   103179             Fleetwood Mine No 1       75937        63745\n",
       "28  2013   103303                    Shannon Mine      317491       164388\n",
       "29  2013   103323                   Deerlick Mine      133452        46381\n",
       "30  2013   103364           Brc Alabama No. 7 Llc           0        14324\n",
       "31  2013   103436                Swann's Crossing      137511        77190\n",
       "32  2013   100347                    Choctaw Mine      537429       215295\n",
       "33  2013   101362                 Manchester Mine      219457       116914\n",
       "34  2013   102996                  Jap Creek Mine      375715       164093\n",
       "35  2013   103155              Corinth Prep Plant           0        27996\n",
       "36  2013   103155              Corinth Prep Plant           0        51994\n",
       "37  2013   103195     Mccollum/Sparks Branch Mine       71910        17411\n",
       "38  2013   103342             Reese's Branch Mine      263888       115123\n",
       "39  2013   103370             Cresent Valley Mine        2860          621\n",
       "40  2013   103372                 Cane Creek Mine       66258        32401\n",
       "41  2013   103376                      Town Creek      299167       176499\n",
       "42  2013   103389                Carbon Hill Mine       76241        84966\n",
       "43  2013   103410                Coal Valley Mine      407841       158591\n",
       "44  2013   103423                Dutton Hill Mine       37275         9162\n",
       "45  2013  1519322                         Ghm #25       25054         3108\n",
       "46  2013   103321                  Poplar Springs      189370        76366\n",
       "47  2013   103358                       Old Union      284563       161805\n",
       "48  2013  5000030                        Usibelli     1631584       286079\n",
       "49  2013   201195                    Kayenta Mine     7602722      1015333"
      ]
     },
     "execution_count": 2,
     "metadata": {},
     "output_type": "execute_result"
    }
   ],
   "source": [
    "import pandas as pd\n",
    "import numpy as np\n",
    "df = pd.read_excel('D:\\Machine Learning\\docs\\coalpublic2013.xlsx')\n",
    "df.tail(n=50)"
   ]
  },
  {
   "cell_type": "code",
   "execution_count": null,
   "metadata": {},
   "outputs": [],
   "source": [
    "Q118. Write a Pandas program to import excel data (coalpublic2013.xlsx ) into a data frame \n",
    "and find details where \"Mine Name\" starts with \"P."
   ]
  },
  {
   "cell_type": "code",
   "execution_count": 6,
   "metadata": {},
   "outputs": [
    {
     "data": {
      "text/html": [
       "<div>\n",
       "<style scoped>\n",
       "    .dataframe tbody tr th:only-of-type {\n",
       "        vertical-align: middle;\n",
       "    }\n",
       "\n",
       "    .dataframe tbody tr th {\n",
       "        vertical-align: top;\n",
       "    }\n",
       "\n",
       "    .dataframe thead th {\n",
       "        text-align: right;\n",
       "    }\n",
       "</style>\n",
       "<table border=\"1\" class=\"dataframe\">\n",
       "  <thead>\n",
       "    <tr style=\"text-align: right;\">\n",
       "      <th></th>\n",
       "      <th>Year</th>\n",
       "      <th>MSHA ID</th>\n",
       "      <th>Mine_Name</th>\n",
       "      <th>Production</th>\n",
       "      <th>Labor_Hours</th>\n",
       "    </tr>\n",
       "  </thead>\n",
       "  <tbody>\n",
       "    <tr>\n",
       "      <td>3</td>\n",
       "      <td>2013</td>\n",
       "      <td>103246</td>\n",
       "      <td>Bear Creek</td>\n",
       "      <td>87587</td>\n",
       "      <td>29193</td>\n",
       "    </tr>\n",
       "    <tr>\n",
       "      <td>17</td>\n",
       "      <td>2013</td>\n",
       "      <td>103437</td>\n",
       "      <td>Black Warrior Mine No 1</td>\n",
       "      <td>145924</td>\n",
       "      <td>70926</td>\n",
       "    </tr>\n",
       "    <tr>\n",
       "      <td>30</td>\n",
       "      <td>2013</td>\n",
       "      <td>103364</td>\n",
       "      <td>Brc Alabama No. 7 Llc</td>\n",
       "      <td>0</td>\n",
       "      <td>14324</td>\n",
       "    </tr>\n",
       "  </tbody>\n",
       "</table>\n",
       "</div>"
      ],
      "text/plain": [
       "    Year  MSHA ID                Mine_Name  Production  Labor_Hours\n",
       "3   2013   103246               Bear Creek       87587        29193\n",
       "17  2013   103437  Black Warrior Mine No 1      145924        70926\n",
       "30  2013   103364    Brc Alabama No. 7 Llc           0        14324"
      ]
     },
     "execution_count": 6,
     "metadata": {},
     "output_type": "execute_result"
    }
   ],
   "source": [
    "import pandas as pd\n",
    "import numpy as np\n",
    "df = pd.read_excel('D:\\Machine Learning\\docs\\coalpublic2013.xlsx')\n",
    "df[df[\"Mine_Name\"].map(lambda x: x.startswith('P'))].head()\n",
    "df[df[\"Mine_Name\"].map(lambda x: x.startswith('B'))].head()"
   ]
  },
  {
   "cell_type": "code",
   "execution_count": null,
   "metadata": {},
   "outputs": [],
   "source": [
    "Q119. Write a Pandas program to import excel data (employee.xlsx ) into a Pandas dataframe and find the list of \n",
    "employees where hire_date> 01-01-07."
   ]
  },
  {
   "cell_type": "code",
   "execution_count": 9,
   "metadata": {},
   "outputs": [
    {
     "data": {
      "text/html": [
       "<div>\n",
       "<style scoped>\n",
       "    .dataframe tbody tr th:only-of-type {\n",
       "        vertical-align: middle;\n",
       "    }\n",
       "\n",
       "    .dataframe tbody tr th {\n",
       "        vertical-align: top;\n",
       "    }\n",
       "\n",
       "    .dataframe thead th {\n",
       "        text-align: right;\n",
       "    }\n",
       "</style>\n",
       "<table border=\"1\" class=\"dataframe\">\n",
       "  <thead>\n",
       "    <tr style=\"text-align: right;\">\n",
       "      <th></th>\n",
       "      <th>emp_id</th>\n",
       "      <th>first_name</th>\n",
       "      <th>last_name</th>\n",
       "      <th>hire_date</th>\n",
       "    </tr>\n",
       "  </thead>\n",
       "  <tbody>\n",
       "    <tr>\n",
       "      <td>4</td>\n",
       "      <td>104</td>\n",
       "      <td>Bruce</td>\n",
       "      <td>Ernst</td>\n",
       "      <td>2007-05-21</td>\n",
       "    </tr>\n",
       "    <tr>\n",
       "      <td>7</td>\n",
       "      <td>107</td>\n",
       "      <td>Diana</td>\n",
       "      <td>Lorentz</td>\n",
       "      <td>2007-02-07</td>\n",
       "    </tr>\n",
       "    <tr>\n",
       "      <td>13</td>\n",
       "      <td>113</td>\n",
       "      <td>Luis</td>\n",
       "      <td>Popp</td>\n",
       "      <td>2007-12-07</td>\n",
       "    </tr>\n",
       "    <tr>\n",
       "      <td>19</td>\n",
       "      <td>119</td>\n",
       "      <td>Karen</td>\n",
       "      <td>Colmenares</td>\n",
       "      <td>2007-08-10</td>\n",
       "    </tr>\n",
       "  </tbody>\n",
       "</table>\n",
       "</div>"
      ],
      "text/plain": [
       "    emp_id first_name   last_name  hire_date\n",
       "4      104      Bruce       Ernst 2007-05-21\n",
       "7      107      Diana     Lorentz 2007-02-07\n",
       "13     113       Luis        Popp 2007-12-07\n",
       "19     119      Karen  Colmenares 2007-08-10"
      ]
     },
     "execution_count": 9,
     "metadata": {},
     "output_type": "execute_result"
    }
   ],
   "source": [
    "import pandas as pd\n",
    "df = pd.read_excel('D:\\Machine Learning\\docs\\employee.xlsx')\n",
    "df[df['hire_date'] > '01-01-07']"
   ]
  },
  {
   "cell_type": "code",
   "execution_count": null,
   "metadata": {},
   "outputs": [],
   "source": [
    "Q120. Write a Pandas program to import excel data (employee.xlsx ) into a Pandas dataframe and find a list of the\n",
    "employees of a specified year"
   ]
  },
  {
   "cell_type": "code",
   "execution_count": 3,
   "metadata": {},
   "outputs": [
    {
     "data": {
      "text/html": [
       "<div>\n",
       "<style scoped>\n",
       "    .dataframe tbody tr th:only-of-type {\n",
       "        vertical-align: middle;\n",
       "    }\n",
       "\n",
       "    .dataframe tbody tr th {\n",
       "        vertical-align: top;\n",
       "    }\n",
       "\n",
       "    .dataframe thead th {\n",
       "        text-align: right;\n",
       "    }\n",
       "</style>\n",
       "<table border=\"1\" class=\"dataframe\">\n",
       "  <thead>\n",
       "    <tr style=\"text-align: right;\">\n",
       "      <th></th>\n",
       "      <th>emp_id</th>\n",
       "      <th>first_name</th>\n",
       "      <th>last_name</th>\n",
       "    </tr>\n",
       "    <tr>\n",
       "      <th>hire_date</th>\n",
       "      <th></th>\n",
       "      <th></th>\n",
       "      <th></th>\n",
       "    </tr>\n",
       "  </thead>\n",
       "  <tbody>\n",
       "    <tr>\n",
       "      <td>2005-09-21</td>\n",
       "      <td>101</td>\n",
       "      <td>Neena</td>\n",
       "      <td>Kochhar</td>\n",
       "    </tr>\n",
       "    <tr>\n",
       "      <td>2005-06-25</td>\n",
       "      <td>105</td>\n",
       "      <td>David</td>\n",
       "      <td>Austin</td>\n",
       "    </tr>\n",
       "    <tr>\n",
       "      <td>2005-09-28</td>\n",
       "      <td>110</td>\n",
       "      <td>John</td>\n",
       "      <td>Chen</td>\n",
       "    </tr>\n",
       "    <tr>\n",
       "      <td>2005-09-30</td>\n",
       "      <td>111</td>\n",
       "      <td>Ismael</td>\n",
       "      <td>Sciarra</td>\n",
       "    </tr>\n",
       "    <tr>\n",
       "      <td>2005-12-24</td>\n",
       "      <td>116</td>\n",
       "      <td>Shelli</td>\n",
       "      <td>Baida</td>\n",
       "    </tr>\n",
       "    <tr>\n",
       "      <td>2005-07-24</td>\n",
       "      <td>117</td>\n",
       "      <td>Sigal</td>\n",
       "      <td>Tobias</td>\n",
       "    </tr>\n",
       "  </tbody>\n",
       "</table>\n",
       "</div>"
      ],
      "text/plain": [
       "            emp_id first_name last_name\n",
       "hire_date                              \n",
       "2005-09-21     101      Neena   Kochhar\n",
       "2005-06-25     105      David    Austin\n",
       "2005-09-28     110       John      Chen\n",
       "2005-09-30     111     Ismael   Sciarra\n",
       "2005-12-24     116     Shelli     Baida\n",
       "2005-07-24     117      Sigal    Tobias"
      ]
     },
     "execution_count": 3,
     "metadata": {},
     "output_type": "execute_result"
    }
   ],
   "source": [
    "import pandas as pd\n",
    "df = pd.read_excel('D:\\Machine Learning\\docs\\employee.xlsx')\n",
    "df1 = df.set_index(['hire_date'])\n",
    "a = df1['2005']\n",
    "a"
   ]
  },
  {
   "cell_type": "code",
   "execution_count": null,
   "metadata": {},
   "outputs": [],
   "source": [
    "Q121. Write a pandas program to import three datasheets from a given excel data (coalpublic2013.xlsx ) in to a single dataframe.\n",
    "Note: Structure of three datasheets are same."
   ]
  },
  {
   "cell_type": "code",
   "execution_count": 7,
   "metadata": {},
   "outputs": [
    {
     "name": "stdout",
     "output_type": "stream",
     "text": [
      "    emp_id   first_name    last_name  hire_date\n",
      "0      100       Steven         King 2003-06-17\n",
      "1      101        Neena      Kochhar 2005-09-21\n",
      "2      102          Lex      De Haan 2001-01-13\n",
      "3      103    Alexander       Hunold 2006-01-03\n",
      "4      104        Bruce        Ernst 2007-05-21\n",
      "5      105        David       Austin 2005-06-25\n",
      "6      106        Valli    Pataballa 2006-02-05\n",
      "7      107        Diana      Lorentz 2007-02-07\n",
      "8      108        Nancy    Greenberg 2002-08-17\n",
      "9      109       Daniel       Faviet 2002-08-16\n",
      "10     110         John         Chen 2005-09-28\n",
      "11     111       Ismael      Sciarra 2005-09-30\n",
      "12     112  Jose Manuel        Urman 2006-03-07\n",
      "13     113         Luis         Popp 2007-12-07\n",
      "14     114          Den     Raphaely 2002-12-07\n",
      "15     115    Alexander         Khoo 2003-05-18\n",
      "16     116       Shelli        Baida 2005-12-24\n",
      "17     117        Sigal       Tobias 2005-07-24\n",
      "18     118          Guy       Himuro 2006-11-15\n",
      "19     119        Karen   Colmenares 2007-08-10\n",
      "0      120      Matthew        Weiss 2004-07-18\n",
      "1      121         Adam        Fripp 2005-04-10\n",
      "2      122        Payam     Kaufling 2003-05-01\n",
      "3      123       Shanta      Vollman 2005-10-10\n",
      "4      124        Kevin      Mourgos 2007-11-16\n",
      "5      125        Julia        Nayer 2005-07-16\n",
      "6      126        Irene  Mikkilineni 2006-09-28\n",
      "7      127        James       Landry 2007-01-14\n",
      "8      128       Steven       Markle 2008-03-08\n",
      "9      129        Laura       Bissot 2005-08-20\n",
      "10     130        Mozhe     Atkinson 2005-10-30\n",
      "11     131        James       Marlow 2005-02-16\n",
      "12     132           TJ        Olson 2007-04-10\n",
      "13     133        Jason       Mallin 2004-06-14\n",
      "14     134      Michael       Rogers 2006-08-26\n",
      "15     135           Ki          Gee 2007-12-12\n",
      "16     136        Hazel   Philtanker 2008-02-06\n",
      "17     137       Renske       Ladwig 2003-07-14\n",
      "18     138      Stephen       Stiles 2005-10-26\n",
      "0      141       Trenna         Rajs 2003-10-17\n",
      "1      142       Curtis       Davies 2005-01-29\n",
      "2      143      Randall        Matos 2006-03-15\n",
      "3      144        Peter       Vargas 2006-07-09\n",
      "4      145         John      Russell 2004-10-01\n",
      "5      146        Karen     Partners 2005-01-05\n",
      "6      147      Alberto    Errazuriz 2005-03-10\n",
      "7      148       Gerald    Cambrault 2007-10-15\n",
      "8      149        Eleni      Zlotkey 2008-01-29\n"
     ]
    }
   ],
   "source": [
    "import pandas as pd\n",
    "sheet1 = pd.read_excel('D:\\Machine Learning\\docs\\employee.xlsx', sheet_name = 0)\n",
    "sheet2 = pd.read_excel('D:\\Machine Learning\\docs\\employee.xlsx', sheet_name = 1)\n",
    "sheet3 = pd.read_excel('D:\\Machine Learning\\docs\\employee.xlsx', sheet_name = 2)\n",
    "df = pd.concat([sheet1, sheet2, sheet3])\n",
    "print(df)"
   ]
  },
  {
   "cell_type": "code",
   "execution_count": null,
   "metadata": {},
   "outputs": [],
   "source": [
    "Q 122. Write a pandas program to import three datasheets from a given excel data (employee.xlsx ) into a single data frame and export the result into new Excel file.\n",
    "Note: Structure of three datasheets are same."
   ]
  },
  {
   "cell_type": "code",
   "execution_count": 11,
   "metadata": {},
   "outputs": [],
   "source": [
    "import pandas as pd\n",
    "sheet1 = pd.read_excel('D:\\Machine Learning\\docs\\employee.xlsx', sheet_name = 0)\n",
    "sheet2 = pd.read_excel('D:\\Machine Learning\\docs\\employee.xlsx', sheet_name = 1)\n",
    "sheet3= pd.read_excel('D:\\Machine Learning\\docs\\employee.xlsx', sheet_name = 2)\n",
    "df = pd.concat([sheet1, sheet2, sheet3])\n",
    "df.to_excel('D:\\Machine Learning\\docs\\employee_Output.xlsx', index = False)"
   ]
  },
  {
   "cell_type": "code",
   "execution_count": null,
   "metadata": {},
   "outputs": [],
   "source": [
    "Q123. Write a pandas program to create the Pivot table with multiple indexes from the data set of the titanic.csv."
   ]
  },
  {
   "cell_type": "code",
   "execution_count": 26,
   "metadata": {},
   "outputs": [
    {
     "name": "stdout",
     "output_type": "stream",
     "text": [
      "              Unnamed: 15  adult_male  alone      fare  parch  pclass  sibsp  \\\n",
      "sex    age                                                                     \n",
      "female 0.75           0.0         0.0    0.0   38.5166      2       6      4   \n",
      "       1.00           0.0         0.0    0.0   26.8750      3       6      1   \n",
      "       2.00           0.0         0.0    0.0  259.4750      9      15      9   \n",
      "       3.00           0.0         0.0    0.0   62.6542      3       5      4   \n",
      "       4.00           0.0         0.0    0.0  114.1417      6      13      4   \n",
      "...                   ...         ...    ...       ...    ...     ...    ...   \n",
      "male   70.00          0.0         2.0    1.0   81.5000      1       3      1   \n",
      "       70.50          0.0         1.0    1.0    7.7500      0       3      0   \n",
      "       71.00          0.0         2.0    2.0   84.1584      0       2      0   \n",
      "       74.00          0.0         1.0    1.0    7.7750      0       3      0   \n",
      "       80.00          0.0         1.0    1.0   30.0000      0       1      0   \n",
      "\n",
      "              survived  \n",
      "sex    age              \n",
      "female 0.75          2  \n",
      "       1.00          2  \n",
      "       2.00          2  \n",
      "       3.00          1  \n",
      "       4.00          5  \n",
      "...                ...  \n",
      "male   70.00         0  \n",
      "       70.50         0  \n",
      "       71.00         0  \n",
      "       74.00         0  \n",
      "       80.00         1  \n",
      "\n",
      "[145 rows x 8 columns]\n"
     ]
    }
   ],
   "source": [
    "import pandas as pd\n",
    "import numpy as np\n",
    "df = pd.read_csv(\"D:\\\\Machine Learning\\\\docs\\\\titanic.csv\")\n",
    "df1 = pd.pivot_table(df, index = [\"sex\", \"age\"], aggfunc = np.sum)\n",
    "print(df1)"
   ]
  },
  {
   "cell_type": "code",
   "execution_count": null,
   "metadata": {},
   "outputs": [],
   "source": [
    "Q124. Write a Pandas program to create the Pivot table and find survival rate by gender?"
   ]
  },
  {
   "cell_type": "code",
   "execution_count": 31,
   "metadata": {},
   "outputs": [
    {
     "name": "stdout",
     "output_type": "stream",
     "text": [
      "class      First    Second     Third\n",
      "sex                                 \n",
      "female  0.968085  0.921053  0.500000\n",
      "male    0.368852  0.157407  0.135447\n"
     ]
    }
   ],
   "source": [
    "import pandas as pd\n",
    "import numpy as np\n",
    "df = pd.read_csv('D:\\\\Machine Learning\\\\docs\\\\titanic.csv')\n",
    "df1 = df.pivot_table('survived', index = [\"sex\"], columns='class')\n",
    "print(df1)"
   ]
  },
  {
   "cell_type": "code",
   "execution_count": null,
   "metadata": {},
   "outputs": [],
   "source": [
    "Q125. Write a pandas program to make partition each of the passengers into 4 categories based on their age.\n",
    "Note: Age categories- (0, 10), (10, 30), (30, 60), (60, 80)"
   ]
  },
  {
   "cell_type": "code",
   "execution_count": 36,
   "metadata": {},
   "outputs": [
    {
     "name": "stdout",
     "output_type": "stream",
     "text": [
      "0      (10.0, 30.0]\n",
      "1      (30.0, 60.0]\n",
      "2      (10.0, 30.0]\n",
      "3      (30.0, 60.0]\n",
      "4      (30.0, 60.0]\n",
      "           ...     \n",
      "886    (10.0, 30.0]\n",
      "887    (10.0, 30.0]\n",
      "888             NaN\n",
      "889    (10.0, 30.0]\n",
      "890    (30.0, 60.0]\n",
      "Name: age, Length: 891, dtype: category\n",
      "Categories (4, interval[int64]): [(0, 10] < (10, 30] < (30, 60] < (60, 80]]\n"
     ]
    }
   ],
   "source": [
    "import pandas as pd\n",
    "df = pd.read_csv('D:\\\\Machine Learning\\\\docs\\\\titanic.csv')\n",
    "age = pd.cut(df['age'], [0,10,30,60,80])\n",
    "print(age)"
   ]
  },
  {
   "cell_type": "code",
   "execution_count": null,
   "metadata": {},
   "outputs": [],
   "source": [
    "Q126. Write a pandas program to create the Pivot table and find survival rate by the gender, \n",
    "age of the different categories of various classes."
   ]
  },
  {
   "cell_type": "code",
   "execution_count": 35,
   "metadata": {},
   "outputs": [
    {
     "name": "stdout",
     "output_type": "stream",
     "text": [
      "class               First    Second     Third\n",
      "sex    age                                   \n",
      "female (0, 10]   0.000000  1.000000  0.500000\n",
      "       (10, 20]  1.000000  1.000000  0.520000\n",
      "       (20, 30]  0.952381  0.892857  0.500000\n",
      "       (30, 40]  1.000000  0.941176  0.428571\n",
      "       (40, 50]  0.923077  0.900000  0.000000\n",
      "male   (0, 10]   1.000000  1.000000  0.363636\n",
      "       (10, 20]  0.400000  0.100000  0.129630\n",
      "       (20, 30]  0.473684  0.000000  0.144330\n",
      "       (30, 40]  0.520000  0.115385  0.142857\n",
      "       (40, 50]  0.375000  0.111111  0.090909\n"
     ]
    }
   ],
   "source": [
    "import pandas as pd\n",
    "df = pd.read_csv('D:\\\\Machine Learning\\\\docs\\\\titanic.csv')\n",
    "age = pd.cut(df['age'], [0,10,20,30,40,50])\n",
    "df1 = df.pivot_table('survived', index = [\"sex\", age], columns='class')\n",
    "print(df1)"
   ]
  },
  {
   "cell_type": "code",
   "execution_count": null,
   "metadata": {},
   "outputs": [],
   "source": [
    "Q127. Write a pandas program to create the Pivot table and calculate number of women and men \"were\" in a particular cabin class."
   ]
  },
  {
   "cell_type": "code",
   "execution_count": 43,
   "metadata": {},
   "outputs": [
    {
     "name": "stdout",
     "output_type": "stream",
     "text": [
      "       Unnamed: 15              adult_male                age               \\\n",
      "class        First Second Third      First Second Third First Second Third   \n",
      "sex                                                                          \n",
      "female           0      0     0         94     76   144    85     74   102   \n",
      "male             0      0     0        122    108   347   101     99   253   \n",
      "\n",
      "       alive  ... pclass sibsp              survived                who  \\\n",
      "class  First  ...  Third First Second Third    First Second Third First   \n",
      "sex           ...                                                         \n",
      "female    94  ...    144    94     76   144       94     76   144    94   \n",
      "male     122  ...    347   122    108   347      122    108   347   122   \n",
      "\n",
      "                     \n",
      "class  Second Third  \n",
      "sex                  \n",
      "female     76   144  \n",
      "male      108   347  \n",
      "\n",
      "[2 rows x 42 columns]\n"
     ]
    }
   ],
   "source": [
    "import pandas as pd\n",
    "df = pd.read_csv('D:\\\\Machine Learning\\\\docs\\\\titanic.csv')\n",
    "df1 = df.pivot_table(index=[\"sex\"], columns = 'class', aggfunc = 'count')\n",
    "print(df1)"
   ]
  },
  {
   "cell_type": "code",
   "execution_count": null,
   "metadata": {},
   "outputs": [],
   "source": [
    "Q128. Write a pandas program to create the Pivot table and separate the gender according to whether they travelled\n",
    "alone or not to get the probability of survival"
   ]
  },
  {
   "cell_type": "code",
   "execution_count": 47,
   "metadata": {},
   "outputs": [
    {
     "name": "stdout",
     "output_type": "stream",
     "text": [
      "class            First    Second     Third\n",
      "sex    alone                              \n",
      "female False  0.966667  0.931818  0.416667\n",
      "       True   0.970588  0.906250  0.616667\n",
      "male   False  0.425532  0.277778  0.180723\n",
      "       True   0.333333  0.097222  0.121212\n"
     ]
    }
   ],
   "source": [
    "import pandas as pd\n",
    "df = pd.read_csv('D:\\\\Machine Learning\\\\docs\\\\titanic.csv')\n",
    "df1 = df.pivot_table('survived', index=[\"sex\", \"alone\"], columns = 'class')\n",
    "print(df1)"
   ]
  },
  {
   "cell_type": "code",
   "execution_count": null,
   "metadata": {},
   "outputs": [],
   "source": [
    "Q129. Write a pandas program to create the Pivot table and find the probability of survival by class, gender, solo boarding, \n",
    "and the port of embarkation."
   ]
  },
  {
   "cell_type": "code",
   "execution_count": 52,
   "metadata": {},
   "outputs": [
    {
     "name": "stdout",
     "output_type": "stream",
     "text": [
      "embark_town  Cherbourg                     Queenstown                   \\\n",
      "class            First    Second     Third      First Second     Third   \n",
      "sex    alone                                                             \n",
      "female False  1.000000  1.000000  0.611111        1.0    NaN  0.625000   \n",
      "       True   0.944444  1.000000  0.800000        NaN    1.0  0.760000   \n",
      "male   False  0.473684  0.166667  0.500000        0.0    NaN  0.100000   \n",
      "       True   0.347826  0.250000  0.151515        NaN    0.0  0.068966   \n",
      "\n",
      "embark_town  Southampton                      \n",
      "class              First    Second     Third  \n",
      "sex    alone                                  \n",
      "female False    0.941176  0.923077  0.327586  \n",
      "       True     1.000000  0.892857  0.466667  \n",
      "male   False    0.407407  0.300000  0.142857  \n",
      "       True     0.326923  0.089552  0.123762  \n"
     ]
    }
   ],
   "source": [
    "import pandas as pd\n",
    "df = pd.read_csv('D:\\\\Machine Learning\\\\docs\\\\titanic.csv')\n",
    "df1 = df.pivot_table('survived', index = ['sex', 'alone'], columns = ['embark_town', 'class'])\n",
    "print(df1)"
   ]
  },
  {
   "cell_type": "code",
   "execution_count": null,
   "metadata": {},
   "outputs": [],
   "source": [
    "Q130. Write a pandas program to get current date, oldest date and number of days between Current date \n",
    "and the oldest date of Ufo dataset."
   ]
  },
  {
   "cell_type": "code",
   "execution_count": 101,
   "metadata": {},
   "outputs": [
    {
     "name": "stdout",
     "output_type": "stream",
     "text": [
      "Original Dataframe:\n",
      "             Date_time                  city state/province country UFO_shape  \\\n",
      "0 1910-06-01 15:00:00           wills point             tx      us     cigar   \n",
      "1 1920-06-11 21:00:00                cicero             in      us   unknown   \n",
      "2 1929-07-05 14:00:00  buchanan  (or burns)             or      us      disk   \n",
      "3 1931-06-01 13:00:00               abilene             ks      us      disk   \n",
      "4 1939-06-01 20:00:00              waterloo             al      us  fireball   \n",
      "\n",
      "   length_of_encounter_seconds described_duration_of_encounter  \\\n",
      "0                          120                       2 minutes   \n",
      "1                           60                        1 minute   \n",
      "2                           60                            1min   \n",
      "3                         1800                 30 min. approx.   \n",
      "4                          300                       5 minutes   \n",
      "\n",
      "                                         description date_documented  \\\n",
      "0       Cigar shaped object moving from West to East      04/16/2005   \n",
      "1  ((NUFORC Note:  Probable hoax.  Note date.  PD...      05/12/2009   \n",
      "2  we were traveling east of burns&#44clmbing up ...      08/16/2002   \n",
      "3  This is a what my mother related to me regardi...      02/14/2006   \n",
      "4  4 high school students see bright&#44 ground-l...      02/21/2014   \n",
      "\n",
      "    latitude   longitude  \n",
      "0  32.709167  -96.008056  \n",
      "1  40.123889  -86.013333  \n",
      "2  43.642500 -118.627500  \n",
      "3  38.917222  -97.213611  \n",
      "4  34.918056  -88.064167  \n",
      "Current data :\n",
      " 2004-12-08 05:30:00\n",
      "Oldest date :\n",
      " 1910-06-01 15:00:00\n",
      "Number of days between current and oldest date are :  34523\n"
     ]
    }
   ],
   "source": [
    "import pandas as pd\n",
    "df = pd.read_csv(r'D:\\\\Machine Learning\\\\docs\\\\ufo.csv')\n",
    "df['Date_time'] = df['Date_time'].astype('datetime64[ns]')\n",
    "print(\"Original Dataframe:\\n\", df.head())\n",
    "print(\"Current data :\\n\", df.Date_time.max())\n",
    "print(\"Oldest date :\\n\", df.Date_time.min())\n",
    "print(\"Number of days between current and oldest date are : \", (df.Date_time.max() - df.Date_time.min()).days)"
   ]
  },
  {
   "cell_type": "code",
   "execution_count": null,
   "metadata": {},
   "outputs": [],
   "source": [
    "Q131. Write a pandas program to get all sighting days of the unidentified flying object (ufo) between 1950-10-10 and 1960-10- 10."
   ]
  },
  {
   "cell_type": "code",
   "execution_count": 103,
   "metadata": {},
   "outputs": [
    {
     "name": "stdout",
     "output_type": "stream",
     "text": [
      "Original data :              Date_time                  city state/province country UFO_shape  \\\n",
      "0 1910-06-01 15:00:00           wills point             tx      us     cigar   \n",
      "1 1920-06-11 21:00:00                cicero             in      us   unknown   \n",
      "2 1929-07-05 14:00:00  buchanan  (or burns)             or      us      disk   \n",
      "3 1931-06-01 13:00:00               abilene             ks      us      disk   \n",
      "4 1939-06-01 20:00:00              waterloo             al      us  fireball   \n",
      "\n",
      "   length_of_encounter_seconds described_duration_of_encounter  \\\n",
      "0                          120                       2 minutes   \n",
      "1                           60                        1 minute   \n",
      "2                           60                            1min   \n",
      "3                         1800                 30 min. approx.   \n",
      "4                          300                       5 minutes   \n",
      "\n",
      "                                         description date_documented  \\\n",
      "0       Cigar shaped object moving from West to East      04/16/2005   \n",
      "1  ((NUFORC Note:  Probable hoax.  Note date.  PD...      05/12/2009   \n",
      "2  we were traveling east of burns&#44clmbing up ...      08/16/2002   \n",
      "3  This is a what my mother related to me regardi...      02/14/2006   \n",
      "4  4 high school students see bright&#44 ground-l...      02/21/2014   \n",
      "\n",
      "    latitude   longitude  \n",
      "0  32.709167  -96.008056  \n",
      "1  40.123889  -86.013333  \n",
      "2  43.642500 -118.627500  \n",
      "3  38.917222  -97.213611  \n",
      "4  34.918056  -88.064167  \n",
      "Sighting days of unidentified flying objects : \n",
      "              Date_time                           city state/province country  \\\n",
      "29 1950-06-01 16:00:00                   philadelphia             ms      us   \n",
      "30 1950-06-01 20:00:00                     pittsburgh             pa      us   \n",
      "31 1950-08-01 04:00:00                     louisville             ky      us   \n",
      "32 1950-10-01 11:00:00                      pikeville             ky      us   \n",
      "33 1951-06-01 07:00:00               brandon (canada)             mb      ca   \n",
      "34 1951-07-01 03:00:00                  otis orchards             wa      us   \n",
      "35 1951-02-03 22:00:00                  thompsonville             ct      us   \n",
      "36 1951-06-03 13:00:00                         jasper             nc      us   \n",
      "37 1952-07-01 15:00:00                         sebeka             mn      us   \n",
      "38 1952-07-01 22:00:00                        detroit             mi      us   \n",
      "39 1952-08-01 21:30:00                          tampa             fl      us   \n",
      "40 1952-10-01 12:00:00                    kansas city             mo      us   \n",
      "41 1953-04-01 15:00:00                      haverhill             ma      us   \n",
      "42 1953-04-01 18:00:00                      cambridge             ma      us   \n",
      "43 1953-07-01 05:30:00  colorado springs (mtsn nw of)             co      us   \n",
      "44 1953-08-01 12:00:00                       berkeley             mo      us   \n",
      "45 1954-02-01 02:00:00                      fairbanks             ak      us   \n",
      "46 1954-06-01 00:00:00                        houston             tx      us   \n",
      "47 1954-06-01 06:00:00                           ovid             ny      us   \n",
      "48 1954-06-01 08:00:00  springfield (rural area near)             il      us   \n",
      "49 1955-05-01 15:00:00                       holbrook             ma      us   \n",
      "50 1955-06-01 02:00:00                         bagley             mn      us   \n",
      "51 1955-06-01 15:29:00                     cincinnati             oh      us   \n",
      "52 1955-06-01 17:00:00           martinez (outskirts)             ca      us   \n",
      "53 1956-01-01 05:30:00                        weirton             wv      us   \n",
      "54 1956-03-01 13:00:00                       petaluma             ca      us   \n",
      "55 1956-05-01 12:00:00                         canton             oh      us   \n",
      "56 1956-06-01 19:00:00                         belton             mo      us   \n",
      "57 1957-01-01 21:00:00                         dallas             tx      us   \n",
      "58 1957-05-01 12:00:00                         canton             oh      us   \n",
      "59 1957-06-01 10:00:00                        el paso             tx      us   \n",
      "60 1957-06-01 20:00:00                    glens falls             ny      us   \n",
      "61 1958-01-01 22:00:00                            pep             tx      us   \n",
      "62 1958-06-01 02:00:00                      middlesex             nc      us   \n",
      "63 1958-06-01 19:00:00                  san francisco             ca      us   \n",
      "64 1958-06-01 21:00:00          new york city (bronx)             ny      us   \n",
      "65 1959-04-01 01:00:00                          miami             fl      us   \n",
      "66 1959-05-01 18:30:00                       columbus             oh      us   \n",
      "67 1959-06-01 12:00:00                         orange             ct      us   \n",
      "68 1959-06-01 18:30:00                         sidney             oh      us   \n",
      "69 1960-02-01 22:15:00                       st. paul             mn      us   \n",
      "70 1960-02-01 23:00:00                       hartwell             ga      us   \n",
      "71 1960-04-01 21:00:00                        houston             tx      us   \n",
      "72 1960-05-01 20:00:00                         tucson             az      us   \n",
      "\n",
      "   UFO_shape  length_of_encounter_seconds described_duration_of_encounter  \\\n",
      "29      disk                          600             ten minutes or less   \n",
      "30      oval                         1500                   20/25 minutes   \n",
      "31     other                           60                        1 minute   \n",
      "32      disk                          600                              hr   \n",
      "33      disk                         1800                      30 minutes   \n",
      "34      disk                          120                      ~2 minutes   \n",
      "35      disk                           30                      30 seconds   \n",
      "36      oval                          300                       5 minutes   \n",
      "37     other                         1800                          30 min   \n",
      "38    sphere                          300                       5 minutes   \n",
      "39      oval                         9000                  2 hrs. 30 min.   \n",
      "40      disk                           90                         90 sec.   \n",
      "41   chevron                            2                         seconds   \n",
      "42    sphere                          180                       3 minutes   \n",
      "43      disk                           10                      10 seconds   \n",
      "44  fireball                          300                       5 minutes   \n",
      "45   unknown                         1140                         19 min.   \n",
      "46      disk                          180                     2-3 minutes   \n",
      "47      disk                          600                         10 min.   \n",
      "48  cylinder                          600                      5-10 mins.   \n",
      "49       egg                           60                        1 minute   \n",
      "50    circle                         7200                         2 hours   \n",
      "51      disk                          120               approx. 1-1/2 min   \n",
      "52    circle                         1800                      30 minutes   \n",
      "53      disk                           10                      10 seconds   \n",
      "54      oval                         1800                      30 minutes   \n",
      "55     cigar                          120                       2 minutes   \n",
      "56     other                          600                          10min.   \n",
      "57   unknown                           20                      20 seconds   \n",
      "58     cigar                          180                       3 minutes   \n",
      "59      disk                            7                  5 to 7 seconds   \n",
      "60      disk                          240                         3or4min   \n",
      "61  fireball                            2                            2sec   \n",
      "62    circle                         3600                          1 hour   \n",
      "63      oval                          120                       2 minutes   \n",
      "64      oval                           10                      10 seconds   \n",
      "65    sphere                         2700                   30-45 minutes   \n",
      "66     light                          180                         2-3 min   \n",
      "67  cylinder                         3600                         1 hour?   \n",
      "68     light                          300                       5 minutes   \n",
      "69     cigar                            3                       3 seconds   \n",
      "70     cigar                           45         approx 30 to 45 seconds   \n",
      "71     other                          300                      <5 minutes   \n",
      "72     light                          300                     4-5 minutes   \n",
      "\n",
      "                                          description date_documented  \\\n",
      "29  Childhood sighting of disk witnessed by mother...      03/12/2008   \n",
      "30  One larger white object &amp; 2 smaller round ...      02/14/2006   \n",
      "31  In 1953&#44 at the age of 3 years old I was Co...      10/19/2011   \n",
      "32        SEVENTY SOME  FLYING DISK OBSERVED IN  1950      04/16/2005   \n",
      "33  Circular Craft and Man in Black Sighted in Sum...      02/18/2001   \n",
      "34  Cigar shaped Disc darting back and forth (East...      12/23/2013   \n",
      "35  A golden-orange glowing bowl&#44 flat on top&#...      07/25/2004   \n",
      "36  MIDDAY OVAL SHAPE&#44 ANITQUE COLOR OBJECT SIT...      06/20/2005   \n",
      "37  Silver donut shape object sighted over rural M...      12/12/2011   \n",
      "38  object sits stationary for 5 minutes and then ...      10/31/2003   \n",
      "39  Triangulation radar fix (USAF&#44 civil&#44 Na...      12/02/2000   \n",
      "40  1952 daylight sighting of multiple discs in fo...      10/31/2008   \n",
      "41                Historical account&#44 Haverhill MA      09/02/2005   \n",
      "42  Two red-orange lights skirted Boston rooftops ...      07/14/2013   \n",
      "43  Absolutely huge UFO hovered 40 feet above hous...      07/25/2004   \n",
      "44    Early 50&#39s sighting in Berkeley&#44 Missouri      01/22/2004   \n",
      "45  RADAR INTERCEPT OF UFO BY USAF PILOT IN ALASKA...      01/10/2009   \n",
      "46  I fulfilled my duty by passing on an unusual a...      06/12/2008   \n",
      "47  I saw two silver/gray objects of different sha...      12/05/2001   \n",
      "48  This happened many years ago when I was a chil...      12/02/2000   \n",
      "49  I turned around and over the trees was a large...      04/16/2005   \n",
      "50  I was 5 years old at the time&#44 family of 4 ...      05/24/1999   \n",
      "51  June 1955.  Bronze saucer/cylindrical craft; a...      06/18/2003   \n",
      "52  We observed a large object aprox.size &quot;fo...      02/16/2000   \n",
      "53  My Uncle Sam was driving to work very early on...      01/07/2000   \n",
      "54  Objects were several thousand feet in altitude...      01/28/1999   \n",
      "55  At first the silver disc was stationary. As it...      09/15/2005   \n",
      "56  THE EVENT WAS A PERSONAL CONTACT WITH AN ALIEN...      01/28/1999   \n",
      "57  I was flying the first of 4 USAF aircraft on a...      08/24/2004   \n",
      "58  Cigar shaped object is motionless for more tha...      04/27/2004   \n",
      "59  The UFO did not make any sounds.  The craft&#3...      07/26/2002   \n",
      "60  there was no mistakeing what i was looking at ...      12/02/2000   \n",
      "61  Green fire balls&#44 Texas Panhandle&#44 late ...      12/12/2009   \n",
      "62                               white glowing lights      03/11/2006   \n",
      "63  A low flying huge silver flying saucer positio...      10/31/2003   \n",
      "64  7 brightly illuminated elliptical discs racing...      04/16/2005   \n",
      "65  1959 childhood encounter with a spherical&#44 ...      02/14/2008   \n",
      "66  Red-orange lights over seen motionless over Lo...      02/22/2002   \n",
      "67  Sighted craft and transport of object to the g...      03/19/2009   \n",
      "68  Saw a bright light shining down.  Pulled over ...      04/27/2007   \n",
      "69  A cigar-shaped UFO glided down towards the ear...      03/16/2000   \n",
      "70  My father explained an event of a large cigar-...      04/16/2005   \n",
      "71  Sharp right angle turn in flight direction aft...      12/19/2003   \n",
      "72  Lights only&#44 no sound&#44 moving across the...      09/02/2005   \n",
      "\n",
      "     latitude   longitude  \n",
      "29  32.771389  -89.116667  \n",
      "30  40.440556  -79.996111  \n",
      "31  38.254167  -85.759444  \n",
      "32  37.479167  -82.518889  \n",
      "33  49.833333  -99.950000  \n",
      "34  47.700556 -117.105278  \n",
      "35  41.996944  -72.599444  \n",
      "36  35.201389  -77.206944  \n",
      "37  46.630000  -95.088611  \n",
      "38  42.331389  -83.045833  \n",
      "39  27.947222  -82.458611  \n",
      "40  39.099722  -94.578333  \n",
      "41  42.776111  -71.077778  \n",
      "42  42.375000  -71.106111  \n",
      "43  38.833889 -104.820833  \n",
      "44  38.754444  -90.331111  \n",
      "45  64.837778 -147.716389  \n",
      "46  29.763056  -95.363056  \n",
      "47  42.676389  -76.823333  \n",
      "48  39.801667  -89.643611  \n",
      "49  42.155000  -71.009167  \n",
      "50  47.521667  -95.398056  \n",
      "51  39.161944  -84.456944  \n",
      "52  38.019444 -122.133056  \n",
      "53  40.418889  -80.589722  \n",
      "54  38.232500 -122.635556  \n",
      "55  40.798889  -81.378611  \n",
      "56  38.811944  -94.531667  \n",
      "57  32.783333  -96.800000  \n",
      "58  40.798889  -81.378611  \n",
      "59  31.758611 -106.486389  \n",
      "60  43.309444  -73.644444  \n",
      "61  33.816111 -102.557778  \n",
      "62  35.790000  -78.204167  \n",
      "63  37.775000 -122.418333  \n",
      "64  40.714167  -74.006389  \n",
      "65  25.773889  -80.193889  \n",
      "66  39.961111  -82.998889  \n",
      "67  41.278333  -73.026111  \n",
      "68  40.284167  -84.155556  \n",
      "69  44.944444  -93.093056  \n",
      "70  34.352778  -82.932222  \n",
      "71  29.763056  -95.363056  \n",
      "72  32.221667 -110.925833  \n"
     ]
    }
   ],
   "source": [
    "import pandas as pd\n",
    "df = pd.read_csv(r'D:\\\\Machine Learning\\\\docs\\\\ufo.csv')\n",
    "df['Date_time'] = df['Date_time'].astype('datetime64[ns]')\n",
    "print(\"Original data : \", df.head())\n",
    "print(\"Sighting days of unidentified flying objects : \\n\", df[(df['Date_time'] >= '1950-01-01 00:00:00') & (df['Date_time'] <= '1960-12-31 00:00:00')])"
   ]
  },
  {
   "cell_type": "code",
   "execution_count": null,
   "metadata": {},
   "outputs": [],
   "source": [
    "Q132. Write a Pandas program to extract the year, month, day, hour, minute, second, and weekday from \n",
    "unidentified flying object (UFO) reporting date."
   ]
  },
  {
   "cell_type": "code",
   "execution_count": 114,
   "metadata": {},
   "outputs": [
    {
     "name": "stdout",
     "output_type": "stream",
     "text": [
      "Original DataFrame :              Date_time                  city state/province country UFO_shape  \\\n",
      "0 1910-06-01 15:00:00           wills point             tx      us     cigar   \n",
      "1 1920-06-11 21:00:00                cicero             in      us   unknown   \n",
      "2 1929-07-05 14:00:00  buchanan  (or burns)             or      us      disk   \n",
      "3 1931-06-01 13:00:00               abilene             ks      us      disk   \n",
      "4 1939-06-01 20:00:00              waterloo             al      us  fireball   \n",
      "\n",
      "   length_of_encounter_seconds described_duration_of_encounter  \\\n",
      "0                          120                       2 minutes   \n",
      "1                           60                        1 minute   \n",
      "2                           60                            1min   \n",
      "3                         1800                 30 min. approx.   \n",
      "4                          300                       5 minutes   \n",
      "\n",
      "                                         description date_documented  \\\n",
      "0       Cigar shaped object moving from West to East      04/16/2005   \n",
      "1  ((NUFORC Note:  Probable hoax.  Note date.  PD...      05/12/2009   \n",
      "2  we were traveling east of burns&#44clmbing up ...      08/16/2002   \n",
      "3  This is a what my mother related to me regardi...      02/14/2006   \n",
      "4  4 high school students see bright&#44 ground-l...      02/21/2014   \n",
      "\n",
      "    latitude   longitude  \n",
      "0  32.709167  -96.008056  \n",
      "1  40.123889  -86.013333  \n",
      "2  43.642500 -118.627500  \n",
      "3  38.917222  -97.213611  \n",
      "4  34.918056  -88.064167  \n",
      "\n",
      "Year:  0    1910\n",
      "1    1920\n",
      "2    1929\n",
      "3    1931\n",
      "4    1939\n",
      "Name: Date_time, dtype: int64\n",
      "\n",
      "Month: \n",
      " 0    6\n",
      "1    6\n",
      "2    7\n",
      "3    6\n",
      "4    6\n",
      "Name: Date_time, dtype: int64\n",
      "\\Day: \n",
      " 0     1\n",
      "1    11\n",
      "2     5\n",
      "3     1\n",
      "4     1\n",
      "Name: Date_time, dtype: int64\n",
      "\n",
      "Hour: \n",
      " 0    15\n",
      "1    21\n",
      "2    14\n",
      "3    13\n",
      "4    20\n",
      "Name: Date_time, dtype: int64\n",
      "\n",
      "Minute: \n",
      " 0    0\n",
      "1    0\n",
      "2    0\n",
      "3    0\n",
      "4    0\n",
      "Name: Date_time, dtype: int64\n",
      "\n",
      "second: \n",
      " 0    0\n",
      "1    0\n",
      "2    0\n",
      "3    0\n",
      "4    0\n",
      "Name: Date_time, dtype: int64\n",
      "\n",
      "Weekday: \n",
      " 0    Wednesday\n",
      "1       Friday\n",
      "2       Friday\n",
      "3       Monday\n",
      "4     Thursday\n",
      "Name: Date_time, dtype: object\n"
     ]
    }
   ],
   "source": [
    "import pandas as pd\n",
    "df = pd.read_csv(r'D:\\\\Machine Learning\\\\docs\\\\ufo.csv')\n",
    "df['Date_time'] = df['Date_time'].astype('datetime64[ns]')\n",
    "print(\"Original DataFrame : \", df.head())\n",
    "print(\"\\nYear: \", df.Date_time.dt.year.head())\n",
    "print(\"\\nMonth: \\n\", df.Date_time.dt.month.head())\n",
    "print(\"\\Day: \\n\", df.Date_time.dt.day.head())\n",
    "print(\"\\nHour: \\n\", df.Date_time.dt.hour.head())\n",
    "print(\"\\nMinute: \\n\", df.Date_time.dt.minute.head())\n",
    "print(\"\\nsecond: \\n\", df.Date_time.dt.second.head())\n",
    "print(\"\\nWeekday: \\n\", df.Date_time.dt.weekday_name.head())"
   ]
  },
  {
   "cell_type": "code",
   "execution_count": null,
   "metadata": {},
   "outputs": [],
   "source": [
    "Q133. Write a pandas program to count year-country wise frequency of reporting dates of the unidentified flying object(UFO)."
   ]
  },
  {
   "cell_type": "code",
   "execution_count": 115,
   "metadata": {},
   "outputs": [
    {
     "name": "stdout",
     "output_type": "stream",
     "text": [
      "Original Datafram :              Date_time                  city state/province country UFO_shape  \\\n",
      "0 1910-06-01 15:00:00           wills point             tx      us     cigar   \n",
      "1 1920-06-11 21:00:00                cicero             in      us   unknown   \n",
      "2 1929-07-05 14:00:00  buchanan  (or burns)             or      us      disk   \n",
      "3 1931-06-01 13:00:00               abilene             ks      us      disk   \n",
      "4 1939-06-01 20:00:00              waterloo             al      us  fireball   \n",
      "\n",
      "   length_of_encounter_seconds described_duration_of_encounter  \\\n",
      "0                          120                       2 minutes   \n",
      "1                           60                        1 minute   \n",
      "2                           60                            1min   \n",
      "3                         1800                 30 min. approx.   \n",
      "4                          300                       5 minutes   \n",
      "\n",
      "                                         description date_documented  \\\n",
      "0       Cigar shaped object moving from West to East      04/16/2005   \n",
      "1  ((NUFORC Note:  Probable hoax.  Note date.  PD...      05/12/2009   \n",
      "2  we were traveling east of burns&#44clmbing up ...      08/16/2002   \n",
      "3  This is a what my mother related to me regardi...      02/14/2006   \n",
      "4  4 high school students see bright&#44 ground-l...      02/21/2014   \n",
      "\n",
      "    latitude   longitude  \n",
      "0  32.709167  -96.008056  \n",
      "1  40.123889  -86.013333  \n",
      "2  43.642500 -118.627500  \n",
      "3  38.917222  -97.213611  \n",
      "4  34.918056  -88.064167  \n",
      "Year-Country wise frequency of reporting dates of UFO: \n",
      " Year  country\n",
      "1910  us          1\n",
      "1920  us          1\n",
      "1929  us          1\n",
      "1931  us          1\n",
      "1939  us          2\n",
      "                 ..\n",
      "2002  ca          1\n",
      "      us         13\n",
      "2003  us          9\n",
      "2004  ca          1\n",
      "      us          6\n",
      "Length: 79, dtype: int64\n"
     ]
    }
   ],
   "source": [
    "import pandas as pd\n",
    "df = pd.read_csv(r'D:\\\\Machine Learning\\\\docs\\\\ufo.csv')\n",
    "df['Date_time'] = df['Date_time'].astype('datetime64[ns]')\n",
    "print(\"Original Datafram : \", df.head())\n",
    "df['Year'] = df['Date_time'].apply(lambda x : \"%d\" %(x.year))\n",
    "print('Year-Country wise frequency of reporting dates of UFO: \\n',df.groupby(['Year', 'country']).size())"
   ]
  },
  {
   "cell_type": "code",
   "execution_count": null,
   "metadata": {},
   "outputs": [],
   "source": [
    "Q134. Write a pandas program to get the difference (in days) between documented date and reporting date of \n",
    "unidentified flying object (UFO)."
   ]
  },
  {
   "cell_type": "code",
   "execution_count": 116,
   "metadata": {},
   "outputs": [
    {
     "name": "stdout",
     "output_type": "stream",
     "text": [
      "Original DataFrame:              Date_time                  city state/province country UFO_shape  \\\n",
      "0 1910-06-01 15:00:00           wills point             tx      us     cigar   \n",
      "1 1920-06-11 21:00:00                cicero             in      us   unknown   \n",
      "2 1929-07-05 14:00:00  buchanan  (or burns)             or      us      disk   \n",
      "3 1931-06-01 13:00:00               abilene             ks      us      disk   \n",
      "4 1939-06-01 20:00:00              waterloo             al      us  fireball   \n",
      "\n",
      "   length_of_encounter_seconds described_duration_of_encounter  \\\n",
      "0                          120                       2 minutes   \n",
      "1                           60                        1 minute   \n",
      "2                           60                            1min   \n",
      "3                         1800                 30 min. approx.   \n",
      "4                          300                       5 minutes   \n",
      "\n",
      "                                         description date_documented  \\\n",
      "0       Cigar shaped object moving from West to East      2005-04-16   \n",
      "1  ((NUFORC Note:  Probable hoax.  Note date.  PD...      2009-05-12   \n",
      "2  we were traveling east of burns&#44clmbing up ...      2002-08-16   \n",
      "3  This is a what my mother related to me regardi...      2006-02-14   \n",
      "4  4 high school students see bright&#44 ground-l...      2014-02-21   \n",
      "\n",
      "    latitude   longitude  \n",
      "0  32.709167  -96.008056  \n",
      "1  40.123889  -86.013333  \n",
      "2  43.642500 -118.627500  \n",
      "3  38.917222  -97.213611  \n",
      "4  34.918056  -88.064167  \n",
      "Difference between documented date and reporting date of UFO :  0      34652\n",
      "1      32476\n",
      "2      26704\n",
      "3      27286\n",
      "4      27293\n",
      "       ...  \n",
      "342        3\n",
      "343       20\n",
      "344        1\n",
      "345      971\n",
      "346        1\n",
      "Length: 347, dtype: int64\n"
     ]
    }
   ],
   "source": [
    "import pandas as pd\n",
    "df = pd.read_csv(r'D:\\\\Machine Learning\\\\docs\\\\ufo.csv')\n",
    "df['Date_time']= df['Date_time'].astype('datetime64[ns]')\n",
    "df['date_documented'] = df['date_documented'].astype('datetime64[ns]')\n",
    "print('Original DataFrame: ', df.head())\n",
    "\n",
    "print('Difference between documented date and reporting date of UFO : ', (df['date_documented']-df['Date_time']).dt.days)"
   ]
  },
  {
   "cell_type": "code",
   "execution_count": null,
   "metadata": {},
   "outputs": [],
   "source": [
    "Q135. Write a pandas program to generate sequences of fixed- frequency dates and time spans."
   ]
  },
  {
   "cell_type": "code",
   "execution_count": 125,
   "metadata": {},
   "outputs": [
    {
     "name": "stdout",
     "output_type": "stream",
     "text": [
      "Hourly Frequency: \n",
      " DatetimeIndex(['2018-02-01 00:00:00', '2018-02-01 01:00:00',\n",
      "               '2018-02-01 02:00:00', '2018-02-01 03:00:00',\n",
      "               '2018-02-01 04:00:00', '2018-02-01 05:00:00',\n",
      "               '2018-02-01 06:00:00', '2018-02-01 07:00:00',\n",
      "               '2018-02-01 08:00:00', '2018-02-01 09:00:00',\n",
      "               '2018-02-01 10:00:00', '2018-02-01 11:00:00'],\n",
      "              dtype='datetime64[ns]', freq='H')\n",
      "Minutes Frequency:  DatetimeIndex(['2018-02-01 00:00:00', '2018-02-01 00:01:00',\n",
      "               '2018-02-01 00:02:00', '2018-02-01 00:03:00',\n",
      "               '2018-02-01 00:04:00', '2018-02-01 00:05:00',\n",
      "               '2018-02-01 00:06:00', '2018-02-01 00:07:00',\n",
      "               '2018-02-01 00:08:00', '2018-02-01 00:09:00',\n",
      "               '2018-02-01 00:10:00', '2018-02-01 00:11:00'],\n",
      "              dtype='datetime64[ns]', freq='T')\n",
      "Multiple Hourly: \n",
      " DatetimeIndex(['2018-02-01 00:00:00', '2018-02-01 02:00:00',\n",
      "               '2018-02-01 04:00:00', '2018-02-01 06:00:00',\n",
      "               '2018-02-01 08:00:00', '2018-02-01 10:00:00',\n",
      "               '2018-02-01 12:00:00', '2018-02-01 14:00:00',\n",
      "               '2018-02-01 16:00:00', '2018-02-01 18:00:00',\n",
      "               '2018-02-01 20:00:00', '2018-02-01 22:00:00'],\n",
      "              dtype='datetime64[ns]', freq='2H')\n",
      "Multiple Minutes: \n",
      " DatetimeIndex(['2019-02-01 00:00:00', '2019-02-01 00:05:00',\n",
      "               '2019-02-01 00:10:00', '2019-02-01 00:15:00',\n",
      "               '2019-02-01 00:20:00', '2019-02-01 00:25:00',\n",
      "               '2019-02-01 00:30:00', '2019-02-01 00:35:00',\n",
      "               '2019-02-01 00:40:00', '2019-02-01 00:45:00',\n",
      "               '2019-02-01 00:50:00', '2019-02-01 00:55:00'],\n",
      "              dtype='datetime64[ns]', freq='5T')\n",
      "Multple secondly frequency: \n",
      " DatetimeIndex(['2018-03-30', '2018-06-29', '2018-09-28', '2018-12-31',\n",
      "               '2019-03-29', '2019-06-28', '2019-09-30', '2019-12-31',\n",
      "               '2020-03-31', '2020-06-30', '2020-09-30', '2020-12-31'],\n",
      "              dtype='datetime64[ns]', freq='BQ-DEC')\n",
      "Weekly frequency: \n",
      " DatetimeIndex(['2018-02-04', '2018-02-11', '2018-02-18', '2018-02-25',\n",
      "               '2018-03-04', '2018-03-11', '2018-03-18', '2018-03-25',\n",
      "               '2018-04-01', '2018-04-08', '2018-04-15', '2018-04-22'],\n",
      "              dtype='datetime64[ns]', freq='W-SUN')\n",
      "Combine together intraday offsets-1: \n",
      " DatetimeIndex(['2018-02-01 00:00:00', '2018-02-01 02:20:00',\n",
      "               '2018-02-01 04:40:00', '2018-02-01 07:00:00',\n",
      "               '2018-02-01 09:20:00', '2018-02-01 11:40:00',\n",
      "               '2018-02-01 14:00:00', '2018-02-01 16:20:00',\n",
      "               '2018-02-01 18:40:00', '2018-02-01 21:00:00',\n",
      "               '2018-02-01 23:20:00', '2018-02-02 01:40:00'],\n",
      "              dtype='datetime64[ns]', freq='140T')\n",
      "Combine together intraday offsets-2: \n",
      " DatetimeIndex([       '2018-02-01 00:00:00', '2018-02-02 00:00:00.000010',\n",
      "               '2018-02-03 00:00:00.000020', '2018-02-04 00:00:00.000030',\n",
      "               '2018-02-05 00:00:00.000040', '2018-02-06 00:00:00.000050',\n",
      "               '2018-02-07 00:00:00.000060', '2018-02-08 00:00:00.000070',\n",
      "               '2018-02-09 00:00:00.000080', '2018-02-10 00:00:00.000090',\n",
      "               '2018-02-11 00:00:00.000100', '2018-02-12 00:00:00.000110'],\n",
      "              dtype='datetime64[ns]', freq='86400000010U')\n"
     ]
    }
   ],
   "source": [
    "import pandas as pd\n",
    "dt = pd.date_range('2018-02-01', periods=12, freq='H')\n",
    "print('Hourly Frequency: \\n', dt)\n",
    "dt= pd.date_range('2018-02-01', periods=12, freq='min')\n",
    "print('Minutes Frequency: ', dt)\n",
    "dt = pd.date_range('2018-02-01',periods=12, freq='2H')\n",
    "print('Multiple Hourly: \\n', dt)\n",
    "dt = pd.date_range('2019-02-01', periods=12, freq='5min')\n",
    "print('Multiple Minutes: \\n', dt)\n",
    "dt = pd.date_range('2018-02-01', periods=12, freq='BQ')\n",
    "print('Multple secondly frequency: \\n', dt)\n",
    "dt = pd.date_range('2018-02-01', periods=12, freq='w')\n",
    "print('Weekly frequency: \\n', dt)\n",
    "dt = pd.date_range('2018-02-01', periods=12, freq='2h20min')\n",
    "print('Combine together intraday offsets-1: \\n', dt)\n",
    "dt = pd.date_range('2018-02-01', periods=12, freq='1D10U')\n",
    "print('Combine together intraday offsets-2: \\n', dt)"
   ]
  },
  {
   "cell_type": "code",
   "execution_count": null,
   "metadata": {},
   "outputs": [],
   "source": [
    "Q136. Write a pandas program to manipulate and convert date times with timezone information."
   ]
  },
  {
   "cell_type": "code",
   "execution_count": 121,
   "metadata": {},
   "outputs": [
    {
     "name": "stdout",
     "output_type": "stream",
     "text": [
      "orignal :  DatetimeIndex(['2005-07-01 00:00:00+00:00', '2005-07-01 01:00:00+00:00',\n",
      "               '2005-07-01 02:00:00+00:00'],\n",
      "              dtype='datetime64[ns, UTC]', freq='H')\n",
      "\n",
      "Forum GST to America/New_York: DatetimeIndex(['2005-06-30 20:00:00-04:00', '2005-06-30 21:00:00-04:00',\n",
      "               '2005-06-30 22:00:00-04:00'],\n",
      "              dtype='datetime64[ns, America/New_York]', freq='H')\n"
     ]
    }
   ],
   "source": [
    "import pandas as pd\n",
    "dt = pd.date_range('2005-07-01', periods=3, freq='H')\n",
    "dt = dt.tz_localize('UTC')\n",
    "print(\"orignal : \", dt)\n",
    "print(\"\\nForum GST to America/New_York:\", dt.tz_convert('America/New_York'))"
   ]
  },
  {
   "cell_type": "code",
   "execution_count": null,
   "metadata": {},
   "outputs": [],
   "source": [
    "Q137. Write a pandas program to create the graphical analysis of UFO (unidentified flying object) Sightings year."
   ]
  },
  {
   "cell_type": "code",
   "execution_count": 129,
   "metadata": {},
   "outputs": [
    {
     "name": "stderr",
     "output_type": "stream",
     "text": [
      "C:\\Users\\snj89\\Anaconda3\\lib\\site-packages\\ipykernel_launcher.py:9: FutureWarning: The 'get_values' method is deprecated and will be removed in a future version. Use '.to_numpy()' or '.array' instead.\n",
      "  if __name__ == '__main__':\n"
     ]
    },
    {
     "data": {
      "image/png": "[encoded data removed]",
      "text/plain": [
       "<Figure size 1440x720 with 1 Axes>"
      ]
     },
     "metadata": {
      "needs_background": "light"
     },
     "output_type": "display_data"
    }
   ],
   "source": [
    "import pandas as pd\n",
    "import matplotlib.pyplot as plt\n",
    "import seaborn as sns\n",
    "df = pd.read_csv(r'D:\\\\Machine Learning\\\\docs\\\\ufo.csv')\n",
    "df['Date_time']= df['Date_time'].astype('datetime64[ns]')\n",
    "df['ufo_yr'] = df.Date_time.dt.year\n",
    "years_data = df.ufo_yr.value_counts()\n",
    "years_index = years_data.index\n",
    "years_values = years_data.get_values()\n",
    "plt.figure(figsize=(20,10))\n",
    "plt.xticks(rotation=45)\n",
    "plt.title('UFO sightings by Year')\n",
    "plt.xlabel('Year')\n",
    "plt.ylabel('Number of reports')\n",
    "years_plot = sns.barplot(x=years_index[:60], y=years_values[:60], palette=\"Reds\")"
   ]
  },
  {
   "cell_type": "code",
   "execution_count": null,
   "metadata": {},
   "outputs": [],
   "source": [
    "Q138. Write a pandas program to create a comparison of the top 10 years in which the (UFO) was sighted VS each Month."
   ]
  },
  {
   "cell_type": "code",
   "execution_count": 164,
   "metadata": {},
   "outputs": [
    {
     "name": "stdout",
     "output_type": "stream",
     "text": [
      "Comparision of the top 10 years in which the UFO was sighted\n",
      "Date_time    0    1    2    4    5    6    9   10   11   13   14   15   16  \\\n",
      "Date_time                                                                    \n",
      "1993       1.0  1.0  1.0  NaN  1.0  NaN  NaN  NaN  NaN  1.0  NaN  1.0  NaN   \n",
      "1994       NaN  NaN  NaN  NaN  NaN  NaN  NaN  NaN  NaN  NaN  NaN  NaN  NaN   \n",
      "1995       NaN  NaN  1.0  1.0  NaN  NaN  NaN  NaN  NaN  1.0  NaN  NaN  2.0   \n",
      "1996       NaN  1.0  NaN  NaN  NaN  NaN  NaN  1.0  1.0  1.0  NaN  1.0  NaN   \n",
      "1997       NaN  1.0  NaN  1.0  NaN  NaN  NaN  1.0  NaN  1.0  NaN  NaN  NaN   \n",
      "1998       2.0  1.0  NaN  NaN  1.0  1.0  1.0  NaN  NaN  1.0  NaN  NaN  NaN   \n",
      "1999       2.0  NaN  1.0  NaN  1.0  NaN  NaN  NaN  NaN  NaN  NaN  1.0  1.0   \n",
      "2000       NaN  NaN  1.0  NaN  NaN  NaN  NaN  NaN  NaN  NaN  NaN  NaN  NaN   \n",
      "2001       3.0  1.0  NaN  1.0  NaN  NaN  NaN  NaN  NaN  NaN  1.0  NaN  2.0   \n",
      "2002       NaN  1.0  NaN  NaN  NaN  1.0  NaN  NaN  NaN  NaN  NaN  2.0  1.0   \n",
      "\n",
      "Date_time   17   18   19   20   21   22   23  \n",
      "Date_time                                     \n",
      "1993       NaN  NaN  NaN  2.0  NaN  NaN  4.0  \n",
      "1994       1.0  3.0  NaN  NaN  4.0  2.0  1.0  \n",
      "1995       NaN  NaN  NaN  2.0  1.0  1.0  3.0  \n",
      "1996       2.0  1.0  NaN  1.0  NaN  2.0  1.0  \n",
      "1997       1.0  1.0  1.0  NaN  4.0  1.0  2.0  \n",
      "1998       NaN  NaN  NaN  2.0  2.0  2.0  NaN  \n",
      "1999       NaN  NaN  NaN  NaN  2.0  1.0  2.0  \n",
      "2000       NaN  NaN  2.0  4.0  2.0  2.0  1.0  \n",
      "2001       NaN  NaN  1.0  1.0  5.0  NaN  NaN  \n",
      "2002       1.0  3.0  NaN  2.0  NaN  NaN  3.0  \n"
     ]
    }
   ],
   "source": [
    "import pandas as pd\n",
    "df = pd.read_csv(r'D:\\\\Machine Learning\\\\docs\\\\ufo.csv')\n",
    "df['Date_time'] = df['Date_time'].astype('datetime64[ns]')\n",
    "most_sightings = df['Date_time'].dt.year.value_counts().head(10)\n",
    "def is_top_years(year):\n",
    "    if year in most_sightings.index:\n",
    "        return year\n",
    "hour_vs_year = df.pivot_table(columns=df['Date_time'].dt.hour,index=df['Date_time'].dt.year.apply(is_top_years),aggfunc='count', values='city')\n",
    "hour_vs_year.columns = hour_vs_year.columns.astype(int)\n",
    "hour_vs_year.columns = hour_vs_year.columns.astype(str)\n",
    "hour_vs_year.index = hour_vs_year.index.astype(int)\n",
    "print(\"Comparision of the top 10 years in which the UFO was sighted\")\n",
    "print(hour_vs_year.head(10))"
   ]
  },
  {
   "cell_type": "code",
   "execution_count": 142,
   "metadata": {},
   "outputs": [
    {
     "ename": "SyntaxError",
     "evalue": "invalid syntax (<ipython-input-142-a7aa285b3aa4>, line 1)",
     "output_type": "error",
     "traceback": [
      "\u001b[1;36m  File \u001b[1;32m\"<ipython-input-142-a7aa285b3aa4>\"\u001b[1;36m, line \u001b[1;32m1\u001b[0m\n\u001b[1;33m    Q139. Write a pandas program to create a heatmap (rectangular data as a colour-encoded matrix) for\u001b[0m\n\u001b[1;37m                ^\u001b[0m\n\u001b[1;31mSyntaxError\u001b[0m\u001b[1;31m:\u001b[0m invalid syntax\n"
     ]
    }
   ],
   "source": [
    "Q139. Write a pandas program to create a heatmap (rectangular data as a colour-encoded matrix) for\n",
    "comparison of top 10 years in which (UFO ) was sighted VS each Month."
   ]
  },
  {
   "cell_type": "code",
   "execution_count": 154,
   "metadata": {},
   "outputs": [
    {
     "name": "stdout",
     "output_type": "stream",
     "text": [
      "Heatmap for comparision of the top 10 years in which UFO was sighted each month\n"
     ]
    },
    {
     "data": {
      "image/png": "[encoded data removed]",
      "text/plain": [
       "<Figure size 720x576 with 2 Axes>"
      ]
     },
     "metadata": {
      "needs_background": "light"
     },
     "output_type": "display_data"
    }
   ],
   "source": [
    "import pandas as pd\n",
    "import matplotlib.pyplot as plt\n",
    "import seaborn as sns\n",
    "df = pd.read_csv(r'D:\\Machine Learning\\Docs\\ufo.csv')\n",
    "df['Date_time'] = df['Date_time'].astype('datetime64[ns]')\n",
    "most_sightings = df['Date_time'].dt.year.value_counts().head(10)\n",
    "def is_top_years(year):\n",
    "    if year in most_sightings.index:\n",
    "        return year\n",
    "month_vs_year = df.pivot_table(columns=df['Date_time'].dt.month, index=df['Date_time'].dt.year.apply(is_top_years),aggfunc='count', values='city')\n",
    "month_vs_year.columns = month_vs_year.columns.astype(int)\n",
    "print(\"Heatmap for comparision of the top 10 years in which UFO was sighted each month\")\n",
    "plt.figure(figsize=(10,8))\n",
    "axis= sns.heatmap(month_vs_year, vmin=0, vmax=4)\n",
    "axis.set_xlabel(\"month\").set_size(30)\n",
    "axis.set_ylabel(\"year\").set_size(30)"
   ]
  },
  {
   "cell_type": "code",
   "execution_count": null,
   "metadata": {},
   "outputs": [],
   "source": [
    "Q140. Write a pandas program to create a Timewheel of Hour VS Year comparison of the top 10 years in which the (UFO) was sighted."
   ]
  },
  {
   "cell_type": "code",
   "execution_count": 160,
   "metadata": {},
   "outputs": [
    {
     "name": "stdout",
     "output_type": "stream",
     "text": [
      "Comparision of the top 10 years in which the UFO was sighted every month\n"
     ]
    },
    {
     "name": "stderr",
     "output_type": "stream",
     "text": [
      "C:\\Users\\snj89\\Anaconda3\\lib\\site-packages\\matplotlib\\colors.py:527: RuntimeWarning: invalid value encountered in less\n",
      "  xa[xa < 0] = -1\n"
     ]
    },
    {
     "data": {
      "image/png": "[encoded data removed]",
      "text/plain": [
       "<Figure size 1440x1440 with 1 Axes>"
      ]
     },
     "metadata": {},
     "output_type": "display_data"
    }
   ],
   "source": [
    "import pandas as pd\n",
    "import matplotlib.pyplot as plt\n",
    "import matplotlib as mpl\n",
    "import matplotlib.cm as cm\n",
    "df = pd.read_csv(r'D:\\Machine Learning\\Docs\\ufo.csv')\n",
    "df['Date_time'] = df['Date_time'].astype('datetime64[ns]')\n",
    "most_sightings = df['Date_time'].dt.year.value_counts().head(10)\n",
    "def is_top_years(year):\n",
    "    if year in most_sightings.index:\n",
    "        return year\n",
    "month_vs_year = df.pivot_table(columns=df['Date_time'].dt.month, index=df['Date_time'].dt.year.apply(is_top_years),aggfunc='count',values='city')\n",
    "month_vs_year.index = month_vs_year.index.astype(int)\n",
    "month_vs_year.columns = month_vs_year.columns.astype(int)\n",
    "print(\"Comparision of the top 10 years in which the UFO was sighted every month\")\n",
    "def pie_heatmap(table, cmap='coolwarm_r', vmin=None, vmax=None, inner_r =0.25, pie_args={}):\n",
    "    n, m = table.shape\n",
    "    vmin = table.min().min() if vmin is None else vmin\n",
    "    vmax = table.max().max() if vmax is None else vmax\n",
    "    centre_circle = plt.Circle((0,0), inner_r, edgecolor='black', facecolor='white', fill=True, linewidth=0.25)\n",
    "    plt.gcf().gca().add_artist(centre_circle)\n",
    "    norm = mpl.colors.Normalize(vmin=vmin, vmax=vmax)\n",
    "    cmapper = cm.ScalarMappable(norm=norm, cmap=cmap)\n",
    "    for i, (row_name, row) in enumerate(table.iterrows()):\n",
    "        labels = None if i > 0 else table.columns\n",
    "        wedges = plt.pie([1] * m, radius=inner_r+float(n-i)/n, colors=[cmapper.to_rgba(x) for x in row.values],\n",
    "                        labels=labels, startangle=90, counterclock=False, wedgeprops={'linewidth':-1}, **pie_args)\n",
    "        plt.setp(wedges[0], edgecolor='grey', linewidth=1.5)\n",
    "        wedges = plt.pie([1], radius=inner_r+float(n-i-1)/n, colors=['w'], labels=[row_name], startangle=-90, wedgeprops = {'linewidth':0})\n",
    "        plt.setp(wedges[0], edgecolor='grey', linewidth=1.5)\n",
    "plt.figure(figsize=(20,20))\n",
    "plt.title((\"TimeWheel of hour vs year \"))\n",
    "pie_heatmap(month_vs_year, vmin=-20, vmax=80, inner_r=0.2)"
   ]
  },
  {
   "cell_type": "code",
   "execution_count": null,
   "metadata": {},
   "outputs": [],
   "source": [
    "Q141. Write a python program to draw the line using given axis values with the suitable label in the x-axis, y-axis, and a \n",
    "title."
   ]
  },
  {
   "cell_type": "code",
   "execution_count": 93,
   "metadata": {},
   "outputs": [
    {
     "data": {
      "image/png": "[encoded data removed]",
      "text/plain": [
       "<Figure size 432x288 with 1 Axes>"
      ]
     },
     "metadata": {
      "needs_background": "light"
     },
     "output_type": "display_data"
    }
   ],
   "source": [
    "import matplotlib.pyplot as plt\n",
    "x = [1,2,3]\n",
    "y = [2,4,1]\n",
    "plt.plot(x,y)\n",
    "plt.xlabel('x-axis')\n",
    "plt.ylabel('y-axis')\n",
    "plt.title(\"simple graph\")\n",
    "plt.show()"
   ]
  },
  {
   "cell_type": "code",
   "execution_count": null,
   "metadata": {},
   "outputs": [],
   "source": [
    "Q142. Write a python program to draw the line charts of the financial data of the Alphabet Inc., between October.\n",
    "3, 2016 to October 7 2016. Sample Financial data (fdata.csv)- \n",
    "Date,Open,High,Low,Close 10-03-16,774.25,776.065002,769.5,772.559998 10-04-16 , 776.030029, 778.710022,772.890015,776.429993\n",
    "10-05-16 , 779.309998, 782.070007,775.650024,776.469971 10-06-16 , 779 , 780.47998,775.539978,776.859985 10-07-16,779.659973, \n",
    "779.659973 , 770.75 , 775.080017 \n",
    "The code snippet gives the output shown in the screenshot:"
   ]
  },
  {
   "cell_type": "code",
   "execution_count": 79,
   "metadata": {},
   "outputs": [
    {
     "data": {
      "image/png": "[encoded data removed]",
      "text/plain": [
       "<Figure size 432x288 with 1 Axes>"
      ]
     },
     "metadata": {
      "needs_background": "light"
     },
     "output_type": "display_data"
    }
   ],
   "source": [
    "import matplotlib.pyplot as plt\n",
    "import pandas as pd\n",
    "df = pd.read_csv('D:\\\\Machine Learning\\\\Docs\\\\fdata.csv', sep=',', parse_dates = True, index_col=0)\n",
    "df.plot()\n",
    "plt.show()"
   ]
  },
  {
   "cell_type": "code",
   "execution_count": 78,
   "metadata": {},
   "outputs": [
    {
     "ename": "SyntaxError",
     "evalue": "invalid syntax (<ipython-input-78-f2e4f01a311a>, line 1)",
     "output_type": "error",
     "traceback": [
      "\u001b[1;36m  File \u001b[1;32m\"<ipython-input-78-f2e4f01a311a>\"\u001b[1;36m, line \u001b[1;32m1\u001b[0m\n\u001b[1;33m    Q143. Write a Python program to plot two or more lines on same plot with the suitable legends of each line.\u001b[0m\n\u001b[1;37m                ^\u001b[0m\n\u001b[1;31mSyntaxError\u001b[0m\u001b[1;31m:\u001b[0m invalid syntax\n"
     ]
    }
   ],
   "source": [
    "Q143. Write a Python program to plot two or more lines on same plot with the suitable legends of each line.\n",
    "The code snippet gives the output shown in the screenshot:"
   ]
  },
  {
   "cell_type": "code",
   "execution_count": 74,
   "metadata": {},
   "outputs": [
    {
     "data": {
      "image/png": "[encoded data removed]",
      "text/plain": [
       "<Figure size 432x288 with 1 Axes>"
      ]
     },
     "metadata": {
      "needs_background": "light"
     },
     "output_type": "display_data"
    }
   ],
   "source": [
    "import matplotlib.pyplot as plt\n",
    "x=[10,30,50,70]\n",
    "y=[20,10,30,20]\n",
    "plt.plot(x, y, label = 'plot 1')\n",
    "x1=[20,30,10,70]\n",
    "y1=[10,20,30,40]\n",
    "plt.plot(x1,y1, label='plot2')\n",
    "plt.xlabel('x - axis')\n",
    "plt.ylabel('y - axis')\n",
    "plt.title('Two or more lines on same plot with suitable legends')\n",
    "plt.legend()\n",
    "plt.show()"
   ]
  },
  {
   "cell_type": "code",
   "execution_count": null,
   "metadata": {},
   "outputs": [],
   "source": [
    "Q144. Write a python programming to display a bar chart of the popularity of programming languages.\n",
    "Sample data: programming languages- Java, Python, PHP, JavaScript, C#, C++ Popularity- 22.2, 17.6, 8.8, 8, 7.7 , 6.7\n",
    "    The code snippet gives the output shown in the screenshot:"
   ]
  },
  {
   "cell_type": "code",
   "execution_count": 64,
   "metadata": {},
   "outputs": [
    {
     "data": {
      "image/png": "[encoded data removed]",
      "text/plain": [
       "<Figure size 432x288 with 1 Axes>"
      ]
     },
     "metadata": {
      "needs_background": "light"
     },
     "output_type": "display_data"
    }
   ],
   "source": [
    "import matplotlib.pyplot as plt\n",
    "lang = ['Java', 'Python', 'PHP', 'JavaScript', 'C#', 'C++']\n",
    "popularity = [22.2, 17.6, 8.8, 8, 7.7, 6.7]\n",
    "lang_position = [i for i, _ in enumerate(lang)]\n",
    "plt.bar(lang_position, popularity, color=(0.4,0.6,0.8,1.0))\n",
    "plt.xlabel('Languages')\n",
    "plt.ylabel('popularity')\n",
    "plt.title(\"Popularity of programming languages \\n Worldwide, Oct 2017 compared to -a year ago\")\n",
    "plt.xticks(lang_position, lang)\n",
    "plt.minorticks_on()\n",
    "plt.grid(which='major', linestyle='-', linewidth='0.5', color='b')\n",
    "plt.grid(which='minor', linestyle=':', linewidth='0.5', color='g')\n",
    "plt.subplots_adjust(top=1.0,bottom=0.4)\n",
    "plt.show()"
   ]
  },
  {
   "cell_type": "code",
   "execution_count": null,
   "metadata": {},
   "outputs": [],
   "source": [
    "Q145. Write a python programming to display a horizontal bar chart of the popularity of programming languages.\n",
    "Sample data: programming languages- Java, Python, PHP, JavaScript, C#, C++ Popularity- 22.2, 17.6, 8.8, 8, 7.7 , 6.7\n",
    "    The code snippet gives the output shown in the screenshot:"
   ]
  },
  {
   "cell_type": "code",
   "execution_count": 56,
   "metadata": {},
   "outputs": [
    {
     "data": {
      "image/png": "[encoded data removed]",
      "text/plain": [
       "<Figure size 432x288 with 1 Axes>"
      ]
     },
     "metadata": {
      "needs_background": "light"
     },
     "output_type": "display_data"
    }
   ],
   "source": [
    "import matplotlib.pyplot as plt\n",
    "lang = ['Java', 'Python', 'PHP', 'JavaScript', 'C#', 'C++']\n",
    "popularity = [22.2, 17.6, 8.8, 8, 7.7, 6.7]\n",
    "lang_position = [i for i, _ in enumerate(lang)]\n",
    "plt.barh(lang_position, popularity, color=(0.4,0.6,0.8,1.0))\n",
    "plt.xlabel(\"popularity\")\n",
    "plt.ylabel(\"Languages\")\n",
    "plt.title(\"Popularity of programming languages \\n Worldwide, Oct 2017 compared to a year ago\")\n",
    "plt.yticks(lang_position, lang)\n",
    "plt.minorticks_on()\n",
    "plt.grid(which='major', linestyle='-', linewidth = '0.5', color='g')\n",
    "plt.grid(which='minor', linestyle=':', linewidth='0.5', color='r')\n",
    "plt.subplots_adjust(top=0.8, bottom=0.4)\n",
    "plt.show()"
   ]
  },
  {
   "cell_type": "code",
   "execution_count": null,
   "metadata": {},
   "outputs": [],
   "source": [
    "Q146. Write a python programming to display a bar chart of the Popularity of programming languages. Increase bottom margin.\n",
    "Sample data:programming languages: Java, Python, PHP, JavaScript, C#, C++ Popularity: 22.2, 17.6, 8.8, 8, 7.7 , 6.7 \n",
    "        The code snippet gives the output shown in the screenshot:"
   ]
  },
  {
   "cell_type": "code",
   "execution_count": 47,
   "metadata": {},
   "outputs": [
    {
     "data": {
      "image/png": "[encoded data removed]",
      "text/plain": [
       "<Figure size 432x288 with 1 Axes>"
      ]
     },
     "metadata": {
      "needs_background": "light"
     },
     "output_type": "display_data"
    }
   ],
   "source": [
    "import matplotlib.pyplot as plt\n",
    "lang = ['Java', 'Python', 'PHP', 'JavaScript', 'C#', 'C++']\n",
    "popularity = [22.2, 17.6, 8.8, 8, 7.7, 6.7]\n",
    "lang_position = [i for i, _ in enumerate(lang)]\n",
    "plt.bar(lang_position, popularity, color=(0.4,0.6,0.8,1.0))\n",
    "plt.xlabel(\"Languages\")\n",
    "plt.ylabel(\"Popularity\")\n",
    "plt.title(\"Popularity of the programming languages \")\n",
    "plt.xticks(lang_position, lang)\n",
    "plt.minorticks_on()\n",
    "plt.grid(linestyle=':', linewidth='0.5', which = 'major', color='black')\n",
    "plt.grid(which='minor', linestyle='-', linewidth='0.5', color='g')\n",
    "plt.subplots_adjust(top=0.8, bottom=0.4)\n",
    "plt.show()"
   ]
  },
  {
   "cell_type": "code",
   "execution_count": null,
   "metadata": {},
   "outputs": [],
   "source": [
    "Q147. Write a python program to create the bar plot from a DataFrame.\n",
    "a b c d e 2 4,8,5,7,6 4 2,3,4,2,6 6 4,7,4,7, 8 8 2,6,4,8, 6 10 2,4,3,3, 2\n",
    "The code snippet gives the output shown in the following screenshot:"
   ]
  },
  {
   "cell_type": "code",
   "execution_count": 48,
   "metadata": {},
   "outputs": [
    {
     "data": {
      "image/png": "[encoded data removed]",
      "text/plain": [
       "<Figure size 432x288 with 1 Axes>"
      ]
     },
     "metadata": {
      "needs_background": "light"
     },
     "output_type": "display_data"
    }
   ],
   "source": [
    "import matplotlib.pyplot as plt\n",
    "from pandas import DataFrame\n",
    "import numpy as np\n",
    "a = np.array([[4,8,5,7,6],[2,3,4,2,6],[4,7,4,7,8],[2,6,4,8,6],[2,4,3,3,2]])\n",
    "df = DataFrame(a, columns=['a','b','c','d','e'], index=[2,4,6,8,10])\n",
    "df.plot(kind='bar')\n",
    "plt.minorticks_on()\n",
    "plt.grid(linestyle = 'dotted', which='major', color='yellow')\n",
    "plt.grid(linestyle='dashed', which='minor', color='black')\n",
    "plt.show()"
   ]
  },
  {
   "cell_type": "code",
   "execution_count": null,
   "metadata": {},
   "outputs": [],
   "source": [
    "Q148. Write a python program to draw the scatter plot comparing two subject marks of Mathematics and Science. \n",
    "Use marks of 10 students.\n",
    "Sample data: Test Data- math_marks = [88, 92 , 80, 89, 100, 80, 60, 100, 80, 34] \n",
    "    science_marks = [35, 79, 79 , 48, 100, 88, 32, 45, 20, 30] \n",
    "    marks_range = [10, 20, 30, 40, 50, 60, 70, 80, 90, 100]"
   ]
  },
  {
   "cell_type": "code",
   "execution_count": 49,
   "metadata": {},
   "outputs": [
    {
     "data": {
      "image/png": "[encoded data removed]",
      "text/plain": [
       "<Figure size 432x288 with 1 Axes>"
      ]
     },
     "metadata": {
      "needs_background": "light"
     },
     "output_type": "display_data"
    }
   ],
   "source": [
    "import matplotlib.pyplot as plt\n",
    "math_marks = [88, 92 , 80, 89, 100, 80, 60, 100, 80, 34] \n",
    "science_marks = [35, 79, 79 , 48, 100, 88, 32, 45, 20, 30] \n",
    "marks_range = [10, 20, 30, 40, 50, 60, 70, 80, 90, 100]\n",
    "plt.scatter(marks_range, science_marks, label='science marks', color='b')\n",
    "plt.scatter(marks_range, math_marks, label='Math marks', color='r')\n",
    "plt.title('Mathematics and Science Marks')\n",
    "plt.xlabel('Marks Range') \n",
    "plt.ylabel('subject marks')\n",
    "plt.legend()\n",
    "plt.show()"
   ]
  },
  {
   "cell_type": "code",
   "execution_count": null,
   "metadata": {},
   "outputs": [],
   "source": [
    "Q149. Write a python program to draw the scatter plot for three different groups comparing weights and heights.\n",
    "The output shown in the screenshot:"
   ]
  },
  {
   "cell_type": "code",
   "execution_count": 15,
   "metadata": {},
   "outputs": [
    {
     "data": {
      "image/png": "[encoded data removed]",
      "text/plain": [
       "<Figure size 432x288 with 1 Axes>"
      ]
     },
     "metadata": {
      "needs_background": "light"
     },
     "output_type": "display_data"
    }
   ],
   "source": [
    "import numpy as np\n",
    "import matplotlib.pyplot as plt\n",
    "weight1=[6,7.2,9.6,9.64,5.8,1.2,6.15,11,26.23,16]\n",
    "height1=[11.7,17.6,8.3,15.1,13.7,17.7,16,18.9,15.3,14.9] \n",
    "weight2=[3.9,4,2.1,4.2,2.3,5.4,6.4,6.4,6.5,6.6]\n",
    "height2=[12.8,15.3,13.1,12.2,15.3,13,12.2,19.9,16.1,12.1] \n",
    "weight3=[6.2,6.2,6.4,6.7,7,7.3,7.8,7,1.1,11.7]\n",
    "height3=[15.8,10.9,12.8,15.4,16.4,13.1,16.1,15.1,18.1,17.3]\n",
    "weight = np.concatenate((weight1, weight2, weight3))\n",
    "height = np.concatenate((height1, height2, height3))\n",
    "plt.scatter(weight, height, marker='^')\n",
    "plt.xlabel('weight', fontsize=16)\n",
    "plt.ylabel('height', fontsize=16)\n",
    "plt.title('Scatter plot for three different groups', fontsize=20)\n",
    "plt.show()"
   ]
  },
  {
   "cell_type": "code",
   "execution_count": null,
   "metadata": {},
   "outputs": [],
   "source": [
    "Q150. Write a python program to draw a scatter plot to find sea-level rise in past 100 years.\n",
    "The output shown in the screenshot:"
   ]
  },
  {
   "cell_type": "code",
   "execution_count": 4,
   "metadata": {},
   "outputs": [
    {
     "data": {
      "image/png": "[encoded data removed]",
      "text/plain": [
       "<Figure size 432x288 with 1 Axes>"
      ]
     },
     "metadata": {
      "needs_background": "light"
     },
     "output_type": "display_data"
    }
   ],
   "source": [
    "import pandas as pd\n",
    "import matplotlib.pyplot as plt\n",
    "df = pd.read_csv(r'D:\\\\Machine Learning\\\\Docs\\\\data1.csv')\n",
    "year = df['year']\n",
    "sea_levels = df['CSIRO_sea_level']\n",
    "plt.scatter(year, sea_levels,edgecolors='g')\n",
    "plt.xlabel('Year')\n",
    "plt.ylabel('Sea Level (inches)')\n",
    "plt.title('Rise in Sealevel')\n",
    "plt.show()"
   ]
  },
  {
   "cell_type": "code",
   "execution_count": null,
   "metadata": {},
   "outputs": [],
   "source": []
  }
 ],
 "metadata": {
  "kernelspec": {
   "display_name": "Python 3",
   "language": "python",
   "name": "python3"
  },
  "language_info": {
   "codemirror_mode": {
    "name": "ipython",
    "version": 3
   },
   "file_extension": ".py",
   "mimetype": "text/x-python",
   "name": "python",
   "nbconvert_exporter": "python",
   "pygments_lexer": "ipython3",
   "version": "3.7.4"
  }
 },
 "nbformat": 4,
 "nbformat_minor": 2
}
